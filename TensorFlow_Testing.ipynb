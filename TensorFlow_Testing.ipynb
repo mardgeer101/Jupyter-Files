{
 "cells": [
  {
   "cell_type": "markdown",
   "id": "8c6d6db8-e5ea-4c42-9a1c-8a9113536f16",
   "metadata": {},
   "source": [
    "# Testing what I learn"
   ]
  },
  {
   "cell_type": "markdown",
   "id": "6a940a09-b43f-489c-9ab8-f09fe409e739",
   "metadata": {
    "jp-MarkdownHeadingCollapsed": true
   },
   "source": [
    "### for declaring tensorflow as tf\n",
    "* displaying of tensorflow version"
   ]
  },
  {
   "cell_type": "code",
   "execution_count": 2,
   "id": "5638a2c2-7e57-4620-a2ff-b883e169e7ab",
   "metadata": {},
   "outputs": [
    {
     "name": "stdout",
     "output_type": "stream",
     "text": [
      "WARNING:tensorflow:From C:\\Users\\ACER\\AppData\\Local\\Programs\\Python\\Python311\\Lib\\site-packages\\keras\\src\\losses.py:2976: The name tf.losses.sparse_softmax_cross_entropy is deprecated. Please use tf.compat.v1.losses.sparse_softmax_cross_entropy instead.\n",
      "\n",
      "2.15.0\n"
     ]
    }
   ],
   "source": [
    "import tensorflow as tf\n",
    "print(tf.__version__)"
   ]
  },
  {
   "cell_type": "markdown",
   "id": "44a00315-12d0-403a-b963-541d56e58fcb",
   "metadata": {
    "jp-MarkdownHeadingCollapsed": true
   },
   "source": [
    "### using of tf.constant()\n",
    "1. as scalar - **0** dimension\n",
    "2. as vector - **1** dimension\n",
    "3. as matrix - **2** dimensions\n",
    "4. as tensor - **n** dimensions\n",
    "\n",
    "* using of ndim (number of dimensions)"
   ]
  },
  {
   "cell_type": "code",
   "execution_count": 3,
   "id": "ee93ae69-97c8-422d-97b7-41a0de72158c",
   "metadata": {},
   "outputs": [
    {
     "data": {
      "text/plain": [
       "<tf.Tensor: shape=(), dtype=int32, numpy=5>"
      ]
     },
     "execution_count": 3,
     "metadata": {},
     "output_type": "execute_result"
    }
   ],
   "source": [
    "#as scalar\n",
    "scalar = tf.constant(5)\n",
    "scalar"
   ]
  },
  {
   "cell_type": "code",
   "execution_count": 4,
   "id": "0c031ab2-c1c0-4b67-b6b7-3607909d7ec1",
   "metadata": {},
   "outputs": [
    {
     "data": {
      "text/plain": [
       "0"
      ]
     },
     "execution_count": 4,
     "metadata": {},
     "output_type": "execute_result"
    }
   ],
   "source": [
    "scalar.ndim"
   ]
  },
  {
   "cell_type": "code",
   "execution_count": 5,
   "id": "7986ecd6-4f96-4aea-a478-a24f2ce80bba",
   "metadata": {},
   "outputs": [
    {
     "data": {
      "text/plain": [
       "<tf.Tensor: shape=(2,), dtype=int32, numpy=array([1, 2])>"
      ]
     },
     "execution_count": 5,
     "metadata": {},
     "output_type": "execute_result"
    }
   ],
   "source": [
    "vector = tf.constant([1,2])\n",
    "vector"
   ]
  },
  {
   "cell_type": "code",
   "execution_count": 6,
   "id": "f0d839b6-0b7e-48d9-a7ef-6ed10d5d8c4b",
   "metadata": {},
   "outputs": [
    {
     "data": {
      "text/plain": [
       "1"
      ]
     },
     "execution_count": 6,
     "metadata": {},
     "output_type": "execute_result"
    }
   ],
   "source": [
    "vector.ndim"
   ]
  },
  {
   "cell_type": "code",
   "execution_count": 7,
   "id": "1b9a46de-41cc-4103-a390-847149ea8121",
   "metadata": {},
   "outputs": [
    {
     "data": {
      "text/plain": [
       "<tf.Tensor: shape=(2, 2), dtype=int32, numpy=\n",
       "array([[1, 2],\n",
       "       [3, 4]])>"
      ]
     },
     "execution_count": 7,
     "metadata": {},
     "output_type": "execute_result"
    }
   ],
   "source": [
    "matrix = tf.constant([[1,2],\n",
    "                      [3,4]])\n",
    "matrix"
   ]
  },
  {
   "cell_type": "code",
   "execution_count": 8,
   "id": "6cb91fcb-b95f-4aa9-9039-1dd8db925355",
   "metadata": {},
   "outputs": [
    {
     "data": {
      "text/plain": [
       "2"
      ]
     },
     "execution_count": 8,
     "metadata": {},
     "output_type": "execute_result"
    }
   ],
   "source": [
    "matrix.ndim"
   ]
  },
  {
   "cell_type": "code",
   "execution_count": 9,
   "id": "9a946d9c-d615-4b6b-9e5b-efa38abf2d8d",
   "metadata": {},
   "outputs": [
    {
     "data": {
      "text/plain": [
       "<tf.Tensor: shape=(2, 2, 3), dtype=int32, numpy=\n",
       "array([[[ 1,  2,  3],\n",
       "        [ 4,  5,  6]],\n",
       "\n",
       "       [[ 7,  8,  9],\n",
       "        [10, 11, 12]]])>"
      ]
     },
     "execution_count": 9,
     "metadata": {},
     "output_type": "execute_result"
    }
   ],
   "source": [
    "tensor = tf.constant([\n",
    "    [[1,2,3],\n",
    "     [4,5,6]],\n",
    "    [[7,8,9],\n",
    "     [10,11,12]]\n",
    "])\n",
    "tensor"
   ]
  },
  {
   "cell_type": "code",
   "execution_count": 10,
   "id": "12e79aae-80ea-4c18-b31e-7fc0cb4c2a42",
   "metadata": {},
   "outputs": [
    {
     "data": {
      "text/plain": [
       "3"
      ]
     },
     "execution_count": 10,
     "metadata": {},
     "output_type": "execute_result"
    }
   ],
   "source": [
    "tensor.ndim"
   ]
  },
  {
   "cell_type": "markdown",
   "id": "e50dcd47-e6e9-4360-b2b4-39749eff217e",
   "metadata": {
    "jp-MarkdownHeadingCollapsed": true
   },
   "source": [
    "### using tf.Variable()"
   ]
  },
  {
   "cell_type": "code",
   "execution_count": 11,
   "id": "a7fc4651-8e0d-457f-b584-e8fe2eb5a3cd",
   "metadata": {},
   "outputs": [
    {
     "data": {
      "text/plain": [
       "<tf.Variable 'Variable:0' shape=(2, 3) dtype=int32, numpy=\n",
       "array([[1, 2, 3],\n",
       "       [4, 5, 6]])>"
      ]
     },
     "execution_count": 11,
     "metadata": {},
     "output_type": "execute_result"
    }
   ],
   "source": [
    "variable_tensor = tf.Variable([[1,2,3],[4,5,6]])\n",
    "variable_tensor"
   ]
  },
  {
   "cell_type": "code",
   "execution_count": 12,
   "id": "90b5142c-b7cd-4360-880d-f3b687baf4ea",
   "metadata": {},
   "outputs": [
    {
     "data": {
      "text/plain": [
       "(TensorShape([2, 3]), <tf.Tensor: shape=(), dtype=int32, numpy=6>)"
      ]
     },
     "execution_count": 12,
     "metadata": {},
     "output_type": "execute_result"
    }
   ],
   "source": [
    "variable_tensor.shape, tf.size(variable_tensor)"
   ]
  },
  {
   "cell_type": "code",
   "execution_count": 13,
   "id": "175d17d4-89d0-4170-9a8e-9437fca7456d",
   "metadata": {},
   "outputs": [
    {
     "data": {
      "text/plain": [
       "<tf.Variable 'Variable:0' shape=(2, 3) dtype=int32, numpy=\n",
       "array([[10, 11, 12],\n",
       "       [13, 14, 15]])>"
      ]
     },
     "execution_count": 13,
     "metadata": {},
     "output_type": "execute_result"
    }
   ],
   "source": [
    "variable_tensor.assign([[10,11,12],\n",
    "                       [13,14,15]])\n",
    "variable_tensor"
   ]
  },
  {
   "cell_type": "code",
   "execution_count": 14,
   "id": "0c527264-7f16-4609-a189-4ea63662f7ac",
   "metadata": {},
   "outputs": [
    {
     "data": {
      "text/plain": [
       "<tf.Variable 'Variable:0' shape=(2, 3) dtype=int32, numpy=\n",
       "array([[2, 3, 4],\n",
       "       [5, 6, 7]])>"
      ]
     },
     "execution_count": 14,
     "metadata": {},
     "output_type": "execute_result"
    }
   ],
   "source": [
    "variable_tensor.assign([\n",
    "    [2,3,4],\n",
    "    [5,6,7],\n",
    "])\n",
    "variable_tensor"
   ]
  },
  {
   "cell_type": "markdown",
   "id": "5de5fa30-e498-4b2a-a40f-feb4c2fa5e10",
   "metadata": {
    "jp-MarkdownHeadingCollapsed": true
   },
   "source": [
    "### using tf.shuffle()"
   ]
  },
  {
   "cell_type": "code",
   "execution_count": 15,
   "id": "21234a51-4c8b-4961-9193-b0a22b8702bf",
   "metadata": {},
   "outputs": [
    {
     "data": {
      "text/plain": [
       "<tf.Tensor: shape=(2, 2, 3), dtype=int32, numpy=\n",
       "array([[[ 1,  2,  3],\n",
       "        [ 4,  5,  6]],\n",
       "\n",
       "       [[ 7,  8,  9],\n",
       "        [10, 11, 12]]])>"
      ]
     },
     "execution_count": 15,
     "metadata": {},
     "output_type": "execute_result"
    }
   ],
   "source": [
    "shuffle_tensor = tf.constant([\n",
    "    [\n",
    "        [1,2,3],\n",
    "        [4,5,6]\n",
    "    ],\n",
    "    [\n",
    "        [7,8,9],\n",
    "        [10,11,12]\n",
    "    ]\n",
    "])\n",
    "shuffle_tensor"
   ]
  },
  {
   "cell_type": "code",
   "execution_count": 16,
   "id": "67edfc33-68fa-4e19-9a44-fdcab60a27b9",
   "metadata": {},
   "outputs": [
    {
     "data": {
      "text/plain": [
       "<tf.Tensor: shape=(2, 2, 3), dtype=int32, numpy=\n",
       "array([[[ 7,  8,  9],\n",
       "        [10, 11, 12]],\n",
       "\n",
       "       [[ 1,  2,  3],\n",
       "        [ 4,  5,  6]]])>"
      ]
     },
     "execution_count": 16,
     "metadata": {},
     "output_type": "execute_result"
    }
   ],
   "source": [
    "tf.random.shuffle(shuffle_tensor)"
   ]
  },
  {
   "cell_type": "markdown",
   "id": "960239c1-41f0-477d-88db-63685826a5fa",
   "metadata": {
    "jp-MarkdownHeadingCollapsed": true
   },
   "source": [
    "### using tf.random()"
   ]
  },
  {
   "cell_type": "code",
   "execution_count": 17,
   "id": "a2d69bcc-b0d6-47dd-a532-d43bab31f64c",
   "metadata": {},
   "outputs": [
    {
     "data": {
      "text/plain": [
       "<tf.Tensor: shape=(2, 3, 3), dtype=float32, numpy=\n",
       "array([[[ 1.9516399 , -0.53109086,  1.1277083 ],\n",
       "        [ 0.09506121, -1.9545355 , -0.9390517 ],\n",
       "        [ 0.7460742 , -0.01543848,  0.2970789 ]],\n",
       "\n",
       "       [[-0.3020748 ,  1.1377187 ,  0.1767173 ],\n",
       "        [-0.9415953 , -0.18187168,  0.39892814],\n",
       "        [ 1.3391489 , -0.12433875, -0.9370562 ]]], dtype=float32)>"
      ]
     },
     "execution_count": 17,
     "metadata": {},
     "output_type": "execute_result"
    }
   ],
   "source": [
    "random_tensor = tf.random.normal([2,3,3,])\n",
    "random_tensor"
   ]
  },
  {
   "cell_type": "code",
   "execution_count": 18,
   "id": "c2a65138-a230-4f75-910f-d86545e338a9",
   "metadata": {},
   "outputs": [
    {
     "data": {
      "text/plain": [
       "<tf.Tensor: shape=(2, 3, 3), dtype=float32, numpy=\n",
       "array([[[-0.8296372 , -1.8266271 ,  0.1251936 ],\n",
       "        [ 1.1770082 , -1.1696676 , -0.0093245 ],\n",
       "        [ 1.7336212 , -1.0343224 ,  0.13810681]],\n",
       "\n",
       "       [[-0.91464186, -1.1291755 ,  1.8039238 ],\n",
       "        [-0.2886803 , -0.8180008 ,  1.6706624 ],\n",
       "        [ 0.59479725,  1.9857334 , -0.39366513]]], dtype=float32)>"
      ]
     },
     "execution_count": 18,
     "metadata": {},
     "output_type": "execute_result"
    }
   ],
   "source": [
    "tf.random.set_seed(3)\n",
    "random_tensor = tf.random.normal([2,3,3])\n",
    "random_tensor"
   ]
  },
  {
   "cell_type": "code",
   "execution_count": 19,
   "id": "eabf3c5b-bf99-4c01-8228-8ef48995c5dc",
   "metadata": {},
   "outputs": [
    {
     "data": {
      "text/plain": [
       "<tf.Tensor: shape=(2, 2, 3, 3), dtype=float32, numpy=\n",
       "array([[[[0., 0., 0.],\n",
       "         [0., 0., 0.],\n",
       "         [0., 0., 0.]],\n",
       "\n",
       "        [[0., 0., 0.],\n",
       "         [0., 0., 0.],\n",
       "         [0., 0., 0.]]],\n",
       "\n",
       "\n",
       "       [[[0., 0., 0.],\n",
       "         [0., 0., 0.],\n",
       "         [0., 0., 0.]],\n",
       "\n",
       "        [[0., 0., 0.],\n",
       "         [0., 0., 0.],\n",
       "         [0., 0., 0.]]]], dtype=float32)>"
      ]
     },
     "execution_count": 19,
     "metadata": {},
     "output_type": "execute_result"
    }
   ],
   "source": [
    "zeros = tf.zeros([2,2,3,3])\n",
    "zeros"
   ]
  },
  {
   "cell_type": "code",
   "execution_count": 20,
   "id": "fe245869-fe93-48fa-af35-71b8ceaa70c8",
   "metadata": {},
   "outputs": [
    {
     "data": {
      "text/plain": [
       "<tf.Tensor: shape=(2, 2, 3, 3), dtype=float32, numpy=\n",
       "array([[[[1., 1., 1.],\n",
       "         [1., 1., 1.],\n",
       "         [1., 1., 1.]],\n",
       "\n",
       "        [[1., 1., 1.],\n",
       "         [1., 1., 1.],\n",
       "         [1., 1., 1.]]],\n",
       "\n",
       "\n",
       "       [[[1., 1., 1.],\n",
       "         [1., 1., 1.],\n",
       "         [1., 1., 1.]],\n",
       "\n",
       "        [[1., 1., 1.],\n",
       "         [1., 1., 1.],\n",
       "         [1., 1., 1.]]]], dtype=float32)>"
      ]
     },
     "execution_count": 20,
     "metadata": {},
     "output_type": "execute_result"
    }
   ],
   "source": [
    "ones = tf.ones([2,2,3,3])\n",
    "ones"
   ]
  },
  {
   "cell_type": "markdown",
   "id": "bfd99fe4-76c1-496b-8de6-8356cd716b5e",
   "metadata": {
    "jp-MarkdownHeadingCollapsed": true
   },
   "source": [
    "### Getting tensor informations"
   ]
  },
  {
   "cell_type": "code",
   "execution_count": 21,
   "id": "8d1bd09a-3abd-4587-a6ef-0c2b12d94e6e",
   "metadata": {},
   "outputs": [
    {
     "data": {
      "text/plain": [
       "<tf.Tensor: shape=(1, 2, 3, 4), dtype=int32, numpy=\n",
       "array([[[[ 1,  2,  3,  4],\n",
       "         [ 5,  6,  7,  8],\n",
       "         [ 9, 10, 11, 12]],\n",
       "\n",
       "        [[13, 14, 15, 16],\n",
       "         [17, 18, 19, 20],\n",
       "         [21, 22, 23, 24]]]])>"
      ]
     },
     "execution_count": 21,
     "metadata": {},
     "output_type": "execute_result"
    }
   ],
   "source": [
    "tensor_info = tf.constant([\n",
    "    [\n",
    "        [\n",
    "            [1,2,3,4],\n",
    "            [5,6,7,8],\n",
    "            [9,10,11,12]],\n",
    "        [\n",
    "            [13,14,15,16],\n",
    "            [17,18,19,20],\n",
    "            [21,22,23,24]\n",
    "        ]\n",
    "    ]\n",
    "])\n",
    "tensor_info"
   ]
  },
  {
   "cell_type": "code",
   "execution_count": 22,
   "id": "46019568-9e06-45e9-965b-5f21d9ee9a17",
   "metadata": {},
   "outputs": [
    {
     "name": "stdout",
     "output_type": "stream",
     "text": [
      "Size of tensor:  24\n",
      "Shape of tensor:  (1, 2, 3, 4)\n",
      "Get the value of X-Y element of the tensor:  [[[[ 1  2  3  4]\n",
      "   [ 5  6  7  8]\n",
      "   [ 9 10 11 12]]\n",
      "\n",
      "  [[13 14 15 16]\n",
      "   [17 18 19 20]\n",
      "   [21 22 23 24]]]]\n",
      "Elements along 0 axis:  1\n",
      "Elements along last axis:  4\n",
      "Number of dimensions of the tensor:  4\n",
      "Data type of the tensor:  <dtype: 'int32'>\n"
     ]
    }
   ],
   "source": [
    "print(\"Size of tensor: \",tf.size(tensor_info).numpy())\n",
    "print(\"Shape of tensor: \",tensor_info.shape)\n",
    "print(\"Get the value of X-Y element of the tensor: \",(tensor_info.numpy()))\n",
    "print(\"Elements along 0 axis: \", tensor_info.shape[0])\n",
    "print(\"Elements along last axis: \", tensor_info.shape[-1])\n",
    "print(\"Number of dimensions of the tensor: \", tensor_info.ndim)\n",
    "print(\"Data type of the tensor: \", tensor_info.dtype)"
   ]
  },
  {
   "cell_type": "markdown",
   "id": "8fdebc25-4404-455d-977c-ebfa02cd8d77",
   "metadata": {
    "jp-MarkdownHeadingCollapsed": true
   },
   "source": [
    "### basic manipulation of operation in tensorflow"
   ]
  },
  {
   "cell_type": "code",
   "execution_count": 24,
   "id": "4ae70713-27f9-4946-824c-e95d9cd3c6a0",
   "metadata": {},
   "outputs": [
    {
     "data": {
      "text/plain": [
       "<tf.Tensor: shape=(3, 2), dtype=int32, numpy=\n",
       "array([[2, 2],\n",
       "       [3, 4],\n",
       "       [5, 6]])>"
      ]
     },
     "execution_count": 24,
     "metadata": {},
     "output_type": "execute_result"
    }
   ],
   "source": [
    "x = tf.constant([[2,2],\n",
    "                [3,4],\n",
    "                [5,6]])\n",
    "x"
   ]
  },
  {
   "cell_type": "markdown",
   "id": "e3ff5d3d-90b4-4d7e-91e9-522e2b35e59c",
   "metadata": {},
   "source": [
    "#### addition"
   ]
  },
  {
   "cell_type": "code",
   "execution_count": 43,
   "id": "e1443423-b354-4ff3-96ca-a21329ce5381",
   "metadata": {},
   "outputs": [
    {
     "name": "stdout",
     "output_type": "stream",
     "text": [
      "[[12 12]\n",
      " [13 14]\n",
      " [15 16]] \n",
      "\n",
      "[[12 12]\n",
      " [13 14]\n",
      " [15 16]] \n",
      "\n",
      "[[12 12]\n",
      " [13 14]\n",
      " [15 16]] \n",
      "\n",
      "shape of tensor x:  (3, 2) , data type:  <dtype: 'int32'> # of dimension:  2\n"
     ]
    }
   ],
   "source": [
    "print(tf.add(x, 10).numpy(),\"\\n\")\n",
    "print(tf.math.add(x, 10).numpy(),\"\\n\")\n",
    "print((x+10).numpy(),\"\\n\")\n",
    "print(\"shape of tensor x: \",x.shape, \", data type: \",x.dtype, \"# of dimension: \",x.ndim)"
   ]
  },
  {
   "cell_type": "markdown",
   "id": "0dcca756-f72f-45a2-8ba0-cf385e0dd96d",
   "metadata": {},
   "source": [
    "#### subtraction"
   ]
  },
  {
   "cell_type": "code",
   "execution_count": 33,
   "id": "44069f6d-19d2-457b-bca9-0e77d9377618",
   "metadata": {},
   "outputs": [
    {
     "name": "stdout",
     "output_type": "stream",
     "text": [
      "tf.Tensor(\n",
      "[[-8 -8]\n",
      " [-7 -6]\n",
      " [-5 -4]], shape=(3, 2), dtype=int32) \n",
      "\n",
      "tf.Tensor(\n",
      "[[-8 -8]\n",
      " [-7 -6]\n",
      " [-5 -4]], shape=(3, 2), dtype=int32) \n",
      "\n",
      "tf.Tensor(\n",
      "[[-8 -8]\n",
      " [-7 -6]\n",
      " [-5 -4]], shape=(3, 2), dtype=int32)\n"
     ]
    }
   ],
   "source": [
    "print(tf.subtract(x, 10),\"\\n\")\n",
    "print(tf.math.subtract(x, 10),\"\\n\")\n",
    "print(x-10)"
   ]
  },
  {
   "cell_type": "markdown",
   "id": "8a503e87-e5d1-47dc-ba6d-d2ab3d2d58bf",
   "metadata": {},
   "source": [
    "#### multiplication"
   ]
  },
  {
   "cell_type": "code",
   "execution_count": 44,
   "id": "bbab98d8-6f7e-41e4-9f16-804fa9c86ffb",
   "metadata": {},
   "outputs": [
    {
     "name": "stdout",
     "output_type": "stream",
     "text": [
      "tf.Tensor(\n",
      "[[20 20]\n",
      " [30 40]\n",
      " [50 60]], shape=(3, 2), dtype=int32) \n",
      "\n",
      "tf.Tensor(\n",
      "[[20 20]\n",
      " [30 40]\n",
      " [50 60]], shape=(3, 2), dtype=int32) \n",
      "\n",
      "tf.Tensor(\n",
      "[[20 20]\n",
      " [30 40]\n",
      " [50 60]], shape=(3, 2), dtype=int32)\n"
     ]
    }
   ],
   "source": [
    "print(tf.multiply(x, 10),\"\\n\")\n",
    "print(tf.math.multiply(x, 10),\"\\n\")\n",
    "print((x*10))"
   ]
  },
  {
   "cell_type": "markdown",
   "id": "bf6b8c00-71eb-432c-8e9c-d8dfad7bdcd6",
   "metadata": {},
   "source": [
    "#### division"
   ]
  },
  {
   "cell_type": "code",
   "execution_count": 45,
   "id": "781ade5e-7958-445c-87e3-ebbc62458450",
   "metadata": {},
   "outputs": [
    {
     "name": "stdout",
     "output_type": "stream",
     "text": [
      "tf.Tensor(\n",
      "[[0.2 0.2]\n",
      " [0.3 0.4]\n",
      " [0.5 0.6]], shape=(3, 2), dtype=float64) \n",
      "\n",
      "tf.Tensor(\n",
      "[[0.2 0.2]\n",
      " [0.3 0.4]\n",
      " [0.5 0.6]], shape=(3, 2), dtype=float64) \n",
      "\n",
      "tf.Tensor(\n",
      "[[0.2 0.2]\n",
      " [0.3 0.4]\n",
      " [0.5 0.6]], shape=(3, 2), dtype=float64)\n"
     ]
    }
   ],
   "source": [
    "print(tf.divide(x,10),\"\\n\")\n",
    "print(tf.math.divide(x,10),\"\\n\")\n",
    "print(x/10)"
   ]
  },
  {
   "cell_type": "markdown",
   "id": "dced0a1c-76b2-4746-a461-aa473607a401",
   "metadata": {
    "jp-MarkdownHeadingCollapsed": true
   },
   "source": [
    "### multiplication of one tensor to another tensor"
   ]
  },
  {
   "cell_type": "code",
   "execution_count": 47,
   "id": "c5ae7d33-917f-4733-a6c9-c139025899bd",
   "metadata": {},
   "outputs": [
    {
     "data": {
      "text/plain": [
       "<tf.Tensor: shape=(3, 3), dtype=int32, numpy=\n",
       "array([[4, 5, 7],\n",
       "       [2, 6, 2],\n",
       "       [6, 8, 2]])>"
      ]
     },
     "execution_count": 47,
     "metadata": {},
     "output_type": "execute_result"
    }
   ],
   "source": [
    "y = tf.constant([[4,5,7],\n",
    "                [2,6,2],\n",
    "                [6,8,2]])\n",
    "y"
   ]
  },
  {
   "cell_type": "code",
   "execution_count": 48,
   "id": "f46335c0-6c1a-416b-a135-d398f3f3ec8b",
   "metadata": {},
   "outputs": [
    {
     "data": {
      "text/plain": [
       "(<tf.Tensor: shape=(3, 2), dtype=int32, numpy=\n",
       " array([[2, 2],\n",
       "        [3, 4],\n",
       "        [5, 6]])>,\n",
       " <tf.Tensor: shape=(3, 3), dtype=int32, numpy=\n",
       " array([[4, 5, 7],\n",
       "        [2, 6, 2],\n",
       "        [6, 8, 2]])>)"
      ]
     },
     "execution_count": 48,
     "metadata": {},
     "output_type": "execute_result"
    }
   ],
   "source": [
    "x,y"
   ]
  },
  {
   "cell_type": "code",
   "execution_count": 58,
   "id": "6fde6a11-8ebc-4b48-b0a1-48c9e7183f7d",
   "metadata": {},
   "outputs": [
    {
     "name": "stdout",
     "output_type": "stream",
     "text": [
      "tf.Tensor(\n",
      "[[40 50 70]\n",
      " [20 60 20]\n",
      " [60 80 20]], shape=(3, 3), dtype=int32)\n",
      "tf.Tensor(\n",
      "[[58 70]\n",
      " [32 40]\n",
      " [46 56]], shape=(3, 2), dtype=int32)\n",
      "tf.Tensor(\n",
      "[[58 70]\n",
      " [32 40]\n",
      " [46 56]], shape=(3, 2), dtype=int32)\n"
     ]
    },
    {
     "data": {
      "text/plain": [
       "<tf.Tensor: shape=(3, 2), dtype=int32, numpy=\n",
       "array([[58, 70],\n",
       "       [32, 40],\n",
       "       [46, 56]])>"
      ]
     },
     "execution_count": 58,
     "metadata": {},
     "output_type": "execute_result"
    }
   ],
   "source": [
    "print(tf.multiply(y,10))\n",
    "print(tf.matmul(y,x))\n",
    "print(tf.tensordot(y,x,1))\n",
    "y@x"
   ]
  },
  {
   "cell_type": "markdown",
   "id": "08aad732-5475-4ded-9cf7-a0e9961bebc6",
   "metadata": {},
   "source": [
    "#### reshape"
   ]
  },
  {
   "cell_type": "code",
   "execution_count": 59,
   "id": "f709e4ef-bf3b-48ad-adba-ae814c4b5852",
   "metadata": {},
   "outputs": [
    {
     "data": {
      "text/plain": [
       "(<tf.Tensor: shape=(3, 2), dtype=int32, numpy=\n",
       " array([[2, 2],\n",
       "        [3, 4],\n",
       "        [5, 6]])>,\n",
       " <tf.Tensor: shape=(3, 3), dtype=int32, numpy=\n",
       " array([[4, 5, 7],\n",
       "        [2, 6, 2],\n",
       "        [6, 8, 2]])>)"
      ]
     },
     "execution_count": 59,
     "metadata": {},
     "output_type": "execute_result"
    }
   ],
   "source": [
    "x,y"
   ]
  },
  {
   "cell_type": "code",
   "execution_count": 73,
   "id": "7f07f0a9-512f-484a-b4f4-fb5c01b45288",
   "metadata": {},
   "outputs": [
    {
     "data": {
      "text/plain": [
       "<tf.Tensor: shape=(2, 3), dtype=int32, numpy=\n",
       "array([[2, 2, 3],\n",
       "       [4, 5, 6]])>"
      ]
     },
     "execution_count": 73,
     "metadata": {},
     "output_type": "execute_result"
    }
   ],
   "source": [
    "reshape_x = tf.reshape(x,shape=(2,3))\n",
    "reshape_x"
   ]
  },
  {
   "cell_type": "code",
   "execution_count": 74,
   "id": "319c4c84-15e5-452e-9918-e4ec7c04463e",
   "metadata": {},
   "outputs": [
    {
     "data": {
      "text/plain": [
       "(TensorShape([2, 3]), TensorShape([3, 3]))"
      ]
     },
     "execution_count": 74,
     "metadata": {},
     "output_type": "execute_result"
    }
   ],
   "source": [
    "reshape_x.shape, y.shape"
   ]
  },
  {
   "cell_type": "code",
   "execution_count": 75,
   "id": "53c41207-c11f-4f9b-9e28-32c58bf0c8e1",
   "metadata": {},
   "outputs": [
    {
     "data": {
      "text/plain": [
       "<tf.Tensor: shape=(2, 3), dtype=int32, numpy=\n",
       "array([[30, 46, 24],\n",
       "       [62, 98, 50]])>"
      ]
     },
     "execution_count": 75,
     "metadata": {},
     "output_type": "execute_result"
    }
   ],
   "source": [
    "tf.matmul(reshape_x,y)"
   ]
  },
  {
   "cell_type": "markdown",
   "id": "112a2f51-f55a-4615-8a31-9e55ec9c7fa9",
   "metadata": {},
   "source": [
    "#### transposition"
   ]
  },
  {
   "cell_type": "code",
   "execution_count": 71,
   "id": "ce53041b-5aaa-4088-bf81-1b553aa287f7",
   "metadata": {},
   "outputs": [
    {
     "data": {
      "text/plain": [
       "(<tf.Tensor: shape=(3, 2), dtype=int32, numpy=\n",
       " array([[2, 2],\n",
       "        [3, 4],\n",
       "        [5, 6]])>,\n",
       " <tf.Tensor: shape=(3, 3), dtype=int32, numpy=\n",
       " array([[4, 5, 7],\n",
       "        [2, 6, 2],\n",
       "        [6, 8, 2]])>)"
      ]
     },
     "execution_count": 71,
     "metadata": {},
     "output_type": "execute_result"
    }
   ],
   "source": [
    "x,y"
   ]
  },
  {
   "cell_type": "code",
   "execution_count": 79,
   "id": "d4082f94-2aff-4083-ba54-babf05559862",
   "metadata": {},
   "outputs": [
    {
     "name": "stdout",
     "output_type": "stream",
     "text": [
      "tf.Tensor(\n",
      "[[2 2]\n",
      " [3 4]\n",
      " [5 6]], shape=(3, 2), dtype=int32) \n",
      "\n",
      "tf.Tensor(\n",
      "[[2 2 3]\n",
      " [4 5 6]], shape=(2, 3), dtype=int32) \n",
      "\n",
      "tf.Tensor(\n",
      "[[2 3 5]\n",
      " [2 4 6]], shape=(2, 3), dtype=int32)\n"
     ]
    }
   ],
   "source": [
    "transpose_x = tf.transpose(x)\n",
    "print(x,\"\\n\")\n",
    "print(reshape_x,\"\\n\")\n",
    "print(transpose_x)"
   ]
  },
  {
   "cell_type": "code",
   "execution_count": 90,
   "id": "ec93f730-8248-4e16-9f07-a2fd5226fc5c",
   "metadata": {},
   "outputs": [
    {
     "name": "stdout",
     "output_type": "stream",
     "text": [
      "reshape matmul: \n",
      "[[30 46 24]\n",
      " [62 98 50]]\n",
      "vs.\n",
      "\n",
      "transpose matmul: \n",
      "[[44 68 30]\n",
      " [52 82 34]]\n"
     ]
    }
   ],
   "source": [
    "print(\"reshape matmul: \")\n",
    "print(tf.matmul(reshape_x,y).numpy())\n",
    "print(\"vs.\\n\")\n",
    "print(\"transpose matmul: \")\n",
    "print(tf.matmul(transpose_x,y).numpy())"
   ]
  },
  {
   "cell_type": "markdown",
   "id": "021ded62-111b-4462-8081-de54e4d4b53a",
   "metadata": {
    "jp-MarkdownHeadingCollapsed": true
   },
   "source": [
    "### changing the data type of a tensor"
   ]
  },
  {
   "cell_type": "code",
   "execution_count": 91,
   "id": "66adc8f0-58c3-4875-aed3-1a40267f674e",
   "metadata": {},
   "outputs": [
    {
     "data": {
      "text/plain": [
       "<tf.Tensor: shape=(3, 2), dtype=int32, numpy=\n",
       "array([[2, 2],\n",
       "       [3, 4],\n",
       "       [5, 6]])>"
      ]
     },
     "execution_count": 91,
     "metadata": {},
     "output_type": "execute_result"
    }
   ],
   "source": [
    "x"
   ]
  },
  {
   "cell_type": "code",
   "execution_count": 95,
   "id": "d50e8ae3-af2e-4cb8-bc3d-854bbef53854",
   "metadata": {},
   "outputs": [
    {
     "data": {
      "text/plain": [
       "<tf.Tensor: shape=(3, 2), dtype=float32, numpy=\n",
       "array([[2., 2.],\n",
       "       [3., 4.],\n",
       "       [5., 6.]], dtype=float32)>"
      ]
     },
     "execution_count": 95,
     "metadata": {},
     "output_type": "execute_result"
    }
   ],
   "source": [
    "tf.cast(x,tf.float32)"
   ]
  },
  {
   "cell_type": "code",
   "execution_count": 99,
   "id": "5ce5cf5a-ecb4-4cd0-9c1f-dcb48e5fafa6",
   "metadata": {},
   "outputs": [
    {
     "data": {
      "text/plain": [
       "<tf.Tensor: shape=(3, 2), dtype=float16, numpy=\n",
       "array([[2., 2.],\n",
       "       [3., 4.],\n",
       "       [5., 6.]], dtype=float16)>"
      ]
     },
     "execution_count": 99,
     "metadata": {},
     "output_type": "execute_result"
    }
   ],
   "source": [
    "tf.dtypes.cast(x,tf.float16)"
   ]
  }
 ],
 "metadata": {
  "kernelspec": {
   "display_name": "Python 3 (ipykernel)",
   "language": "python",
   "name": "python3"
  },
  "language_info": {
   "codemirror_mode": {
    "name": "ipython",
    "version": 3
   },
   "file_extension": ".py",
   "mimetype": "text/x-python",
   "name": "python",
   "nbconvert_exporter": "python",
   "pygments_lexer": "ipython3",
   "version": "3.11.2"
  }
 },
 "nbformat": 4,
 "nbformat_minor": 5
}
