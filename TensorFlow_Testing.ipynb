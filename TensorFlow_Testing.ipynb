{
 "cells": [
  {
   "cell_type": "markdown",
   "id": "8c6d6db8-e5ea-4c42-9a1c-8a9113536f16",
   "metadata": {},
   "source": [
    "# Testing what I learn"
   ]
  },
  {
   "cell_type": "markdown",
   "id": "6a940a09-b43f-489c-9ab8-f09fe409e739",
   "metadata": {},
   "source": [
    "### for declaring tensorflow as tf\n",
    "* displaying of tensorflow version"
   ]
  },
  {
   "cell_type": "code",
   "execution_count": 5,
   "id": "5638a2c2-7e57-4620-a2ff-b883e169e7ab",
   "metadata": {},
   "outputs": [
    {
     "name": "stdout",
     "output_type": "stream",
     "text": [
      "2.15.0\n"
     ]
    }
   ],
   "source": [
    "import tensorflow as tf\n",
    "print(tf.__version__)"
   ]
  },
  {
   "cell_type": "markdown",
   "id": "44a00315-12d0-403a-b963-541d56e58fcb",
   "metadata": {},
   "source": [
    "### using of tf.constant()\n",
    "1. as scalar - **0** dimension\n",
    "2. as vector - **1** dimension\n",
    "3. as matrix - **2** dimensions\n",
    "4. as tensor - **n** dimensions\n",
    "\n",
    "* using of ndim (number of dimensions)"
   ]
  },
  {
   "cell_type": "code",
   "execution_count": 8,
   "id": "ee93ae69-97c8-422d-97b7-41a0de72158c",
   "metadata": {},
   "outputs": [
    {
     "data": {
      "text/plain": [
       "<tf.Tensor: shape=(), dtype=int32, numpy=5>"
      ]
     },
     "execution_count": 8,
     "metadata": {},
     "output_type": "execute_result"
    }
   ],
   "source": [
    "#as scalar\n",
    "scalar = tf.constant(5)\n",
    "scalar"
   ]
  },
  {
   "cell_type": "code",
   "execution_count": 10,
   "id": "0c031ab2-c1c0-4b67-b6b7-3607909d7ec1",
   "metadata": {},
   "outputs": [
    {
     "data": {
      "text/plain": [
       "0"
      ]
     },
     "execution_count": 10,
     "metadata": {},
     "output_type": "execute_result"
    }
   ],
   "source": [
    "scalar.ndim"
   ]
  },
  {
   "cell_type": "code",
   "execution_count": 12,
   "id": "7986ecd6-4f96-4aea-a478-a24f2ce80bba",
   "metadata": {},
   "outputs": [
    {
     "data": {
      "text/plain": [
       "<tf.Tensor: shape=(2,), dtype=int32, numpy=array([1, 2])>"
      ]
     },
     "execution_count": 12,
     "metadata": {},
     "output_type": "execute_result"
    }
   ],
   "source": [
    "vector = tf.constant([1,2])\n",
    "vector"
   ]
  },
  {
   "cell_type": "code",
   "execution_count": 14,
   "id": "f0d839b6-0b7e-48d9-a7ef-6ed10d5d8c4b",
   "metadata": {},
   "outputs": [
    {
     "data": {
      "text/plain": [
       "1"
      ]
     },
     "execution_count": 14,
     "metadata": {},
     "output_type": "execute_result"
    }
   ],
   "source": [
    "vector.ndim"
   ]
  },
  {
   "cell_type": "code",
   "execution_count": 16,
   "id": "1b9a46de-41cc-4103-a390-847149ea8121",
   "metadata": {},
   "outputs": [
    {
     "data": {
      "text/plain": [
       "<tf.Tensor: shape=(2, 2), dtype=int32, numpy=\n",
       "array([[1, 2],\n",
       "       [3, 4]])>"
      ]
     },
     "execution_count": 16,
     "metadata": {},
     "output_type": "execute_result"
    }
   ],
   "source": [
    "matrix = tf.constant([[1,2],\n",
    "                      [3,4]])\n",
    "matrix"
   ]
  },
  {
   "cell_type": "code",
   "execution_count": 17,
   "id": "6cb91fcb-b95f-4aa9-9039-1dd8db925355",
   "metadata": {},
   "outputs": [
    {
     "data": {
      "text/plain": [
       "2"
      ]
     },
     "execution_count": 17,
     "metadata": {},
     "output_type": "execute_result"
    }
   ],
   "source": [
    "matrix.ndim"
   ]
  },
  {
   "cell_type": "code",
   "execution_count": 18,
   "id": "9a946d9c-d615-4b6b-9e5b-efa38abf2d8d",
   "metadata": {},
   "outputs": [
    {
     "data": {
      "text/plain": [
       "<tf.Tensor: shape=(2, 2, 3), dtype=int32, numpy=\n",
       "array([[[ 1,  2,  3],\n",
       "        [ 4,  5,  6]],\n",
       "\n",
       "       [[ 7,  8,  9],\n",
       "        [10, 11, 12]]])>"
      ]
     },
     "execution_count": 18,
     "metadata": {},
     "output_type": "execute_result"
    }
   ],
   "source": [
    "tensor = tf.constant([\n",
    "    [[1,2,3],\n",
    "     [4,5,6]],\n",
    "    [[7,8,9],\n",
    "     [10,11,12]]\n",
    "])\n",
    "tensor"
   ]
  },
  {
   "cell_type": "code",
   "execution_count": 19,
   "id": "12e79aae-80ea-4c18-b31e-7fc0cb4c2a42",
   "metadata": {},
   "outputs": [
    {
     "data": {
      "text/plain": [
       "3"
      ]
     },
     "execution_count": 19,
     "metadata": {},
     "output_type": "execute_result"
    }
   ],
   "source": [
    "tensor.ndim"
   ]
  },
  {
   "cell_type": "markdown",
   "id": "e50dcd47-e6e9-4360-b2b4-39749eff217e",
   "metadata": {},
   "source": [
    "### using tf.Variable()"
   ]
  },
  {
   "cell_type": "code",
   "execution_count": 25,
   "id": "a7fc4651-8e0d-457f-b584-e8fe2eb5a3cd",
   "metadata": {},
   "outputs": [
    {
     "data": {
      "text/plain": [
       "<tf.Variable 'Variable:0' shape=(2, 3) dtype=int32, numpy=\n",
       "array([[1, 2, 3],\n",
       "       [4, 5, 6]])>"
      ]
     },
     "execution_count": 25,
     "metadata": {},
     "output_type": "execute_result"
    }
   ],
   "source": [
    "variable_tensor = tf.Variable([[1,2,3],[4,5,6]])\n",
    "variable_tensor"
   ]
  },
  {
   "cell_type": "code",
   "execution_count": 39,
   "id": "90b5142c-b7cd-4360-880d-f3b687baf4ea",
   "metadata": {},
   "outputs": [
    {
     "data": {
      "text/plain": [
       "(TensorShape([2, 3]), <tf.Tensor: shape=(), dtype=int32, numpy=6>)"
      ]
     },
     "execution_count": 39,
     "metadata": {},
     "output_type": "execute_result"
    }
   ],
   "source": [
    "variable_tensor.shape, tf.size(variable_tensor)"
   ]
  },
  {
   "cell_type": "code",
   "execution_count": 35,
   "id": "175d17d4-89d0-4170-9a8e-9437fca7456d",
   "metadata": {},
   "outputs": [
    {
     "data": {
      "text/plain": [
       "<tf.Variable 'Variable:0' shape=(2, 3) dtype=int32, numpy=\n",
       "array([[10, 11, 12],\n",
       "       [13, 14, 15]])>"
      ]
     },
     "execution_count": 35,
     "metadata": {},
     "output_type": "execute_result"
    }
   ],
   "source": [
    "variable_tensor.assign([[10,11,12],\n",
    "                       [13,14,15]])\n",
    "variable_tensor"
   ]
  },
  {
   "cell_type": "code",
   "execution_count": 138,
   "id": "0c527264-7f16-4609-a189-4ea63662f7ac",
   "metadata": {},
   "outputs": [
    {
     "data": {
      "text/plain": [
       "<tf.Variable 'Variable:0' shape=(2, 3) dtype=int32, numpy=\n",
       "array([[2, 3, 4],\n",
       "       [5, 6, 7]])>"
      ]
     },
     "execution_count": 138,
     "metadata": {},
     "output_type": "execute_result"
    }
   ],
   "source": [
    "variable_tensor.assign([\n",
    "    [2,3,4],\n",
    "    [5,6,7],\n",
    "])\n",
    "variable_tensor"
   ]
  },
  {
   "cell_type": "markdown",
   "id": "5de5fa30-e498-4b2a-a40f-feb4c2fa5e10",
   "metadata": {},
   "source": [
    "### using tf.shuffle()"
   ]
  },
  {
   "cell_type": "code",
   "execution_count": 140,
   "id": "21234a51-4c8b-4961-9193-b0a22b8702bf",
   "metadata": {},
   "outputs": [
    {
     "data": {
      "text/plain": [
       "<tf.Tensor: shape=(2, 2, 3), dtype=int32, numpy=\n",
       "array([[[ 1,  2,  3],\n",
       "        [ 4,  5,  6]],\n",
       "\n",
       "       [[ 7,  8,  9],\n",
       "        [10, 11, 12]]])>"
      ]
     },
     "execution_count": 140,
     "metadata": {},
     "output_type": "execute_result"
    }
   ],
   "source": [
    "shuffle_tensor = tf.constant([\n",
    "    [\n",
    "        [1,2,3],\n",
    "        [4,5,6]\n",
    "    ],\n",
    "    [\n",
    "        [7,8,9],\n",
    "        [10,11,12]\n",
    "    ]\n",
    "])\n",
    "shuffle_tensor"
   ]
  },
  {
   "cell_type": "code",
   "execution_count": 139,
   "id": "67edfc33-68fa-4e19-9a44-fdcab60a27b9",
   "metadata": {},
   "outputs": [
    {
     "data": {
      "text/plain": [
       "<tf.Tensor: shape=(2, 3), dtype=int32, numpy=\n",
       "array([[1, 2, 3],\n",
       "       [4, 5, 6]])>"
      ]
     },
     "execution_count": 139,
     "metadata": {},
     "output_type": "execute_result"
    }
   ],
   "source": [
    "tf.random.shuffle(shuffle_tensor)"
   ]
  },
  {
   "cell_type": "markdown",
   "id": "960239c1-41f0-477d-88db-63685826a5fa",
   "metadata": {},
   "source": [
    "### using tf.random()"
   ]
  },
  {
   "cell_type": "code",
   "execution_count": 136,
   "id": "a2d69bcc-b0d6-47dd-a532-d43bab31f64c",
   "metadata": {},
   "outputs": [
    {
     "data": {
      "text/plain": [
       "<tf.Tensor: shape=(2, 3, 3), dtype=float32, numpy=\n",
       "array([[[ 0.02758301,  1.0955776 ,  0.64639515],\n",
       "        [-0.87001896, -0.76624453,  0.39096865],\n",
       "        [ 0.5912294 , -2.3281837 , -1.6424481 ]],\n",
       "\n",
       "       [[ 0.53366745,  0.252087  ,  1.2605014 ],\n",
       "        [-0.25704494, -0.8996516 , -1.2905672 ],\n",
       "        [ 1.5495535 ,  0.65709054, -0.91293406]]], dtype=float32)>"
      ]
     },
     "execution_count": 136,
     "metadata": {},
     "output_type": "execute_result"
    }
   ],
   "source": [
    "random_tensor = tf.random.normal([2,3,3,])\n",
    "random_tensor"
   ]
  },
  {
   "cell_type": "code",
   "execution_count": 109,
   "id": "c2a65138-a230-4f75-910f-d86545e338a9",
   "metadata": {},
   "outputs": [
    {
     "data": {
      "text/plain": [
       "<tf.Tensor: shape=(2, 3, 3), dtype=float32, numpy=\n",
       "array([[[-0.8296372 , -1.8266271 ,  0.1251936 ],\n",
       "        [ 1.1770082 , -1.1696676 , -0.0093245 ],\n",
       "        [ 1.7336212 , -1.0343224 ,  0.13810681]],\n",
       "\n",
       "       [[-0.91464186, -1.1291755 ,  1.8039238 ],\n",
       "        [-0.2886803 , -0.8180008 ,  1.6706624 ],\n",
       "        [ 0.59479725,  1.9857334 , -0.39366513]]], dtype=float32)>"
      ]
     },
     "execution_count": 109,
     "metadata": {},
     "output_type": "execute_result"
    }
   ],
   "source": [
    "tf.random.set_seed(3)\n",
    "random_tensor = tf.random.normal([2,3,3])\n",
    "random_tensor"
   ]
  },
  {
   "cell_type": "code",
   "execution_count": 145,
   "id": "eabf3c5b-bf99-4c01-8228-8ef48995c5dc",
   "metadata": {},
   "outputs": [
    {
     "data": {
      "text/plain": [
       "<tf.Tensor: shape=(2, 2, 3, 3), dtype=float32, numpy=\n",
       "array([[[[0., 0., 0.],\n",
       "         [0., 0., 0.],\n",
       "         [0., 0., 0.]],\n",
       "\n",
       "        [[0., 0., 0.],\n",
       "         [0., 0., 0.],\n",
       "         [0., 0., 0.]]],\n",
       "\n",
       "\n",
       "       [[[0., 0., 0.],\n",
       "         [0., 0., 0.],\n",
       "         [0., 0., 0.]],\n",
       "\n",
       "        [[0., 0., 0.],\n",
       "         [0., 0., 0.],\n",
       "         [0., 0., 0.]]]], dtype=float32)>"
      ]
     },
     "execution_count": 145,
     "metadata": {},
     "output_type": "execute_result"
    }
   ],
   "source": [
    "zeros = tf.zeros([2,2,3,3])\n",
    "zeros"
   ]
  },
  {
   "cell_type": "code",
   "execution_count": 148,
   "id": "fe245869-fe93-48fa-af35-71b8ceaa70c8",
   "metadata": {},
   "outputs": [
    {
     "data": {
      "text/plain": [
       "<tf.Tensor: shape=(2, 2, 3, 3), dtype=float32, numpy=\n",
       "array([[[[1., 1., 1.],\n",
       "         [1., 1., 1.],\n",
       "         [1., 1., 1.]],\n",
       "\n",
       "        [[1., 1., 1.],\n",
       "         [1., 1., 1.],\n",
       "         [1., 1., 1.]]],\n",
       "\n",
       "\n",
       "       [[[1., 1., 1.],\n",
       "         [1., 1., 1.],\n",
       "         [1., 1., 1.]],\n",
       "\n",
       "        [[1., 1., 1.],\n",
       "         [1., 1., 1.],\n",
       "         [1., 1., 1.]]]], dtype=float32)>"
      ]
     },
     "execution_count": 148,
     "metadata": {},
     "output_type": "execute_result"
    }
   ],
   "source": [
    "ones = tf.ones([2,2,3,3])\n",
    "ones"
   ]
  },
  {
   "cell_type": "markdown",
   "id": "bfd99fe4-76c1-496b-8de6-8356cd716b5e",
   "metadata": {},
   "source": [
    "### Getting tensor informations"
   ]
  },
  {
   "cell_type": "code",
   "execution_count": 203,
   "id": "8d1bd09a-3abd-4587-a6ef-0c2b12d94e6e",
   "metadata": {},
   "outputs": [
    {
     "data": {
      "text/plain": [
       "<tf.Tensor: shape=(1, 2, 3, 4), dtype=int32, numpy=\n",
       "array([[[[ 1,  2,  3,  4],\n",
       "         [ 5,  6,  7,  8],\n",
       "         [ 9, 10, 11, 12]],\n",
       "\n",
       "        [[13, 14, 15, 16],\n",
       "         [17, 18, 19, 20],\n",
       "         [21, 22, 23, 24]]]])>"
      ]
     },
     "execution_count": 203,
     "metadata": {},
     "output_type": "execute_result"
    }
   ],
   "source": [
    "tensor_info = tf.constant([\n",
    "    [\n",
    "        [\n",
    "            [1,2,3,4],\n",
    "            [5,6,7,8],\n",
    "            [9,10,11,12]],\n",
    "        [\n",
    "            [13,14,15,16],\n",
    "            [17,18,19,20],\n",
    "            [21,22,23,24]\n",
    "        ]\n",
    "    ]\n",
    "])\n",
    "tensor_info"
   ]
  },
  {
   "cell_type": "code",
   "execution_count": 242,
   "id": "46019568-9e06-45e9-965b-5f21d9ee9a17",
   "metadata": {},
   "outputs": [
    {
     "name": "stdout",
     "output_type": "stream",
     "text": [
      "Size of tensor:  24\n",
      "Shape of tensor:  (1, 2, 3, 4)\n",
      "Get the value of X-Y element of the tensor:  [[[[ 1  2  3  4]\n",
      "   [ 5  6  7  8]\n",
      "   [ 9 10 11 12]]\n",
      "\n",
      "  [[13 14 15 16]\n",
      "   [17 18 19 20]\n",
      "   [21 22 23 24]]]]\n",
      "Elements along 0 axis:  1\n",
      "Elements along last axis:  4\n",
      "Number of dimensions of the tensor:  4\n",
      "Data type of the tensor:  <dtype: 'int32'>\n"
     ]
    }
   ],
   "source": [
    "print(\"Size of tensor: \",tf.size(tensor_info).numpy())\n",
    "print(\"Shape of tensor: \",tensor_info.shape)\n",
    "print(\"Get the value of X-Y element of the tensor: \",(tensor_info.numpy()))\n",
    "print(\"Elements along 0 axis: \", tensor_info.shape[0])\n",
    "print(\"Elements along last axis: \", tensor_info.shape[-1])\n",
    "print(\"Number of dimensions of the tensor: \", tensor_info.ndim)\n",
    "print(\"Data type of the tensor: \", tensor_info.dtype)"
   ]
  },
  {
   "cell_type": "code",
   "execution_count": null,
   "id": "2084e3dc-be30-4563-a085-e9092ce07488",
   "metadata": {},
   "outputs": [],
   "source": []
  }
 ],
 "metadata": {
  "kernelspec": {
   "display_name": "Python 3 (ipykernel)",
   "language": "python",
   "name": "python3"
  },
  "language_info": {
   "codemirror_mode": {
    "name": "ipython",
    "version": 3
   },
   "file_extension": ".py",
   "mimetype": "text/x-python",
   "name": "python",
   "nbconvert_exporter": "python",
   "pygments_lexer": "ipython3",
   "version": "3.11.2"
  }
 },
 "nbformat": 4,
 "nbformat_minor": 5
}
