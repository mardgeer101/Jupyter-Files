{
 "cells": [
  {
   "cell_type": "markdown",
   "id": "64469dbe-14b0-4f81-82d8-cbadc6a266ec",
   "metadata": {},
   "source": [
    "# Practice what I learn from the beginning to current"
   ]
  },
  {
   "cell_type": "markdown",
   "id": "bbb94eab-8a39-4ace-828a-0219e266644b",
   "metadata": {},
   "source": [
    "## Declaring the package or library"
   ]
  },
  {
   "cell_type": "code",
   "execution_count": 2,
   "id": "1c552b3e-f7e8-42d1-9c54-7396c724d0a2",
   "metadata": {},
   "outputs": [
    {
     "name": "stdout",
     "output_type": "stream",
     "text": [
      "WARNING:tensorflow:From C:\\Users\\ACER\\AppData\\Local\\Programs\\Python\\Python311\\Lib\\site-packages\\keras\\src\\losses.py:2976: The name tf.losses.sparse_softmax_cross_entropy is deprecated. Please use tf.compat.v1.losses.sparse_softmax_cross_entropy instead.\n",
      "\n",
      "2.15.0\n"
     ]
    }
   ],
   "source": [
    "import tensorflow as tf\n",
    "print(tf.__version__)"
   ]
  },
  {
   "cell_type": "markdown",
   "id": "f0489e66-befd-4252-af13-a256ec5f9844",
   "metadata": {},
   "source": [
    "## Using tf.constant"
   ]
  },
  {
   "cell_type": "markdown",
   "id": "b8646201-8ca3-4450-acfa-2457853737a4",
   "metadata": {},
   "source": [
    "### Scalar"
   ]
  },
  {
   "cell_type": "code",
   "execution_count": 3,
   "id": "41a0222d-fe2b-4e3a-b816-8ef58c3c8d71",
   "metadata": {},
   "outputs": [
    {
     "name": "stdout",
     "output_type": "stream",
     "text": [
      "information of scalar: tf.Tensor(5, shape=(), dtype=int32)\n",
      "shape of scalar: ()\n",
      "data type of scalar: <dtype: 'int32'>\n",
      "scalar value is: 5\n",
      "no. of dimension of scalar: 0\n"
     ]
    }
   ],
   "source": [
    "scalar = tf.constant(5)\n",
    "print(\"information of scalar:\",scalar)\n",
    "print (\"shape of scalar:\",scalar.shape)\n",
    "print(\"data type of scalar:\",scalar.dtype)\n",
    "print(\"scalar value is:\",scalar.numpy())\n",
    "print(\"no. of dimension of scalar:\",scalar.ndim)"
   ]
  },
  {
   "cell_type": "markdown",
   "id": "a66b1b07-fe9f-4089-8fed-dbe4c033e405",
   "metadata": {},
   "source": [
    "### Vector"
   ]
  },
  {
   "cell_type": "code",
   "execution_count": 4,
   "id": "33b13154-960a-4e19-a060-e57c1cbd63ab",
   "metadata": {},
   "outputs": [
    {
     "name": "stdout",
     "output_type": "stream",
     "text": [
      "information of vector: tf.Tensor([5 2], shape=(2,), dtype=int32)\n",
      "shape of vector: (2,)\n",
      "data type of vector <dtype: 'int32'>\n",
      "vector value: [5 2]\n",
      "no. of dimension of vector: 1\n"
     ]
    }
   ],
   "source": [
    "vector = tf.constant([5,2])\n",
    "print(\"information of vector:\",vector)\n",
    "print(\"shape of vector:\",vector.shape)\n",
    "print(\"data type of vector\",vector.dtype)\n",
    "print(\"vector value:\",vector.numpy())\n",
    "print(\"no. of dimension of vector:\",vector.ndim)"
   ]
  },
  {
   "cell_type": "markdown",
   "id": "cc5b15c1-f1ba-4b3f-a7db-853dff613129",
   "metadata": {},
   "source": [
    "### Matrix"
   ]
  },
  {
   "cell_type": "code",
   "execution_count": 5,
   "id": "1cd888a6-2078-45e0-87a4-3e30750110ed",
   "metadata": {},
   "outputs": [
    {
     "name": "stdout",
     "output_type": "stream",
     "text": [
      "information of matrix:\n",
      " tf.Tensor(\n",
      "[[5 3 2]\n",
      " [2 6 9]\n",
      " [9 4 6]], shape=(3, 3), dtype=int32)\n",
      "shape of matrix: (3, 3)\n",
      "data type of matrix: <dtype: 'int32'>\n",
      "matrix value:\n",
      " [[5 3 2]\n",
      " [2 6 9]\n",
      " [9 4 6]]\n",
      "no of dimension of matrix: 2\n"
     ]
    }
   ],
   "source": [
    "matrix = tf.constant([[5,3,2],\n",
    "                      [2,6,9],\n",
    "                      [9,4,6]])\n",
    "print(\"information of matrix:\\n\",matrix)\n",
    "print(\"shape of matrix:\",matrix.shape)\n",
    "print(\"data type of matrix:\", matrix.dtype)\n",
    "print(\"matrix value:\\n\",matrix.numpy())\n",
    "print(\"no of dimension of matrix:\",matrix.ndim)"
   ]
  },
  {
   "cell_type": "markdown",
   "id": "1befc0d1-4290-4e5e-8c4b-7b0ce75b69e5",
   "metadata": {},
   "source": [
    "### Tensor"
   ]
  },
  {
   "cell_type": "code",
   "execution_count": 6,
   "id": "a2b782e9-f264-4ff2-891d-7d79d9d06019",
   "metadata": {},
   "outputs": [
    {
     "name": "stdout",
     "output_type": "stream",
     "text": [
      "tensor information:\n",
      " tf.Tensor(\n",
      "[[[ 6  3  6]\n",
      "  [ 4  2  5]\n",
      "  [ 3  5  6]]\n",
      "\n",
      " [[ 1 54  2]\n",
      "  [ 5  3  2]\n",
      "  [ 4  3  6]]], shape=(2, 3, 3), dtype=int32)\n",
      "tensor shape: (2, 3, 3)\n",
      "tensor data type: <dtype: 'int32'>\n",
      "tensor value:\n",
      " [[[ 6  3  6]\n",
      "  [ 4  2  5]\n",
      "  [ 3  5  6]]\n",
      "\n",
      " [[ 1 54  2]\n",
      "  [ 5  3  2]\n",
      "  [ 4  3  6]]]\n",
      "tensor no. of dimensions 3\n"
     ]
    }
   ],
   "source": [
    "tensor = tf.constant([[[6,3,6],\n",
    "                       [4,2,5],\n",
    "                       [3,5,6]],\n",
    "                      [[1,54,2],\n",
    "                       [5,3,2],\n",
    "                       [4,3,6]]])\n",
    "print(\"tensor information:\\n\",tensor)\n",
    "print(\"tensor shape:\",tensor.shape)\n",
    "print(\"tensor data type:\",tensor.dtype)\n",
    "print(\"tensor value:\\n\",tensor.numpy())\n",
    "print(\"tensor no. of dimensions\",tensor.ndim)"
   ]
  },
  {
   "cell_type": "markdown",
   "id": "8b948cd6-dbaa-4bd0-b504-cdd949aa360f",
   "metadata": {},
   "source": [
    "## Using of tf.Variable"
   ]
  },
  {
   "cell_type": "code",
   "execution_count": 7,
   "id": "39fdf5eb-f7da-4882-8793-3a76007f4751",
   "metadata": {},
   "outputs": [
    {
     "data": {
      "text/plain": [
       "<tf.Variable 'Variable:0' shape=(2, 2) dtype=int32, numpy=\n",
       "array([[3, 4],\n",
       "       [5, 6]])>"
      ]
     },
     "execution_count": 7,
     "metadata": {},
     "output_type": "execute_result"
    }
   ],
   "source": [
    "var_tensor = tf.Variable([[3,4],\n",
    "                          [5,6]])\n",
    "var_tensor"
   ]
  },
  {
   "cell_type": "code",
   "execution_count": 8,
   "id": "6626ee04-a2eb-4ad9-bda6-1163a52710e1",
   "metadata": {},
   "outputs": [
    {
     "data": {
      "text/plain": [
       "<tf.Variable 'Variable:0' shape=(2, 2) dtype=int32, numpy=\n",
       "array([[ 1,  2],\n",
       "       [76, 33]])>"
      ]
     },
     "execution_count": 8,
     "metadata": {},
     "output_type": "execute_result"
    }
   ],
   "source": [
    "var_tensor.assign([[1,2],\n",
    "                  [76,33]])\n",
    "var_tensor"
   ]
  },
  {
   "cell_type": "markdown",
   "id": "d64beb48-249b-4851-8726-6352bd965a16",
   "metadata": {},
   "source": [
    "## Using of tf.random"
   ]
  },
  {
   "cell_type": "markdown",
   "id": "583a4896-8900-4423-8016-2b297671fe1d",
   "metadata": {},
   "source": [
    "### using of tf.random.generator.from_see()"
   ]
  },
  {
   "cell_type": "code",
   "execution_count": 9,
   "id": "d26f8c37-b52b-4b1d-80bd-212517934da9",
   "metadata": {},
   "outputs": [
    {
     "data": {
      "text/plain": [
       "<tf.Tensor: shape=(3, 2), dtype=float32, numpy=\n",
       "array([[-0.7565803 , -0.06854702],\n",
       "       [ 0.07595026, -1.2573844 ],\n",
       "       [-0.23193763, -1.8107855 ]], dtype=float32)>"
      ]
     },
     "execution_count": 9,
     "metadata": {},
     "output_type": "execute_result"
    }
   ],
   "source": [
    "random1 = tf.random.Generator.from_seed(42)\n",
    "random1 = random1.normal(shape=(3,2))\n",
    "random1"
   ]
  },
  {
   "cell_type": "markdown",
   "id": "8117b449-d4be-4a7a-a736-f580eb0f81e2",
   "metadata": {},
   "source": [
    "### using of tf.random.normal"
   ]
  },
  {
   "cell_type": "code",
   "execution_count": 10,
   "id": "facd5dad-4f5b-4511-af96-9a418af702d5",
   "metadata": {},
   "outputs": [
    {
     "data": {
      "text/plain": [
       "<tf.Tensor: shape=(2, 3, 3), dtype=float32, numpy=\n",
       "array([[[ 0.6999161 ,  2.4721835 , -1.0455236 ],\n",
       "        [-0.6702676 ,  1.74496   ,  1.3070139 ],\n",
       "        [ 0.98416597,  0.31412575,  0.41763833]],\n",
       "\n",
       "       [[-1.1392218 ,  0.37036958, -1.2095699 ],\n",
       "        [-0.22863378,  1.5090904 ,  1.4623171 ],\n",
       "        [ 0.3051169 ,  1.9701606 ,  0.5279357 ]]], dtype=float32)>"
      ]
     },
     "execution_count": 10,
     "metadata": {},
     "output_type": "execute_result"
    }
   ],
   "source": [
    "rand_tensor = tf.random.normal([2,3,3])\n",
    "rand_tensor"
   ]
  },
  {
   "cell_type": "markdown",
   "id": "cd5830a3-45fe-4acb-a060-defb94e7a278",
   "metadata": {},
   "source": [
    "### using tf.random.set_seed()"
   ]
  },
  {
   "cell_type": "code",
   "execution_count": 11,
   "id": "083893b0-a476-4795-b1bc-1da88144a8ee",
   "metadata": {},
   "outputs": [
    {
     "data": {
      "text/plain": [
       "<tf.Tensor: shape=(2, 3, 3), dtype=float32, numpy=\n",
       "array([[[-0.07676513, -0.2082602 ,  1.9333363 ],\n",
       "        [ 1.175166  ,  1.4444144 ,  1.3351023 ],\n",
       "        [ 0.0987538 ,  0.47003892, -0.89593434]],\n",
       "\n",
       "       [[ 0.8269468 , -0.3298544 , -1.6903992 ],\n",
       "        [ 2.1704402 , -1.0355538 ,  1.1871556 ],\n",
       "        [ 0.44113445, -0.7447429 ,  1.2710264 ]]], dtype=float32)>"
      ]
     },
     "execution_count": 11,
     "metadata": {},
     "output_type": "execute_result"
    }
   ],
   "source": [
    "tf.random.set_seed(4)\n",
    "another_rand_tensor = tf.random.normal([2,3,3])\n",
    "another_rand_tensor"
   ]
  },
  {
   "cell_type": "code",
   "execution_count": 19,
   "id": "42d9ce78-ebbf-4a1b-97f2-88666251ddf2",
   "metadata": {},
   "outputs": [
    {
     "data": {
      "text/plain": [
       "<tf.Tensor: shape=(2, 3, 3), dtype=float32, numpy=\n",
       "array([[[-0.39120236, -1.1576606 ,  0.87334764],\n",
       "        [-0.7303882 ,  0.07501176,  1.620321  ],\n",
       "        [ 1.8835862 , -1.3954105 ,  0.8211904 ]],\n",
       "\n",
       "       [[ 0.29821634,  0.5768454 ,  0.6407048 ],\n",
       "        [ 1.6286273 ,  0.3706698 ,  1.439593  ],\n",
       "        [-0.15120259,  1.0260885 ,  1.1177633 ]]], dtype=float32)>"
      ]
     },
     "execution_count": 19,
     "metadata": {},
     "output_type": "execute_result"
    }
   ],
   "source": [
    "anotherone_rand_tensor = tf.random.set_seed(2)\n",
    "anotherone_rand_tensor = tf.random.normal([2,3,3],seed=5)\n",
    "anotherone_rand_tensor"
   ]
  },
  {
   "cell_type": "markdown",
   "id": "0285c8a3-d97d-426f-aa39-47571a2bee2c",
   "metadata": {},
   "source": [
    "### using tf.shuffle()"
   ]
  },
  {
   "cell_type": "code",
   "execution_count": 23,
   "id": "3201933c-8711-45d6-a648-cff07e01d392",
   "metadata": {},
   "outputs": [
    {
     "data": {
      "text/plain": [
       "<tf.Tensor: shape=(3, 3), dtype=int32, numpy=\n",
       "array([[2, 3, 4],\n",
       "       [1, 2, 5],\n",
       "       [5, 2, 6]])>"
      ]
     },
     "execution_count": 23,
     "metadata": {},
     "output_type": "execute_result"
    }
   ],
   "source": [
    "x = tf.constant([[2,3,4],\n",
    "                 [1,2,5],\n",
    "                 [5,2,6]])\n",
    "x"
   ]
  },
  {
   "cell_type": "code",
   "execution_count": 67,
   "id": "0a32eea2-77bd-4d95-873a-54da99234a44",
   "metadata": {},
   "outputs": [
    {
     "name": "stdout",
     "output_type": "stream",
     "text": [
      "tf.Tensor(\n",
      "[[[-0.39120236 -1.1576606   0.87334764]\n",
      "  [-0.7303882   0.07501176  1.620321  ]\n",
      "  [ 1.8835862  -1.3954105   0.8211904 ]]\n",
      "\n",
      " [[ 0.29821634  0.5768454   0.6407048 ]\n",
      "  [ 1.6286273   0.3706698   1.439593  ]\n",
      "  [-0.15120259  1.0260885   1.1177633 ]]], shape=(2, 3, 3), dtype=float32) \n",
      "\n",
      "tf.Tensor(\n",
      "[[[ 0.29821634  0.5768454   0.6407048 ]\n",
      "  [ 1.6286273   0.3706698   1.439593  ]\n",
      "  [-0.15120259  1.0260885   1.1177633 ]]\n",
      "\n",
      " [[-0.39120236 -1.1576606   0.87334764]\n",
      "  [-0.7303882   0.07501176  1.620321  ]\n",
      "  [ 1.8835862  -1.3954105   0.8211904 ]]], shape=(2, 3, 3), dtype=float32)\n"
     ]
    }
   ],
   "source": [
    "print(anotherone_rand_tensor,\"\\n\")\n",
    "print(tf.random.shuffle(anotherone_rand_tensor))"
   ]
  },
  {
   "cell_type": "markdown",
   "id": "b8b7e26e-0f20-47d1-8bba-e237f993c9fe",
   "metadata": {},
   "source": [
    "### using tf.ones()"
   ]
  },
  {
   "cell_type": "code",
   "execution_count": 76,
   "id": "d516110b-25c6-4e32-9c28-21be52933579",
   "metadata": {},
   "outputs": [
    {
     "name": "stdout",
     "output_type": "stream",
     "text": [
      "tensor_ones information:\n",
      " tf.Tensor(\n",
      "[[[1. 1. 1.]\n",
      "  [1. 1. 1.]\n",
      "  [1. 1. 1.]]\n",
      "\n",
      " [[1. 1. 1.]\n",
      "  [1. 1. 1.]\n",
      "  [1. 1. 1.]]], shape=(2, 3, 3), dtype=float32)\n",
      "tensor_ones shape: (2, 3, 3)\n",
      "tensor_ones data type: <dtype: 'int32'>\n",
      "tensor_ones value:\n",
      " [[[1. 1. 1.]\n",
      "  [1. 1. 1.]\n",
      "  [1. 1. 1.]]\n",
      "\n",
      " [[1. 1. 1.]\n",
      "  [1. 1. 1.]\n",
      "  [1. 1. 1.]]]\n",
      "tensor_ones no. of dimensions: 3\n"
     ]
    }
   ],
   "source": [
    "tensor_ones = tf.ones([2,3,3])\n",
    "print(\"tensor_ones information:\\n\",tensor_ones)\n",
    "print(\"tensor_ones shape:\",tensor_ones.shape)\n",
    "print(\"tensor_ones data type:\",tensor.dtype)\n",
    "print(\"tensor_ones value:\\n\",tensor_ones.numpy())\n",
    "print(\"tensor_ones no. of dimensions:\",tensor_ones.ndim)"
   ]
  },
  {
   "cell_type": "markdown",
   "id": "b9924226-cdf0-4bf3-a484-ce34f15130dc",
   "metadata": {},
   "source": [
    "### using tf.zeros()"
   ]
  },
  {
   "cell_type": "code",
   "execution_count": 78,
   "id": "9825ed23-7f27-4e07-81ae-503bccc3b76e",
   "metadata": {},
   "outputs": [
    {
     "name": "stdout",
     "output_type": "stream",
     "text": [
      "tensor_zeros information:\n",
      " tf.Tensor(\n",
      "[[[0. 0. 0.]\n",
      "  [0. 0. 0.]\n",
      "  [0. 0. 0.]]\n",
      "\n",
      " [[0. 0. 0.]\n",
      "  [0. 0. 0.]\n",
      "  [0. 0. 0.]]\n",
      "\n",
      " [[0. 0. 0.]\n",
      "  [0. 0. 0.]\n",
      "  [0. 0. 0.]]], shape=(3, 3, 3), dtype=float32)\n",
      "tensor_zeros shape: (3, 3, 3)\n",
      "tensor_zeros data type: <dtype: 'float32'>\n",
      "tensor_zeros value:\n",
      " [[[0. 0. 0.]\n",
      "  [0. 0. 0.]\n",
      "  [0. 0. 0.]]\n",
      "\n",
      " [[0. 0. 0.]\n",
      "  [0. 0. 0.]\n",
      "  [0. 0. 0.]]\n",
      "\n",
      " [[0. 0. 0.]\n",
      "  [0. 0. 0.]\n",
      "  [0. 0. 0.]]]\n",
      "tensor_zeros no. of dimensions: 3\n"
     ]
    }
   ],
   "source": [
    "tensor_zeros = tf.zeros([3,3,3])\n",
    "print(\"tensor_zeros information:\\n\",tensor_zeros)\n",
    "print(\"tensor_zeros shape:\", tensor_zeros.shape)\n",
    "print(\"tensor_zeros data type:\", tensor_zeros.dtype)\n",
    "print(\"tensor_zeros value:\\n\", tensor_zeros.numpy())\n",
    "print(\"tensor_zeros no. of dimensions:\", tensor_zeros.ndim)"
   ]
  },
  {
   "cell_type": "markdown",
   "id": "8077fdc0-a539-4ca9-9ffb-8af4b9343b9e",
   "metadata": {},
   "source": [
    "### using numpy array"
   ]
  },
  {
   "cell_type": "code",
   "execution_count": 88,
   "id": "489d3039-fc6c-4d52-8a6c-51953f964c80",
   "metadata": {},
   "outputs": [
    {
     "name": "stdout",
     "output_type": "stream",
     "text": [
      "numpy array information:\n",
      " [ 1  2  3  4  5  6  7  8  9 10 11 12 13 14 15 16 17 18 19 20 21 22 23 24]\n"
     ]
    }
   ],
   "source": [
    "import numpy as np\n",
    "numpy_arr = np.arange(1,25,dtype=np.int32)\n",
    "print(\"numpy array information:\\n\",numpy_arr)"
   ]
  },
  {
   "cell_type": "markdown",
   "id": "cdabeb76-fe40-4587-9930-594589ca534f",
   "metadata": {},
   "source": [
    "### converting numpy to tensor"
   ]
  },
  {
   "cell_type": "code",
   "execution_count": 101,
   "id": "654bc308-3fa6-4246-b617-d4d65b0ec4a6",
   "metadata": {},
   "outputs": [
    {
     "name": "stdout",
     "output_type": "stream",
     "text": [
      "elements of a tensor should be:  24\n"
     ]
    },
    {
     "data": {
      "text/plain": [
       "<tf.Tensor: shape=(2, 3, 4), dtype=int32, numpy=\n",
       "array([[[ 1,  2,  3,  4],\n",
       "        [ 5,  6,  7,  8],\n",
       "        [ 9, 10, 11, 12]],\n",
       "\n",
       "       [[13, 14, 15, 16],\n",
       "        [17, 18, 19, 20],\n",
       "        [21, 22, 23, 24]]])>"
      ]
     },
     "execution_count": 101,
     "metadata": {},
     "output_type": "execute_result"
    }
   ],
   "source": [
    "print(\"elements of a tensor should be: \",2*3*4)\n",
    "tensor_A = tf.constant(numpy_arr,shape=([2,3,4]))\n",
    "tensor_A"
   ]
  },
  {
   "cell_type": "markdown",
   "id": "6607d6f0-1c9d-467e-89e0-ebbc7323a261",
   "metadata": {},
   "source": [
    "## Using Aggregation in tensorflow"
   ]
  },
  {
   "cell_type": "markdown",
   "id": "7a0cb7f0-6c79-4853-a4b3-183ebaa1fe00",
   "metadata": {},
   "source": [
    "### using tf.abs()"
   ]
  },
  {
   "cell_type": "code",
   "execution_count": 103,
   "id": "d09e2da1-a58f-437e-a0c2-674cbdefaca2",
   "metadata": {},
   "outputs": [
    {
     "data": {
      "text/plain": [
       "<tf.Tensor: shape=(2, 3, 3), dtype=float32, numpy=\n",
       "array([[[0.39120236, 1.1576606 , 0.87334764],\n",
       "        [0.7303882 , 0.07501176, 1.620321  ],\n",
       "        [1.8835862 , 1.3954105 , 0.8211904 ]],\n",
       "\n",
       "       [[0.29821634, 0.5768454 , 0.6407048 ],\n",
       "        [1.6286273 , 0.3706698 , 1.439593  ],\n",
       "        [0.15120259, 1.0260885 , 1.1177633 ]]], dtype=float32)>"
      ]
     },
     "execution_count": 103,
     "metadata": {},
     "output_type": "execute_result"
    }
   ],
   "source": [
    "abs_tensor = tf.abs(anotherone_rand_tensor)\n",
    "abs_tensor"
   ]
  },
  {
   "cell_type": "markdown",
   "id": "77ce9b81-9e67-4d3b-89ef-504631aac348",
   "metadata": {},
   "source": [
    "### using reduce_min()"
   ]
  },
  {
   "cell_type": "code",
   "execution_count": 111,
   "id": "f7009898-653a-4f12-8f0e-8ec5eb3daa00",
   "metadata": {},
   "outputs": [
    {
     "data": {
      "text/plain": [
       "(<tf.Tensor: shape=(3, 3), dtype=int32, numpy=\n",
       " array([[4, 5, 2],\n",
       "        [6, 7, 1],\n",
       "        [3, 9, 8]])>,\n",
       " <tf.Tensor: shape=(), dtype=int32, numpy=1>,\n",
       " <tf.Tensor: shape=(), dtype=int32, numpy=9>,\n",
       " <tf.Tensor: shape=(), dtype=int32, numpy=5>,\n",
       " <tf.Tensor: shape=(), dtype=int32, numpy=45>)"
      ]
     },
     "execution_count": 111,
     "metadata": {},
     "output_type": "execute_result"
    }
   ],
   "source": [
    "a = tf.constant([[4,5,2],\n",
    "                 [6,7,1],\n",
    "                 [3,9,8]])\n",
    "a, tf.reduce_min(a),tf.reduce_max(a),tf.reduce_mean(a),tf.reduce_sum(a)"
   ]
  },
  {
   "cell_type": "code",
   "execution_count": 231,
   "id": "8d9c7b42-f60a-420d-b227-5638e3ac3c07",
   "metadata": {},
   "outputs": [
    {
     "name": "stdout",
     "output_type": "stream",
     "text": [
      "np_rand information:\n",
      " tf.Tensor(\n",
      "[88 56 88  4 86  0 57 46 34 36 18 41 33 39 23 18 86  3 97 48 51 24 21 46\n",
      " 65 98  3 45 88 28 99  4 43 55 65 79 18 78 50 70 96  9  5 46 85 13 17 88\n",
      " 46 22], shape=(50,), dtype=int32)\n",
      "finding the minimum:\t tf.Tensor(0, shape=(), dtype=int32)\n",
      "finding the maximum:\t tf.Tensor(99, shape=(), dtype=int32)\n",
      "finding the mean:\t tf.Tensor(47, shape=(), dtype=int32)\n",
      "finding the sum:\t tf.Tensor(2358, shape=(), dtype=int32)\n",
      "finding the variance:\t tf.Tensor(915.81445, shape=(), dtype=float32)\n",
      "finding the std dev:\t tf.Tensor(30.262426, shape=(), dtype=float32)\n",
      "finding the positional maximum index:\n",
      " tf.Tensor(30, shape=(), dtype=int64)\n",
      "finding the positional minimum index:\n",
      " tf.Tensor(5, shape=(), dtype=int64)\n"
     ]
    }
   ],
   "source": [
    "np_rand = tf.constant(np.random.randint(0,100,size=50))\n",
    "print(\"np_rand information:\\n\",np_rand)\n",
    "print(\"finding the minimum:\\t\",tf.reduce_min(np_rand))\n",
    "print(\"finding the maximum:\\t\",tf.reduce_max(np_rand))\n",
    "print(\"finding the mean:\\t\",tf.reduce_mean(np_rand))\n",
    "print(\"finding the sum:\\t\",tf.reduce_sum(np_rand))\n",
    "print(\"finding the variance:\\t\",tf.math.reduce_variance(tf.cast(np_rand,tf.float32)))\n",
    "print(\"finding the std dev:\\t\",tf.math.reduce_std(tf.cast(np_rand,tf.float32)))\n",
    "print(\"finding the positional maximum index:\\n\",tf.math.argmax(np_rand))\n",
    "print(\"finding the positional minimum index:\\n\",tf.math.argmin(np_rand))"
   ]
  },
  {
   "cell_type": "code",
   "execution_count": 160,
   "id": "a4714d8c-cb90-4c02-851f-fcfd70236f95",
   "metadata": {},
   "outputs": [
    {
     "data": {
      "text/plain": [
       "50"
      ]
     },
     "execution_count": 160,
     "metadata": {},
     "output_type": "execute_result"
    }
   ],
   "source": [
    "5*1*2*5"
   ]
  },
  {
   "cell_type": "code",
   "execution_count": 164,
   "id": "d4b3f4f6-549b-4dad-b333-31490c9ae18b",
   "metadata": {},
   "outputs": [
    {
     "data": {
      "text/plain": [
       "<tf.Tensor: shape=(2, 5, 5), dtype=int32, numpy=\n",
       "array([[[95,  0, 72, 75, 13],\n",
       "        [66, 45, 24, 97, 22],\n",
       "        [ 6, 57, 38, 21, 50],\n",
       "        [ 1, 36, 52, 54, 60],\n",
       "        [89, 97,  7, 63, 13]],\n",
       "\n",
       "       [[90, 97, 73, 40, 32],\n",
       "        [32, 10, 10, 26, 33],\n",
       "        [66, 47, 14, 69, 88],\n",
       "        [78, 50, 52, 56, 81],\n",
       "        [76, 45, 90, 57, 67]]])>"
      ]
     },
     "execution_count": 164,
     "metadata": {},
     "output_type": "execute_result"
    }
   ],
   "source": [
    "tf_rand = tf.constant(np_rand,shape=[2,5,5])\n",
    "tf_rand"
   ]
  },
  {
   "cell_type": "code",
   "execution_count": 235,
   "id": "a8c8b4b3-213a-4d68-9941-ad0e0532ab1d",
   "metadata": {},
   "outputs": [
    {
     "data": {
      "text/plain": [
       "<tf.Tensor: shape=(50,), dtype=float32, numpy=\n",
       "array([0.6645621 , 0.44100678, 0.3528825 , 0.46448255, 0.03366041,\n",
       "       0.68467236, 0.74011743, 0.8724445 , 0.22632635, 0.22319686,\n",
       "       0.3103881 , 0.7223358 , 0.13318717, 0.5480639 , 0.5746088 ,\n",
       "       0.8996835 , 0.00946367, 0.5212307 , 0.6345445 , 0.1993283 ,\n",
       "       0.72942245, 0.54583454, 0.10756552, 0.6767061 , 0.6602763 ,\n",
       "       0.33695042, 0.60141766, 0.21062577, 0.8527372 , 0.44062173,\n",
       "       0.9485276 , 0.23752594, 0.81179297, 0.5263394 , 0.494308  ,\n",
       "       0.21612847, 0.8457197 , 0.8718841 , 0.3083862 , 0.6868038 ,\n",
       "       0.23764038, 0.7817228 , 0.9671384 , 0.06870162, 0.79873943,\n",
       "       0.66028714, 0.5871513 , 0.16461694, 0.7381023 , 0.32054043],\n",
       "      dtype=float32)>"
      ]
     },
     "execution_count": 235,
     "metadata": {},
     "output_type": "execute_result"
    }
   ],
   "source": [
    "tf.random.set_seed(42)\n",
    "f = tf.random.uniform([50])\n",
    "f"
   ]
  },
  {
   "cell_type": "code",
   "execution_count": 243,
   "id": "1de3c58c-8987-4a1b-a938-83aca5bbc11a",
   "metadata": {},
   "outputs": [
    {
     "data": {
      "text/plain": [
       "(<tf.Tensor: shape=(), dtype=int64, numpy=42>,\n",
       " <tf.Tensor: shape=(), dtype=float32, numpy=0.9671384>)"
      ]
     },
     "execution_count": 243,
     "metadata": {},
     "output_type": "execute_result"
    }
   ],
   "source": [
    "tf.math.argmax(f),f[tf.argmax(f)]"
   ]
  },
  {
   "cell_type": "code",
   "execution_count": 240,
   "id": "5a7b5af3-ffa2-4317-bd7e-a5757428ed6d",
   "metadata": {},
   "outputs": [
    {
     "data": {
      "text/plain": [
       "(<tf.Tensor: shape=(), dtype=int64, numpy=16>,\n",
       " <tf.Tensor: shape=(), dtype=float32, numpy=0.009463668>)"
      ]
     },
     "execution_count": 240,
     "metadata": {},
     "output_type": "execute_result"
    }
   ],
   "source": [
    "tf.math.argmin(f),f[tf.argmin(f)]"
   ]
  },
  {
   "cell_type": "markdown",
   "id": "fe1c23ce-cbcb-45a8-813c-5966521d6e37",
   "metadata": {},
   "source": [
    "### Squeezing a tensor(removing all single dimensions)"
   ]
  },
  {
   "cell_type": "code",
   "execution_count": 268,
   "id": "fc56eb19-b561-423c-969f-37a8f7e7f5d0",
   "metadata": {},
   "outputs": [
    {
     "data": {
      "text/plain": [
       "<tf.Tensor: shape=(1, 1, 1, 1, 50), dtype=float32, numpy=\n",
       "array([[[[[0.6645621 , 0.44100678, 0.3528825 , 0.46448255, 0.03366041,\n",
       "           0.68467236, 0.74011743, 0.8724445 , 0.22632635, 0.22319686,\n",
       "           0.3103881 , 0.7223358 , 0.13318717, 0.5480639 , 0.5746088 ,\n",
       "           0.8996835 , 0.00946367, 0.5212307 , 0.6345445 , 0.1993283 ,\n",
       "           0.72942245, 0.54583454, 0.10756552, 0.6767061 , 0.6602763 ,\n",
       "           0.33695042, 0.60141766, 0.21062577, 0.8527372 , 0.44062173,\n",
       "           0.9485276 , 0.23752594, 0.81179297, 0.5263394 , 0.494308  ,\n",
       "           0.21612847, 0.8457197 , 0.8718841 , 0.3083862 , 0.6868038 ,\n",
       "           0.23764038, 0.7817228 , 0.9671384 , 0.06870162, 0.79873943,\n",
       "           0.66028714, 0.5871513 , 0.16461694, 0.7381023 , 0.32054043]]]]],\n",
       "      dtype=float32)>"
      ]
     },
     "execution_count": 268,
     "metadata": {},
     "output_type": "execute_result"
    }
   ],
   "source": [
    "tf.random.set_seed(42)\n",
    "s_tensor = tf.constant(tf.random.uniform(shape=[50]),shape=(1,1,1,1,50))\n",
    "s_tensor"
   ]
  },
  {
   "cell_type": "code",
   "execution_count": 274,
   "id": "9500fb65-9a2a-43d6-81de-de8adde8fe2b",
   "metadata": {},
   "outputs": [
    {
     "name": "stdout",
     "output_type": "stream",
     "text": [
      "(1, 1, 1, 1, 50)\n",
      "(50,)\n"
     ]
    }
   ],
   "source": [
    "print(s_tensor.shape)\n",
    "print(tf.squeeze(s_tensor).shape)"
   ]
  },
  {
   "cell_type": "code",
   "execution_count": 277,
   "id": "ec35924f-434c-4d68-9aa1-079d38d5c94b",
   "metadata": {},
   "outputs": [
    {
     "name": "stdout",
     "output_type": "stream",
     "text": [
      "[[[[[0.6645621  0.44100678 0.3528825  0.46448255 0.03366041 0.68467236\n",
      "     0.74011743 0.8724445  0.22632635 0.22319686 0.3103881  0.7223358\n",
      "     0.13318717 0.5480639  0.5746088  0.8996835  0.00946367 0.5212307\n",
      "     0.6345445  0.1993283  0.72942245 0.54583454 0.10756552 0.6767061\n",
      "     0.6602763  0.33695042 0.60141766 0.21062577 0.8527372  0.44062173\n",
      "     0.9485276  0.23752594 0.81179297 0.5263394  0.494308   0.21612847\n",
      "     0.8457197  0.8718841  0.3083862  0.6868038  0.23764038 0.7817228\n",
      "     0.9671384  0.06870162 0.79873943 0.66028714 0.5871513  0.16461694\n",
      "     0.7381023  0.32054043]]]]] \n",
      "\n",
      "[0.6645621  0.44100678 0.3528825  0.46448255 0.03366041 0.68467236\n",
      " 0.74011743 0.8724445  0.22632635 0.22319686 0.3103881  0.7223358\n",
      " 0.13318717 0.5480639  0.5746088  0.8996835  0.00946367 0.5212307\n",
      " 0.6345445  0.1993283  0.72942245 0.54583454 0.10756552 0.6767061\n",
      " 0.6602763  0.33695042 0.60141766 0.21062577 0.8527372  0.44062173\n",
      " 0.9485276  0.23752594 0.81179297 0.5263394  0.494308   0.21612847\n",
      " 0.8457197  0.8718841  0.3083862  0.6868038  0.23764038 0.7817228\n",
      " 0.9671384  0.06870162 0.79873943 0.66028714 0.5871513  0.16461694\n",
      " 0.7381023  0.32054043]\n"
     ]
    }
   ],
   "source": [
    "print(s_tensor.numpy(),\"\\n\")\n",
    "print(tf.squeeze(s_tensor).numpy())"
   ]
  },
  {
   "cell_type": "markdown",
   "id": "1270c3a3-ec2a-4c17-b682-f0f9166eb7e1",
   "metadata": {},
   "source": [
    "## Using one-hot encode"
   ]
  },
  {
   "cell_type": "code",
   "execution_count": 290,
   "id": "d446caed-4500-4eef-a539-031cb3b3bdde",
   "metadata": {},
   "outputs": [
    {
     "data": {
      "text/plain": [
       "(<tf.Tensor: shape=(4, 4), dtype=float32, numpy=\n",
       " array([[5., 0., 0., 0.],\n",
       "        [0., 5., 0., 0.],\n",
       "        [0., 0., 0., 0.],\n",
       "        [0., 0., 0., 5.]], dtype=float32)>,\n",
       " TensorShape([4, 4]),\n",
       " 2,\n",
       " 16,\n",
       " tf.float32)"
      ]
     },
     "execution_count": 290,
     "metadata": {},
     "output_type": "execute_result"
    }
   ],
   "source": [
    "index = [0 ,1 ,-1 ,3] # could be red, green, blue, purple\n",
    "depth = 4\n",
    "onehot_tensor = tf.one_hot(index,depth,on_value=5.0,off_value=0.0)\n",
    "onehot_tensor, onehot_tensor.shape, onehot_tensor.ndim, tf.size(onehot_tensor).numpy(), onehot_tensor.dtype"
   ]
  },
  {
   "cell_type": "code",
   "execution_count": 334,
   "id": "17c6c3ff-4637-4439-b156-0f9210d76159",
   "metadata": {},
   "outputs": [
    {
     "data": {
      "text/plain": [
       "[]"
      ]
     },
     "execution_count": 334,
     "metadata": {},
     "output_type": "execute_result"
    }
   ],
   "source": [
    "tf.config.list_physical_devices(\"GPU\")"
   ]
  }
 ],
 "metadata": {
  "kernelspec": {
   "display_name": "Python 3 (ipykernel)",
   "language": "python",
   "name": "python3"
  },
  "language_info": {
   "codemirror_mode": {
    "name": "ipython",
    "version": 3
   },
   "file_extension": ".py",
   "mimetype": "text/x-python",
   "name": "python",
   "nbconvert_exporter": "python",
   "pygments_lexer": "ipython3",
   "version": "3.11.2"
  }
 },
 "nbformat": 4,
 "nbformat_minor": 5
}
