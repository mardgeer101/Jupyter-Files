{
 "cells": [
  {
   "cell_type": "markdown",
   "id": "64469dbe-14b0-4f81-82d8-cbadc6a266ec",
   "metadata": {},
   "source": [
    "# Practice what I learn from the beginning to current"
   ]
  },
  {
   "cell_type": "markdown",
   "id": "bbb94eab-8a39-4ace-828a-0219e266644b",
   "metadata": {},
   "source": [
    "## Declaring the package or library"
   ]
  },
  {
   "cell_type": "code",
   "execution_count": 4,
   "id": "1c552b3e-f7e8-42d1-9c54-7396c724d0a2",
   "metadata": {},
   "outputs": [
    {
     "name": "stdout",
     "output_type": "stream",
     "text": [
      "2.15.0\n"
     ]
    }
   ],
   "source": [
    "import tensorflow as tf\n",
    "print(tf.__version__)"
   ]
  },
  {
   "cell_type": "markdown",
   "id": "f0489e66-befd-4252-af13-a256ec5f9844",
   "metadata": {},
   "source": [
    "## Using tf.constant"
   ]
  },
  {
   "cell_type": "markdown",
   "id": "b8646201-8ca3-4450-acfa-2457853737a4",
   "metadata": {},
   "source": [
    "### Scalar"
   ]
  },
  {
   "cell_type": "code",
   "execution_count": 33,
   "id": "41a0222d-fe2b-4e3a-b816-8ef58c3c8d71",
   "metadata": {},
   "outputs": [
    {
     "name": "stdout",
     "output_type": "stream",
     "text": [
      "information of scalar: tf.Tensor(5, shape=(), dtype=int32)\n",
      "shape of scalar: ()\n",
      "data type of scalar: <dtype: 'int32'>\n",
      "scalar value is: 5\n",
      "no. of dimension of scalar: 0\n"
     ]
    }
   ],
   "source": [
    "scalar = tf.constant(5)\n",
    "print(\"information of scalar:\",scalar)\n",
    "print (\"shape of scalar:\",scalar.shape)\n",
    "print(\"data type of scalar:\",scalar.dtype)\n",
    "print(\"scalar value is:\",scalar.numpy())\n",
    "print(\"no. of dimension of scalar:\",scalar.ndim)"
   ]
  },
  {
   "cell_type": "markdown",
   "id": "a66b1b07-fe9f-4089-8fed-dbe4c033e405",
   "metadata": {},
   "source": [
    "### Vector"
   ]
  },
  {
   "cell_type": "code",
   "execution_count": 34,
   "id": "33b13154-960a-4e19-a060-e57c1cbd63ab",
   "metadata": {},
   "outputs": [
    {
     "name": "stdout",
     "output_type": "stream",
     "text": [
      "information of vector: tf.Tensor([5 2], shape=(2,), dtype=int32)\n",
      "shape of vector: (2,)\n",
      "data type of vector <dtype: 'int32'>\n",
      "vector value: [5 2]\n",
      "no. of dimension of vector: 1\n"
     ]
    }
   ],
   "source": [
    "vector = tf.constant([5,2])\n",
    "print(\"information of vector:\",vector)\n",
    "print(\"shape of vector:\",vector.shape)\n",
    "print(\"data type of vector\",vector.dtype)\n",
    "print(\"vector value:\",vector.numpy())\n",
    "print(\"no. of dimension of vector:\",vector.ndim)"
   ]
  },
  {
   "cell_type": "markdown",
   "id": "cc5b15c1-f1ba-4b3f-a7db-853dff613129",
   "metadata": {},
   "source": [
    "### Matrix"
   ]
  },
  {
   "cell_type": "code",
   "execution_count": 43,
   "id": "1cd888a6-2078-45e0-87a4-3e30750110ed",
   "metadata": {},
   "outputs": [
    {
     "name": "stdout",
     "output_type": "stream",
     "text": [
      "information of matrix:\n",
      " tf.Tensor(\n",
      "[[5 3 2]\n",
      " [2 6 9]\n",
      " [9 4 6]], shape=(3, 3), dtype=int32)\n",
      "shape of matrix: (3, 3)\n",
      "data type of matrix: <dtype: 'int32'>\n",
      "matrix value:\n",
      " [[5 3 2]\n",
      " [2 6 9]\n",
      " [9 4 6]]\n",
      "no of dimension of matrix: 2\n"
     ]
    }
   ],
   "source": [
    "matrix = tf.constant([[5,3,2],\n",
    "                      [2,6,9],\n",
    "                      [9,4,6]])\n",
    "print(\"information of matrix:\\n\",matrix)\n",
    "print(\"shape of matrix:\",matrix.shape)\n",
    "print(\"data type of matrix:\", matrix.dtype)\n",
    "print(\"matrix value:\\n\",matrix.numpy())\n",
    "print(\"no of dimension of matrix:\",matrix.ndim)"
   ]
  },
  {
   "cell_type": "markdown",
   "id": "1befc0d1-4290-4e5e-8c4b-7b0ce75b69e5",
   "metadata": {},
   "source": [
    "### Tensor"
   ]
  },
  {
   "cell_type": "code",
   "execution_count": 47,
   "id": "a2b782e9-f264-4ff2-891d-7d79d9d06019",
   "metadata": {},
   "outputs": [
    {
     "name": "stdout",
     "output_type": "stream",
     "text": [
      "tensor information:\n",
      " tf.Tensor(\n",
      "[[[ 6  3  6]\n",
      "  [ 4  2  5]\n",
      "  [ 3  5  6]]\n",
      "\n",
      " [[ 1 54  2]\n",
      "  [ 5  3  2]\n",
      "  [ 4  3  6]]], shape=(2, 3, 3), dtype=int32)\n",
      "tensor shape: (2, 3, 3)\n",
      "tensor data type: <dtype: 'int32'>\n",
      "tensor value:\n",
      " [[[ 6  3  6]\n",
      "  [ 4  2  5]\n",
      "  [ 3  5  6]]\n",
      "\n",
      " [[ 1 54  2]\n",
      "  [ 5  3  2]\n",
      "  [ 4  3  6]]]\n",
      "tensor no. of dimensions 3\n"
     ]
    }
   ],
   "source": [
    "tensor = tf.constant([[[6,3,6],\n",
    "                       [4,2,5],\n",
    "                       [3,5,6]],\n",
    "                      [[1,54,2],\n",
    "                       [5,3,2],\n",
    "                       [4,3,6]]])\n",
    "print(\"tensor information:\\n\",tensor)\n",
    "print(\"tensor shape:\",tensor.shape)\n",
    "print(\"tensor data type:\",tensor.dtype)\n",
    "print(\"tensor value:\\n\",tensor.numpy())\n",
    "print(\"tensor no. of dimensions\",tensor.ndim)"
   ]
  },
  {
   "cell_type": "markdown",
   "id": "8b948cd6-dbaa-4bd0-b504-cdd949aa360f",
   "metadata": {},
   "source": [
    "## Using of tf.Variable"
   ]
  },
  {
   "cell_type": "code",
   "execution_count": 530,
   "id": "39fdf5eb-f7da-4882-8793-3a76007f4751",
   "metadata": {},
   "outputs": [
    {
     "data": {
      "text/plain": [
       "<tf.Variable 'Variable:0' shape=(2, 2) dtype=int32, numpy=\n",
       "array([[3, 4],\n",
       "       [5, 6]])>"
      ]
     },
     "execution_count": 530,
     "metadata": {},
     "output_type": "execute_result"
    }
   ],
   "source": [
    "var_tensor = tf.Variable([[3,4],\n",
    "                          [5,6]])\n",
    "var_tensor"
   ]
  },
  {
   "cell_type": "code",
   "execution_count": 533,
   "id": "6626ee04-a2eb-4ad9-bda6-1163a52710e1",
   "metadata": {},
   "outputs": [
    {
     "data": {
      "text/plain": [
       "<tf.Variable 'Variable:0' shape=(2, 2) dtype=int32, numpy=\n",
       "array([[ 1,  2],\n",
       "       [76, 33]])>"
      ]
     },
     "execution_count": 533,
     "metadata": {},
     "output_type": "execute_result"
    }
   ],
   "source": [
    "var_tensor.assign([[1,2],\n",
    "                  [76,33]])\n",
    "var_tensor"
   ]
  },
  {
   "cell_type": "markdown",
   "id": "d64beb48-249b-4851-8726-6352bd965a16",
   "metadata": {},
   "source": [
    "## Using of tf.random"
   ]
  },
  {
   "cell_type": "markdown",
   "id": "583a4896-8900-4423-8016-2b297671fe1d",
   "metadata": {},
   "source": [
    "### usisng of tf.random.generator.from_see()"
   ]
  },
  {
   "cell_type": "code",
   "execution_count": 527,
   "id": "d26f8c37-b52b-4b1d-80bd-212517934da9",
   "metadata": {},
   "outputs": [
    {
     "data": {
      "text/plain": [
       "<tf.Tensor: shape=(3, 2), dtype=float32, numpy=\n",
       "array([[-0.7565803 , -0.06854702],\n",
       "       [ 0.07595026, -1.2573844 ],\n",
       "       [-0.23193763, -1.8107855 ]], dtype=float32)>"
      ]
     },
     "execution_count": 527,
     "metadata": {},
     "output_type": "execute_result"
    }
   ],
   "source": [
    "random1 = tf.random.Generator.from_seed(42)\n",
    "random1 = random1.normal(shape=(3,2))\n",
    "random1"
   ]
  },
  {
   "cell_type": "markdown",
   "id": "8117b449-d4be-4a7a-a736-f580eb0f81e2",
   "metadata": {},
   "source": [
    "### using of tf.random.normal"
   ]
  },
  {
   "cell_type": "code",
   "execution_count": 180,
   "id": "facd5dad-4f5b-4511-af96-9a418af702d5",
   "metadata": {},
   "outputs": [
    {
     "data": {
      "text/plain": [
       "<tf.Tensor: shape=(2, 3, 3), dtype=float32, numpy=\n",
       "array([[[-1.2268713 ,  0.2612501 , -0.46333015],\n",
       "        [-1.4015867 ,  1.3283775 ,  1.0398799 ],\n",
       "        [-1.0119172 , -0.45224237, -1.5239854 ]],\n",
       "\n",
       "       [[ 1.0320581 , -0.38796726, -1.0805458 ],\n",
       "        [ 0.45629093,  1.4238765 , -1.3993766 ],\n",
       "        [-1.5570542 ,  0.06404073, -1.214125  ]]], dtype=float32)>"
      ]
     },
     "execution_count": 180,
     "metadata": {},
     "output_type": "execute_result"
    }
   ],
   "source": [
    "rand_tensor = tf.random.normal([2,3,3])\n",
    "rand_tensor"
   ]
  },
  {
   "cell_type": "markdown",
   "id": "cd5830a3-45fe-4acb-a060-defb94e7a278",
   "metadata": {},
   "source": [
    "### using tf.random.set_seed()"
   ]
  },
  {
   "cell_type": "code",
   "execution_count": 336,
   "id": "083893b0-a476-4795-b1bc-1da88144a8ee",
   "metadata": {},
   "outputs": [
    {
     "data": {
      "text/plain": [
       "<tf.Tensor: shape=(2, 3, 3), dtype=float32, numpy=\n",
       "array([[[-0.07676513, -0.2082602 ,  1.9333363 ],\n",
       "        [ 1.175166  ,  1.4444144 ,  1.3351023 ],\n",
       "        [ 0.0987538 ,  0.47003892, -0.89593434]],\n",
       "\n",
       "       [[ 0.8269468 , -0.3298544 , -1.6903992 ],\n",
       "        [ 2.1704402 , -1.0355538 ,  1.1871556 ],\n",
       "        [ 0.44113445, -0.7447429 ,  1.2710264 ]]], dtype=float32)>"
      ]
     },
     "execution_count": 336,
     "metadata": {},
     "output_type": "execute_result"
    }
   ],
   "source": [
    "tf.random.set_seed(4)\n",
    "another_rand_tensor = tf.random.normal([2,3,3])\n",
    "another_rand_tensor"
   ]
  },
  {
   "cell_type": "code",
   "execution_count": 492,
   "id": "42d9ce78-ebbf-4a1b-97f2-88666251ddf2",
   "metadata": {},
   "outputs": [
    {
     "data": {
      "text/plain": [
       "<tf.Tensor: shape=(2, 3, 3), dtype=float32, numpy=\n",
       "array([[[-0.39120236, -1.1576606 ,  0.87334764],\n",
       "        [-0.7303882 ,  0.07501176,  1.620321  ],\n",
       "        [ 1.8835862 , -1.3954105 ,  0.8211904 ]],\n",
       "\n",
       "       [[ 0.29821634,  0.5768454 ,  0.6407048 ],\n",
       "        [ 1.6286273 ,  0.3706698 ,  1.439593  ],\n",
       "        [-0.15120259,  1.0260885 ,  1.1177633 ]]], dtype=float32)>"
      ]
     },
     "execution_count": 492,
     "metadata": {},
     "output_type": "execute_result"
    }
   ],
   "source": [
    "anotherone_rand_tensor = tf.random.set_seed(2)\n",
    "anotherone_rand_tensor = tf.random.normal([2,3,3],seed=5)\n",
    "anotherone_rand_tensor"
   ]
  }
 ],
 "metadata": {
  "kernelspec": {
   "display_name": "Python 3 (ipykernel)",
   "language": "python",
   "name": "python3"
  },
  "language_info": {
   "codemirror_mode": {
    "name": "ipython",
    "version": 3
   },
   "file_extension": ".py",
   "mimetype": "text/x-python",
   "name": "python",
   "nbconvert_exporter": "python",
   "pygments_lexer": "ipython3",
   "version": "3.11.2"
  }
 },
 "nbformat": 4,
 "nbformat_minor": 5
}
