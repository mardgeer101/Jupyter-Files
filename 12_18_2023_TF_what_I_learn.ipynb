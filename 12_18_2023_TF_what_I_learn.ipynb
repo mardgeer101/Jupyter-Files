{
 "cells": [
  {
   "cell_type": "code",
   "execution_count": 1,
   "id": "584f75ba-5a56-4dcb-b359-5bc67bc0c18a",
   "metadata": {},
   "outputs": [
    {
     "name": "stdout",
     "output_type": "stream",
     "text": [
      "WARNING:tensorflow:From C:\\Users\\ACER\\AppData\\Local\\Programs\\Python\\Python311\\Lib\\site-packages\\keras\\src\\losses.py:2976: The name tf.losses.sparse_softmax_cross_entropy is deprecated. Please use tf.compat.v1.losses.sparse_softmax_cross_entropy instead.\n",
      "\n"
     ]
    }
   ],
   "source": [
    "import tensorflow as tf\n",
    "import numpy as np\n",
    "import pandas as pd\n",
    "import matplotlib.pyplot as plt\n",
    "from tensorflow.keras.utils import plot_model\n",
    "from sklearn.preprocessing import MinMaxScaler, OneHotEncoder\n",
    "from sklearn.model_selection import train_test_split\n",
    "from sklearn.compose import make_column_transformer"
   ]
  },
  {
   "cell_type": "code",
   "execution_count": 2,
   "id": "14de1a17-1932-4058-9c04-c8642c298004",
   "metadata": {},
   "outputs": [
    {
     "name": "stdout",
     "output_type": "stream",
     "text": [
      "tensorflow version:\t 2.15.0\n",
      "numpy version:\t\t 1.24.2\n",
      "pandas version:\t\t 1.5.3\n"
     ]
    }
   ],
   "source": [
    "print(\"tensorflow version:\\t\",tf.__version__)\n",
    "print(\"numpy version:\\t\\t\",np.__version__)\n",
    "print(\"pandas version:\\t\\t\",pd.__version__)"
   ]
  },
  {
   "cell_type": "code",
   "execution_count": 3,
   "id": "f3d45219-c987-4071-9b0b-39442d1001c6",
   "metadata": {},
   "outputs": [
    {
     "data": {
      "text/html": [
       "<div>\n",
       "<style scoped>\n",
       "    .dataframe tbody tr th:only-of-type {\n",
       "        vertical-align: middle;\n",
       "    }\n",
       "\n",
       "    .dataframe tbody tr th {\n",
       "        vertical-align: top;\n",
       "    }\n",
       "\n",
       "    .dataframe thead th {\n",
       "        text-align: right;\n",
       "    }\n",
       "</style>\n",
       "<table border=\"1\" class=\"dataframe\">\n",
       "  <thead>\n",
       "    <tr style=\"text-align: right;\">\n",
       "      <th></th>\n",
       "      <th>year</th>\n",
       "      <th>model</th>\n",
       "      <th>price</th>\n",
       "      <th>mileage</th>\n",
       "      <th>color</th>\n",
       "      <th>transmission</th>\n",
       "    </tr>\n",
       "  </thead>\n",
       "  <tbody>\n",
       "    <tr>\n",
       "      <th>0</th>\n",
       "      <td>2011</td>\n",
       "      <td>SEL</td>\n",
       "      <td>21992</td>\n",
       "      <td>7413</td>\n",
       "      <td>Yellow</td>\n",
       "      <td>AUTO</td>\n",
       "    </tr>\n",
       "    <tr>\n",
       "      <th>1</th>\n",
       "      <td>2011</td>\n",
       "      <td>SEL</td>\n",
       "      <td>20995</td>\n",
       "      <td>10926</td>\n",
       "      <td>Gray</td>\n",
       "      <td>AUTO</td>\n",
       "    </tr>\n",
       "    <tr>\n",
       "      <th>2</th>\n",
       "      <td>2011</td>\n",
       "      <td>SEL</td>\n",
       "      <td>19995</td>\n",
       "      <td>7351</td>\n",
       "      <td>Silver</td>\n",
       "      <td>AUTO</td>\n",
       "    </tr>\n",
       "    <tr>\n",
       "      <th>3</th>\n",
       "      <td>2011</td>\n",
       "      <td>SEL</td>\n",
       "      <td>17809</td>\n",
       "      <td>11613</td>\n",
       "      <td>Gray</td>\n",
       "      <td>AUTO</td>\n",
       "    </tr>\n",
       "    <tr>\n",
       "      <th>4</th>\n",
       "      <td>2012</td>\n",
       "      <td>SE</td>\n",
       "      <td>17500</td>\n",
       "      <td>8367</td>\n",
       "      <td>White</td>\n",
       "      <td>AUTO</td>\n",
       "    </tr>\n",
       "  </tbody>\n",
       "</table>\n",
       "</div>"
      ],
      "text/plain": [
       "   year model  price  mileage   color transmission\n",
       "0  2011   SEL  21992     7413  Yellow         AUTO\n",
       "1  2011   SEL  20995    10926    Gray         AUTO\n",
       "2  2011   SEL  19995     7351  Silver         AUTO\n",
       "3  2011   SEL  17809    11613    Gray         AUTO\n",
       "4  2012    SE  17500     8367   White         AUTO"
      ]
     },
     "execution_count": 3,
     "metadata": {},
     "output_type": "execute_result"
    }
   ],
   "source": [
    "used_cars = pd.read_csv(\"C:/Users/ACER/OneDrive/Jupyter Files/Machine-Learning-with-R-datasets/usedcars.csv\")\n",
    "used_cars.head()"
   ]
  },
  {
   "cell_type": "code",
   "execution_count": 4,
   "id": "7e8ce4af-62ca-4702-9414-eb33bc04067b",
   "metadata": {},
   "outputs": [
    {
     "data": {
      "text/plain": [
       "(     year model  mileage   color transmission\n",
       " 0    2011   SEL     7413  Yellow         AUTO\n",
       " 1    2011   SEL    10926    Gray         AUTO\n",
       " 2    2011   SEL     7351  Silver         AUTO\n",
       " 3    2011   SEL    11613    Gray         AUTO\n",
       " 4    2012    SE     8367   White         AUTO\n",
       " ..    ...   ...      ...     ...          ...\n",
       " 145  2006   SES    95000  Silver         AUTO\n",
       " 146  2002    SE    87003     Red         AUTO\n",
       " 147  2000    SE    96841     Red         AUTO\n",
       " 148  2001    SE   151479  Yellow         AUTO\n",
       " 149  2000    SE   109259     Red         AUTO\n",
       " \n",
       " [150 rows x 5 columns],\n",
       " 0      21992\n",
       " 1      20995\n",
       " 2      19995\n",
       " 3      17809\n",
       " 4      17500\n",
       "        ...  \n",
       " 145     6200\n",
       " 146     5995\n",
       " 147     5980\n",
       " 148     4899\n",
       " 149     3800\n",
       " Name: price, Length: 150, dtype: int64)"
      ]
     },
     "execution_count": 4,
     "metadata": {},
     "output_type": "execute_result"
    }
   ],
   "source": [
    "X = used_cars.drop(columns=['price'])\n",
    "y = used_cars['price']\n",
    "X, y"
   ]
  },
  {
   "cell_type": "code",
   "execution_count": 5,
   "id": "5d9fe3b0-16ea-45f9-a187-a216c30401c7",
   "metadata": {},
   "outputs": [
    {
     "data": {
      "text/html": [
       "<style>#sk-container-id-1 {color: black;}#sk-container-id-1 pre{padding: 0;}#sk-container-id-1 div.sk-toggleable {background-color: white;}#sk-container-id-1 label.sk-toggleable__label {cursor: pointer;display: block;width: 100%;margin-bottom: 0;padding: 0.3em;box-sizing: border-box;text-align: center;}#sk-container-id-1 label.sk-toggleable__label-arrow:before {content: \"▸\";float: left;margin-right: 0.25em;color: #696969;}#sk-container-id-1 label.sk-toggleable__label-arrow:hover:before {color: black;}#sk-container-id-1 div.sk-estimator:hover label.sk-toggleable__label-arrow:before {color: black;}#sk-container-id-1 div.sk-toggleable__content {max-height: 0;max-width: 0;overflow: hidden;text-align: left;background-color: #f0f8ff;}#sk-container-id-1 div.sk-toggleable__content pre {margin: 0.2em;color: black;border-radius: 0.25em;background-color: #f0f8ff;}#sk-container-id-1 input.sk-toggleable__control:checked~div.sk-toggleable__content {max-height: 200px;max-width: 100%;overflow: auto;}#sk-container-id-1 input.sk-toggleable__control:checked~label.sk-toggleable__label-arrow:before {content: \"▾\";}#sk-container-id-1 div.sk-estimator input.sk-toggleable__control:checked~label.sk-toggleable__label {background-color: #d4ebff;}#sk-container-id-1 div.sk-label input.sk-toggleable__control:checked~label.sk-toggleable__label {background-color: #d4ebff;}#sk-container-id-1 input.sk-hidden--visually {border: 0;clip: rect(1px 1px 1px 1px);clip: rect(1px, 1px, 1px, 1px);height: 1px;margin: -1px;overflow: hidden;padding: 0;position: absolute;width: 1px;}#sk-container-id-1 div.sk-estimator {font-family: monospace;background-color: #f0f8ff;border: 1px dotted black;border-radius: 0.25em;box-sizing: border-box;margin-bottom: 0.5em;}#sk-container-id-1 div.sk-estimator:hover {background-color: #d4ebff;}#sk-container-id-1 div.sk-parallel-item::after {content: \"\";width: 100%;border-bottom: 1px solid gray;flex-grow: 1;}#sk-container-id-1 div.sk-label:hover label.sk-toggleable__label {background-color: #d4ebff;}#sk-container-id-1 div.sk-serial::before {content: \"\";position: absolute;border-left: 1px solid gray;box-sizing: border-box;top: 0;bottom: 0;left: 50%;z-index: 0;}#sk-container-id-1 div.sk-serial {display: flex;flex-direction: column;align-items: center;background-color: white;padding-right: 0.2em;padding-left: 0.2em;position: relative;}#sk-container-id-1 div.sk-item {position: relative;z-index: 1;}#sk-container-id-1 div.sk-parallel {display: flex;align-items: stretch;justify-content: center;background-color: white;position: relative;}#sk-container-id-1 div.sk-item::before, #sk-container-id-1 div.sk-parallel-item::before {content: \"\";position: absolute;border-left: 1px solid gray;box-sizing: border-box;top: 0;bottom: 0;left: 50%;z-index: -1;}#sk-container-id-1 div.sk-parallel-item {display: flex;flex-direction: column;z-index: 1;position: relative;background-color: white;}#sk-container-id-1 div.sk-parallel-item:first-child::after {align-self: flex-end;width: 50%;}#sk-container-id-1 div.sk-parallel-item:last-child::after {align-self: flex-start;width: 50%;}#sk-container-id-1 div.sk-parallel-item:only-child::after {width: 0;}#sk-container-id-1 div.sk-dashed-wrapped {border: 1px dashed gray;margin: 0 0.4em 0.5em 0.4em;box-sizing: border-box;padding-bottom: 0.4em;background-color: white;}#sk-container-id-1 div.sk-label label {font-family: monospace;font-weight: bold;display: inline-block;line-height: 1.2em;}#sk-container-id-1 div.sk-label-container {text-align: center;}#sk-container-id-1 div.sk-container {/* jupyter's `normalize.less` sets `[hidden] { display: none; }` but bootstrap.min.css set `[hidden] { display: none !important; }` so we also need the `!important` here to be able to override the default hidden behavior on the sphinx rendered scikit-learn.org. See: https://github.com/scikit-learn/scikit-learn/issues/21755 */display: inline-block !important;position: relative;}#sk-container-id-1 div.sk-text-repr-fallback {display: none;}</style><div id=\"sk-container-id-1\" class=\"sk-top-container\"><div class=\"sk-text-repr-fallback\"><pre>ColumnTransformer(transformers=[(&#x27;minmaxscaler&#x27;, MinMaxScaler(),\n",
       "                                 [&#x27;year&#x27;, &#x27;mileage&#x27;]),\n",
       "                                (&#x27;onehotencoder&#x27;,\n",
       "                                 OneHotEncoder(handle_unknown=&#x27;ignore&#x27;),\n",
       "                                 [&#x27;model&#x27;, &#x27;color&#x27;, &#x27;transmission&#x27;])])</pre><b>In a Jupyter environment, please rerun this cell to show the HTML representation or trust the notebook. <br />On GitHub, the HTML representation is unable to render, please try loading this page with nbviewer.org.</b></div><div class=\"sk-container\" hidden><div class=\"sk-item sk-dashed-wrapped\"><div class=\"sk-label-container\"><div class=\"sk-label sk-toggleable\"><input class=\"sk-toggleable__control sk-hidden--visually\" id=\"sk-estimator-id-1\" type=\"checkbox\" ><label for=\"sk-estimator-id-1\" class=\"sk-toggleable__label sk-toggleable__label-arrow\">ColumnTransformer</label><div class=\"sk-toggleable__content\"><pre>ColumnTransformer(transformers=[(&#x27;minmaxscaler&#x27;, MinMaxScaler(),\n",
       "                                 [&#x27;year&#x27;, &#x27;mileage&#x27;]),\n",
       "                                (&#x27;onehotencoder&#x27;,\n",
       "                                 OneHotEncoder(handle_unknown=&#x27;ignore&#x27;),\n",
       "                                 [&#x27;model&#x27;, &#x27;color&#x27;, &#x27;transmission&#x27;])])</pre></div></div></div><div class=\"sk-parallel\"><div class=\"sk-parallel-item\"><div class=\"sk-item\"><div class=\"sk-label-container\"><div class=\"sk-label sk-toggleable\"><input class=\"sk-toggleable__control sk-hidden--visually\" id=\"sk-estimator-id-2\" type=\"checkbox\" ><label for=\"sk-estimator-id-2\" class=\"sk-toggleable__label sk-toggleable__label-arrow\">minmaxscaler</label><div class=\"sk-toggleable__content\"><pre>[&#x27;year&#x27;, &#x27;mileage&#x27;]</pre></div></div></div><div class=\"sk-serial\"><div class=\"sk-item\"><div class=\"sk-estimator sk-toggleable\"><input class=\"sk-toggleable__control sk-hidden--visually\" id=\"sk-estimator-id-3\" type=\"checkbox\" ><label for=\"sk-estimator-id-3\" class=\"sk-toggleable__label sk-toggleable__label-arrow\">MinMaxScaler</label><div class=\"sk-toggleable__content\"><pre>MinMaxScaler()</pre></div></div></div></div></div></div><div class=\"sk-parallel-item\"><div class=\"sk-item\"><div class=\"sk-label-container\"><div class=\"sk-label sk-toggleable\"><input class=\"sk-toggleable__control sk-hidden--visually\" id=\"sk-estimator-id-4\" type=\"checkbox\" ><label for=\"sk-estimator-id-4\" class=\"sk-toggleable__label sk-toggleable__label-arrow\">onehotencoder</label><div class=\"sk-toggleable__content\"><pre>[&#x27;model&#x27;, &#x27;color&#x27;, &#x27;transmission&#x27;]</pre></div></div></div><div class=\"sk-serial\"><div class=\"sk-item\"><div class=\"sk-estimator sk-toggleable\"><input class=\"sk-toggleable__control sk-hidden--visually\" id=\"sk-estimator-id-5\" type=\"checkbox\" ><label for=\"sk-estimator-id-5\" class=\"sk-toggleable__label sk-toggleable__label-arrow\">OneHotEncoder</label><div class=\"sk-toggleable__content\"><pre>OneHotEncoder(handle_unknown=&#x27;ignore&#x27;)</pre></div></div></div></div></div></div></div></div></div></div>"
      ],
      "text/plain": [
       "ColumnTransformer(transformers=[('minmaxscaler', MinMaxScaler(),\n",
       "                                 ['year', 'mileage']),\n",
       "                                ('onehotencoder',\n",
       "                                 OneHotEncoder(handle_unknown='ignore'),\n",
       "                                 ['model', 'color', 'transmission'])])"
      ]
     },
     "execution_count": 5,
     "metadata": {},
     "output_type": "execute_result"
    }
   ],
   "source": [
    "ct = make_column_transformer((MinMaxScaler(),['year','mileage']),\n",
    "                             (OneHotEncoder(handle_unknown='ignore'),['model','color','transmission'])\n",
    "                            )\n",
    "ct"
   ]
  },
  {
   "cell_type": "code",
   "execution_count": 6,
   "id": "775c5221-e538-42dc-802e-71c00467de82",
   "metadata": {},
   "outputs": [
    {
     "data": {
      "text/plain": [
       "((135, 5), (15, 5))"
      ]
     },
     "execution_count": 6,
     "metadata": {},
     "output_type": "execute_result"
    }
   ],
   "source": [
    "X_train, X_test, y_train, y_test = train_test_split(X, y, test_size=.10, random_state=42)\n",
    "X_train.shape, X_test.shape"
   ]
  },
  {
   "cell_type": "code",
   "execution_count": 7,
   "id": "987c3ced-a64c-4b7c-8391-944ff4bca42b",
   "metadata": {},
   "outputs": [
    {
     "data": {
      "text/html": [
       "<style>#sk-container-id-2 {color: black;}#sk-container-id-2 pre{padding: 0;}#sk-container-id-2 div.sk-toggleable {background-color: white;}#sk-container-id-2 label.sk-toggleable__label {cursor: pointer;display: block;width: 100%;margin-bottom: 0;padding: 0.3em;box-sizing: border-box;text-align: center;}#sk-container-id-2 label.sk-toggleable__label-arrow:before {content: \"▸\";float: left;margin-right: 0.25em;color: #696969;}#sk-container-id-2 label.sk-toggleable__label-arrow:hover:before {color: black;}#sk-container-id-2 div.sk-estimator:hover label.sk-toggleable__label-arrow:before {color: black;}#sk-container-id-2 div.sk-toggleable__content {max-height: 0;max-width: 0;overflow: hidden;text-align: left;background-color: #f0f8ff;}#sk-container-id-2 div.sk-toggleable__content pre {margin: 0.2em;color: black;border-radius: 0.25em;background-color: #f0f8ff;}#sk-container-id-2 input.sk-toggleable__control:checked~div.sk-toggleable__content {max-height: 200px;max-width: 100%;overflow: auto;}#sk-container-id-2 input.sk-toggleable__control:checked~label.sk-toggleable__label-arrow:before {content: \"▾\";}#sk-container-id-2 div.sk-estimator input.sk-toggleable__control:checked~label.sk-toggleable__label {background-color: #d4ebff;}#sk-container-id-2 div.sk-label input.sk-toggleable__control:checked~label.sk-toggleable__label {background-color: #d4ebff;}#sk-container-id-2 input.sk-hidden--visually {border: 0;clip: rect(1px 1px 1px 1px);clip: rect(1px, 1px, 1px, 1px);height: 1px;margin: -1px;overflow: hidden;padding: 0;position: absolute;width: 1px;}#sk-container-id-2 div.sk-estimator {font-family: monospace;background-color: #f0f8ff;border: 1px dotted black;border-radius: 0.25em;box-sizing: border-box;margin-bottom: 0.5em;}#sk-container-id-2 div.sk-estimator:hover {background-color: #d4ebff;}#sk-container-id-2 div.sk-parallel-item::after {content: \"\";width: 100%;border-bottom: 1px solid gray;flex-grow: 1;}#sk-container-id-2 div.sk-label:hover label.sk-toggleable__label {background-color: #d4ebff;}#sk-container-id-2 div.sk-serial::before {content: \"\";position: absolute;border-left: 1px solid gray;box-sizing: border-box;top: 0;bottom: 0;left: 50%;z-index: 0;}#sk-container-id-2 div.sk-serial {display: flex;flex-direction: column;align-items: center;background-color: white;padding-right: 0.2em;padding-left: 0.2em;position: relative;}#sk-container-id-2 div.sk-item {position: relative;z-index: 1;}#sk-container-id-2 div.sk-parallel {display: flex;align-items: stretch;justify-content: center;background-color: white;position: relative;}#sk-container-id-2 div.sk-item::before, #sk-container-id-2 div.sk-parallel-item::before {content: \"\";position: absolute;border-left: 1px solid gray;box-sizing: border-box;top: 0;bottom: 0;left: 50%;z-index: -1;}#sk-container-id-2 div.sk-parallel-item {display: flex;flex-direction: column;z-index: 1;position: relative;background-color: white;}#sk-container-id-2 div.sk-parallel-item:first-child::after {align-self: flex-end;width: 50%;}#sk-container-id-2 div.sk-parallel-item:last-child::after {align-self: flex-start;width: 50%;}#sk-container-id-2 div.sk-parallel-item:only-child::after {width: 0;}#sk-container-id-2 div.sk-dashed-wrapped {border: 1px dashed gray;margin: 0 0.4em 0.5em 0.4em;box-sizing: border-box;padding-bottom: 0.4em;background-color: white;}#sk-container-id-2 div.sk-label label {font-family: monospace;font-weight: bold;display: inline-block;line-height: 1.2em;}#sk-container-id-2 div.sk-label-container {text-align: center;}#sk-container-id-2 div.sk-container {/* jupyter's `normalize.less` sets `[hidden] { display: none; }` but bootstrap.min.css set `[hidden] { display: none !important; }` so we also need the `!important` here to be able to override the default hidden behavior on the sphinx rendered scikit-learn.org. See: https://github.com/scikit-learn/scikit-learn/issues/21755 */display: inline-block !important;position: relative;}#sk-container-id-2 div.sk-text-repr-fallback {display: none;}</style><div id=\"sk-container-id-2\" class=\"sk-top-container\"><div class=\"sk-text-repr-fallback\"><pre>ColumnTransformer(transformers=[(&#x27;minmaxscaler&#x27;, MinMaxScaler(),\n",
       "                                 [&#x27;year&#x27;, &#x27;mileage&#x27;]),\n",
       "                                (&#x27;onehotencoder&#x27;,\n",
       "                                 OneHotEncoder(handle_unknown=&#x27;ignore&#x27;),\n",
       "                                 [&#x27;model&#x27;, &#x27;color&#x27;, &#x27;transmission&#x27;])])</pre><b>In a Jupyter environment, please rerun this cell to show the HTML representation or trust the notebook. <br />On GitHub, the HTML representation is unable to render, please try loading this page with nbviewer.org.</b></div><div class=\"sk-container\" hidden><div class=\"sk-item sk-dashed-wrapped\"><div class=\"sk-label-container\"><div class=\"sk-label sk-toggleable\"><input class=\"sk-toggleable__control sk-hidden--visually\" id=\"sk-estimator-id-6\" type=\"checkbox\" ><label for=\"sk-estimator-id-6\" class=\"sk-toggleable__label sk-toggleable__label-arrow\">ColumnTransformer</label><div class=\"sk-toggleable__content\"><pre>ColumnTransformer(transformers=[(&#x27;minmaxscaler&#x27;, MinMaxScaler(),\n",
       "                                 [&#x27;year&#x27;, &#x27;mileage&#x27;]),\n",
       "                                (&#x27;onehotencoder&#x27;,\n",
       "                                 OneHotEncoder(handle_unknown=&#x27;ignore&#x27;),\n",
       "                                 [&#x27;model&#x27;, &#x27;color&#x27;, &#x27;transmission&#x27;])])</pre></div></div></div><div class=\"sk-parallel\"><div class=\"sk-parallel-item\"><div class=\"sk-item\"><div class=\"sk-label-container\"><div class=\"sk-label sk-toggleable\"><input class=\"sk-toggleable__control sk-hidden--visually\" id=\"sk-estimator-id-7\" type=\"checkbox\" ><label for=\"sk-estimator-id-7\" class=\"sk-toggleable__label sk-toggleable__label-arrow\">minmaxscaler</label><div class=\"sk-toggleable__content\"><pre>[&#x27;year&#x27;, &#x27;mileage&#x27;]</pre></div></div></div><div class=\"sk-serial\"><div class=\"sk-item\"><div class=\"sk-estimator sk-toggleable\"><input class=\"sk-toggleable__control sk-hidden--visually\" id=\"sk-estimator-id-8\" type=\"checkbox\" ><label for=\"sk-estimator-id-8\" class=\"sk-toggleable__label sk-toggleable__label-arrow\">MinMaxScaler</label><div class=\"sk-toggleable__content\"><pre>MinMaxScaler()</pre></div></div></div></div></div></div><div class=\"sk-parallel-item\"><div class=\"sk-item\"><div class=\"sk-label-container\"><div class=\"sk-label sk-toggleable\"><input class=\"sk-toggleable__control sk-hidden--visually\" id=\"sk-estimator-id-9\" type=\"checkbox\" ><label for=\"sk-estimator-id-9\" class=\"sk-toggleable__label sk-toggleable__label-arrow\">onehotencoder</label><div class=\"sk-toggleable__content\"><pre>[&#x27;model&#x27;, &#x27;color&#x27;, &#x27;transmission&#x27;]</pre></div></div></div><div class=\"sk-serial\"><div class=\"sk-item\"><div class=\"sk-estimator sk-toggleable\"><input class=\"sk-toggleable__control sk-hidden--visually\" id=\"sk-estimator-id-10\" type=\"checkbox\" ><label for=\"sk-estimator-id-10\" class=\"sk-toggleable__label sk-toggleable__label-arrow\">OneHotEncoder</label><div class=\"sk-toggleable__content\"><pre>OneHotEncoder(handle_unknown=&#x27;ignore&#x27;)</pre></div></div></div></div></div></div></div></div></div></div>"
      ],
      "text/plain": [
       "ColumnTransformer(transformers=[('minmaxscaler', MinMaxScaler(),\n",
       "                                 ['year', 'mileage']),\n",
       "                                ('onehotencoder',\n",
       "                                 OneHotEncoder(handle_unknown='ignore'),\n",
       "                                 ['model', 'color', 'transmission'])])"
      ]
     },
     "execution_count": 7,
     "metadata": {},
     "output_type": "execute_result"
    }
   ],
   "source": [
    "ct.fit(X_train)"
   ]
  },
  {
   "cell_type": "code",
   "execution_count": 8,
   "id": "2037e0c9-6211-4895-b4bf-a404da0c1402",
   "metadata": {},
   "outputs": [
    {
     "data": {
      "text/plain": [
       "(135, 16)"
      ]
     },
     "execution_count": 8,
     "metadata": {},
     "output_type": "execute_result"
    }
   ],
   "source": [
    "X_train_normal = ct.transform(X_train)\n",
    "X_test_normal = ct.transform(X_test)\n",
    "\n",
    "X_train_normal.shape"
   ]
  },
  {
   "cell_type": "code",
   "execution_count": 107,
   "id": "e441f90a-4a54-4935-9ac6-8ba0ab2c5fd5",
   "metadata": {},
   "outputs": [
    {
     "name": "stdout",
     "output_type": "stream",
     "text": [
      "Model: \"sequential_18\"\n",
      "_________________________________________________________________\n",
      " Layer (type)                Output Shape              Param #   \n",
      "=================================================================\n",
      " dense_48 (Dense)            (None, 100)               1700      \n",
      "                                                                 \n",
      " dropout_2 (Dropout)         (None, 100)               0         \n",
      "                                                                 \n",
      " dense_49 (Dense)            (None, 100)               10100     \n",
      "                                                                 \n",
      " dropout_3 (Dropout)         (None, 100)               0         \n",
      "                                                                 \n",
      " dense_50 (Dense)            (None, 1)                 101       \n",
      "                                                                 \n",
      "=================================================================\n",
      "Total params: 11901 (46.49 KB)\n",
      "Trainable params: 11901 (46.49 KB)\n",
      "Non-trainable params: 0 (0.00 Byte)\n",
      "_________________________________________________________________\n"
     ]
    }
   ],
   "source": [
    "tf.random.set_seed(42)\n",
    "\n",
    "callback = tf.keras.callbacks.EarlyStopping(monitor='loss', patience= 10)\n",
    "\n",
    "model = tf.keras.Sequential([\n",
    "    tf.keras.layers.Dense(100,input_shape=[16],activation='relu',kernel_initializer='normal'),\n",
    "    tf.keras.layers.Dropout(0.01),\n",
    "    tf.keras.layers.Dense(100,activation='relu',kernel_initializer='normal'),\n",
    "    tf.keras.layers.Dropout(0.01),\n",
    "    tf.keras.layers.Dense(1)\n",
    "])\n",
    "\n",
    "model.compile(loss=tf.keras.losses.mse,\n",
    "             optimizer=tf.keras.optimizers.Adamax(learning_rate=0.01),\n",
    "             metrics=['mse'])\n",
    "\n",
    "model.summary()"
   ]
  },
  {
   "cell_type": "code",
   "execution_count": 108,
   "id": "47eebb7b-df39-483a-bd06-58a64e7b70d0",
   "metadata": {
    "scrolled": true
   },
   "outputs": [
    {
     "name": "stdout",
     "output_type": "stream",
     "text": [
      "Epoch 1/1000\n",
      "5/5 [==============================] - 1s 5ms/step - loss: 175673840.0000 - mse: 175673840.0000\n",
      "Epoch 2/1000\n",
      "5/5 [==============================] - 0s 4ms/step - loss: 175574016.0000 - mse: 175574016.0000\n",
      "Epoch 3/1000\n",
      "5/5 [==============================] - 0s 4ms/step - loss: 175337264.0000 - mse: 175337264.0000\n",
      "Epoch 4/1000\n",
      "5/5 [==============================] - 0s 4ms/step - loss: 174894832.0000 - mse: 174894832.0000\n",
      "Epoch 5/1000\n",
      "5/5 [==============================] - 0s 4ms/step - loss: 174137216.0000 - mse: 174137216.0000\n",
      "Epoch 6/1000\n",
      "5/5 [==============================] - 0s 4ms/step - loss: 172982688.0000 - mse: 172982688.0000\n",
      "Epoch 7/1000\n",
      "5/5 [==============================] - 0s 4ms/step - loss: 171236960.0000 - mse: 171236960.0000\n",
      "Epoch 8/1000\n",
      "5/5 [==============================] - 0s 5ms/step - loss: 169006992.0000 - mse: 169006992.0000\n",
      "Epoch 9/1000\n",
      "5/5 [==============================] - 0s 8ms/step - loss: 165907504.0000 - mse: 165907504.0000\n",
      "Epoch 10/1000\n",
      "5/5 [==============================] - 0s 4ms/step - loss: 161915744.0000 - mse: 161915744.0000\n",
      "Epoch 11/1000\n",
      "5/5 [==============================] - 0s 4ms/step - loss: 156696400.0000 - mse: 156696400.0000\n",
      "Epoch 12/1000\n",
      "5/5 [==============================] - 0s 4ms/step - loss: 150435856.0000 - mse: 150435856.0000\n",
      "Epoch 13/1000\n",
      "5/5 [==============================] - 0s 4ms/step - loss: 142731264.0000 - mse: 142731264.0000\n",
      "Epoch 14/1000\n",
      "5/5 [==============================] - 0s 4ms/step - loss: 133691440.0000 - mse: 133691440.0000\n",
      "Epoch 15/1000\n",
      "5/5 [==============================] - 0s 4ms/step - loss: 122878248.0000 - mse: 122878248.0000\n",
      "Epoch 16/1000\n",
      "5/5 [==============================] - 0s 4ms/step - loss: 111615584.0000 - mse: 111615584.0000\n",
      "Epoch 17/1000\n",
      "5/5 [==============================] - 0s 4ms/step - loss: 98414304.0000 - mse: 98414304.0000\n",
      "Epoch 18/1000\n",
      "5/5 [==============================] - 0s 4ms/step - loss: 84609408.0000 - mse: 84609408.0000\n",
      "Epoch 19/1000\n",
      "5/5 [==============================] - 0s 4ms/step - loss: 69581504.0000 - mse: 69581504.0000\n",
      "Epoch 20/1000\n",
      "5/5 [==============================] - 0s 4ms/step - loss: 54307492.0000 - mse: 54307492.0000\n",
      "Epoch 21/1000\n",
      "5/5 [==============================] - 0s 4ms/step - loss: 39344168.0000 - mse: 39344168.0000\n",
      "Epoch 22/1000\n",
      "5/5 [==============================] - 0s 4ms/step - loss: 27496418.0000 - mse: 27496418.0000\n",
      "Epoch 23/1000\n",
      "5/5 [==============================] - 0s 4ms/step - loss: 18394078.0000 - mse: 18394078.0000\n",
      "Epoch 24/1000\n",
      "5/5 [==============================] - 0s 4ms/step - loss: 12667039.0000 - mse: 12667039.0000\n",
      "Epoch 25/1000\n",
      "5/5 [==============================] - 0s 4ms/step - loss: 10307919.0000 - mse: 10307919.0000\n",
      "Epoch 26/1000\n",
      "5/5 [==============================] - 0s 4ms/step - loss: 9880162.0000 - mse: 9880162.0000\n",
      "Epoch 27/1000\n",
      "5/5 [==============================] - 0s 4ms/step - loss: 10199073.0000 - mse: 10199073.0000\n",
      "Epoch 28/1000\n",
      "5/5 [==============================] - 0s 5ms/step - loss: 10098693.0000 - mse: 10098693.0000\n",
      "Epoch 29/1000\n",
      "5/5 [==============================] - 0s 5ms/step - loss: 9761059.0000 - mse: 9761059.0000\n",
      "Epoch 30/1000\n",
      "5/5 [==============================] - 0s 4ms/step - loss: 9574562.0000 - mse: 9574562.0000\n",
      "Epoch 31/1000\n",
      "5/5 [==============================] - 0s 5ms/step - loss: 9171037.0000 - mse: 9171037.0000\n",
      "Epoch 32/1000\n",
      "5/5 [==============================] - 0s 5ms/step - loss: 9178126.0000 - mse: 9178126.0000\n",
      "Epoch 33/1000\n",
      "5/5 [==============================] - 0s 4ms/step - loss: 9046401.0000 - mse: 9046401.0000\n",
      "Epoch 34/1000\n",
      "5/5 [==============================] - 0s 5ms/step - loss: 8551602.0000 - mse: 8551602.0000\n",
      "Epoch 35/1000\n",
      "5/5 [==============================] - 0s 4ms/step - loss: 8610415.0000 - mse: 8610415.0000\n",
      "Epoch 36/1000\n",
      "5/5 [==============================] - 0s 4ms/step - loss: 8759697.0000 - mse: 8759697.0000\n",
      "Epoch 37/1000\n",
      "5/5 [==============================] - 0s 4ms/step - loss: 8534242.0000 - mse: 8534242.0000\n",
      "Epoch 38/1000\n",
      "5/5 [==============================] - 0s 4ms/step - loss: 8242814.0000 - mse: 8242814.0000\n",
      "Epoch 39/1000\n",
      "5/5 [==============================] - 0s 4ms/step - loss: 8250944.5000 - mse: 8250944.5000\n",
      "Epoch 40/1000\n",
      "5/5 [==============================] - 0s 4ms/step - loss: 8006013.0000 - mse: 8006013.0000\n",
      "Epoch 41/1000\n",
      "5/5 [==============================] - 0s 4ms/step - loss: 7821847.0000 - mse: 7821847.0000\n",
      "Epoch 42/1000\n",
      "5/5 [==============================] - 0s 3ms/step - loss: 7741078.5000 - mse: 7741078.5000\n",
      "Epoch 43/1000\n",
      "5/5 [==============================] - 0s 4ms/step - loss: 7775283.5000 - mse: 7775283.5000\n",
      "Epoch 44/1000\n",
      "5/5 [==============================] - 0s 4ms/step - loss: 7733399.0000 - mse: 7733399.0000\n",
      "Epoch 45/1000\n",
      "5/5 [==============================] - 0s 4ms/step - loss: 7417101.5000 - mse: 7417101.5000\n",
      "Epoch 46/1000\n",
      "5/5 [==============================] - 0s 4ms/step - loss: 7504409.5000 - mse: 7504409.5000\n",
      "Epoch 47/1000\n",
      "5/5 [==============================] - 0s 4ms/step - loss: 7418144.5000 - mse: 7418144.5000\n",
      "Epoch 48/1000\n",
      "5/5 [==============================] - 0s 4ms/step - loss: 7401262.0000 - mse: 7401262.0000\n",
      "Epoch 49/1000\n",
      "5/5 [==============================] - 0s 8ms/step - loss: 7329362.0000 - mse: 7329362.0000\n",
      "Epoch 50/1000\n",
      "5/5 [==============================] - 0s 4ms/step - loss: 7015722.5000 - mse: 7015722.5000\n",
      "Epoch 51/1000\n",
      "5/5 [==============================] - 0s 4ms/step - loss: 7095356.5000 - mse: 7095356.5000\n",
      "Epoch 52/1000\n",
      "5/5 [==============================] - 0s 4ms/step - loss: 7037480.5000 - mse: 7037480.5000\n",
      "Epoch 53/1000\n",
      "5/5 [==============================] - 0s 3ms/step - loss: 6986417.0000 - mse: 6986417.0000\n",
      "Epoch 54/1000\n",
      "5/5 [==============================] - 0s 4ms/step - loss: 6720504.5000 - mse: 6720504.5000\n",
      "Epoch 55/1000\n",
      "5/5 [==============================] - 0s 4ms/step - loss: 6701749.0000 - mse: 6701749.0000\n",
      "Epoch 56/1000\n",
      "5/5 [==============================] - 0s 4ms/step - loss: 6719834.5000 - mse: 6719834.5000\n",
      "Epoch 57/1000\n",
      "5/5 [==============================] - 0s 4ms/step - loss: 6835297.0000 - mse: 6835297.0000\n",
      "Epoch 58/1000\n",
      "5/5 [==============================] - 0s 4ms/step - loss: 6620695.5000 - mse: 6620695.5000\n",
      "Epoch 59/1000\n",
      "5/5 [==============================] - 0s 4ms/step - loss: 6606112.0000 - mse: 6606112.0000\n",
      "Epoch 60/1000\n",
      "5/5 [==============================] - 0s 3ms/step - loss: 6214302.5000 - mse: 6214302.5000\n",
      "Epoch 61/1000\n",
      "5/5 [==============================] - 0s 4ms/step - loss: 6378710.5000 - mse: 6378710.5000\n",
      "Epoch 62/1000\n",
      "5/5 [==============================] - 0s 4ms/step - loss: 6220190.5000 - mse: 6220190.5000\n",
      "Epoch 63/1000\n",
      "5/5 [==============================] - 0s 4ms/step - loss: 6170729.0000 - mse: 6170729.0000\n",
      "Epoch 64/1000\n",
      "5/5 [==============================] - 0s 4ms/step - loss: 6109776.5000 - mse: 6109776.5000\n",
      "Epoch 65/1000\n",
      "5/5 [==============================] - 0s 5ms/step - loss: 5980704.0000 - mse: 5980704.0000\n",
      "Epoch 66/1000\n",
      "5/5 [==============================] - 0s 4ms/step - loss: 5857671.5000 - mse: 5857671.5000\n",
      "Epoch 67/1000\n",
      "5/5 [==============================] - 0s 5ms/step - loss: 5717003.0000 - mse: 5717003.0000\n",
      "Epoch 68/1000\n",
      "5/5 [==============================] - 0s 4ms/step - loss: 5743307.5000 - mse: 5743307.5000\n",
      "Epoch 69/1000\n",
      "5/5 [==============================] - 0s 5ms/step - loss: 5708791.0000 - mse: 5708791.0000\n",
      "Epoch 70/1000\n",
      "5/5 [==============================] - 0s 4ms/step - loss: 5578732.0000 - mse: 5578732.0000\n",
      "Epoch 71/1000\n",
      "5/5 [==============================] - 0s 4ms/step - loss: 5757563.5000 - mse: 5757563.5000\n",
      "Epoch 72/1000\n",
      "5/5 [==============================] - 0s 4ms/step - loss: 5736146.0000 - mse: 5736146.0000\n",
      "Epoch 73/1000\n",
      "5/5 [==============================] - 0s 4ms/step - loss: 5710939.5000 - mse: 5710939.5000\n",
      "Epoch 74/1000\n",
      "5/5 [==============================] - 0s 4ms/step - loss: 5384423.0000 - mse: 5384423.0000\n",
      "Epoch 75/1000\n",
      "5/5 [==============================] - 0s 4ms/step - loss: 5458339.0000 - mse: 5458339.0000\n",
      "Epoch 76/1000\n",
      "5/5 [==============================] - 0s 4ms/step - loss: 5418675.0000 - mse: 5418675.0000\n",
      "Epoch 77/1000\n",
      "5/5 [==============================] - 0s 4ms/step - loss: 5214272.0000 - mse: 5214272.0000\n",
      "Epoch 78/1000\n",
      "5/5 [==============================] - 0s 4ms/step - loss: 5133566.5000 - mse: 5133566.5000\n",
      "Epoch 79/1000\n",
      "5/5 [==============================] - 0s 4ms/step - loss: 4928999.0000 - mse: 4928999.0000\n",
      "Epoch 80/1000\n",
      "5/5 [==============================] - 0s 8ms/step - loss: 5176672.5000 - mse: 5176672.5000\n",
      "Epoch 81/1000\n",
      "5/5 [==============================] - 0s 4ms/step - loss: 5250751.0000 - mse: 5250751.0000\n",
      "Epoch 82/1000\n",
      "5/5 [==============================] - 0s 4ms/step - loss: 5128624.0000 - mse: 5128624.0000\n",
      "Epoch 83/1000\n",
      "5/5 [==============================] - 0s 4ms/step - loss: 4996353.5000 - mse: 4996353.5000\n",
      "Epoch 84/1000\n",
      "5/5 [==============================] - 0s 4ms/step - loss: 5041242.0000 - mse: 5041242.0000\n",
      "Epoch 85/1000\n",
      "5/5 [==============================] - 0s 4ms/step - loss: 4872463.0000 - mse: 4872463.0000\n",
      "Epoch 86/1000\n",
      "5/5 [==============================] - 0s 4ms/step - loss: 4848735.5000 - mse: 4848735.5000\n",
      "Epoch 87/1000\n",
      "5/5 [==============================] - 0s 4ms/step - loss: 4908420.5000 - mse: 4908420.5000\n",
      "Epoch 88/1000\n",
      "5/5 [==============================] - 0s 4ms/step - loss: 4922162.5000 - mse: 4922162.5000\n",
      "Epoch 89/1000\n",
      "5/5 [==============================] - 0s 4ms/step - loss: 4691019.0000 - mse: 4691019.0000\n",
      "Epoch 90/1000\n",
      "5/5 [==============================] - 0s 5ms/step - loss: 4609362.0000 - mse: 4609362.0000\n",
      "Epoch 91/1000\n",
      "5/5 [==============================] - 0s 4ms/step - loss: 4583001.0000 - mse: 4583001.0000\n",
      "Epoch 92/1000\n",
      "5/5 [==============================] - 0s 4ms/step - loss: 4687808.0000 - mse: 4687808.0000\n",
      "Epoch 93/1000\n",
      "5/5 [==============================] - 0s 4ms/step - loss: 4440643.5000 - mse: 4440643.5000\n",
      "Epoch 94/1000\n",
      "5/5 [==============================] - 0s 4ms/step - loss: 4445196.5000 - mse: 4445196.5000\n",
      "Epoch 95/1000\n",
      "5/5 [==============================] - 0s 6ms/step - loss: 4350263.0000 - mse: 4350263.0000\n",
      "Epoch 96/1000\n",
      "5/5 [==============================] - 0s 4ms/step - loss: 4536374.0000 - mse: 4536374.0000\n",
      "Epoch 97/1000\n",
      "5/5 [==============================] - 0s 4ms/step - loss: 4574002.5000 - mse: 4574002.5000\n",
      "Epoch 98/1000\n",
      "5/5 [==============================] - 0s 3ms/step - loss: 4319428.0000 - mse: 4319428.0000\n",
      "Epoch 99/1000\n",
      "5/5 [==============================] - 0s 4ms/step - loss: 4295065.5000 - mse: 4295065.5000\n",
      "Epoch 100/1000\n",
      "5/5 [==============================] - 0s 4ms/step - loss: 4265653.0000 - mse: 4265653.0000\n",
      "Epoch 101/1000\n",
      "5/5 [==============================] - 0s 4ms/step - loss: 4143316.0000 - mse: 4143316.0000\n",
      "Epoch 102/1000\n",
      "5/5 [==============================] - 0s 3ms/step - loss: 4183504.5000 - mse: 4183504.5000\n",
      "Epoch 103/1000\n",
      "5/5 [==============================] - 0s 3ms/step - loss: 3909486.5000 - mse: 3909486.5000\n",
      "Epoch 104/1000\n",
      "5/5 [==============================] - 0s 3ms/step - loss: 4129361.5000 - mse: 4129361.5000\n",
      "Epoch 105/1000\n",
      "5/5 [==============================] - 0s 3ms/step - loss: 4094824.2500 - mse: 4094824.2500\n",
      "Epoch 106/1000\n",
      "5/5 [==============================] - 0s 4ms/step - loss: 4008493.0000 - mse: 4008493.0000\n",
      "Epoch 107/1000\n",
      "5/5 [==============================] - 0s 4ms/step - loss: 3991670.0000 - mse: 3991670.0000\n",
      "Epoch 108/1000\n",
      "5/5 [==============================] - 0s 4ms/step - loss: 3845301.2500 - mse: 3845301.2500\n",
      "Epoch 109/1000\n",
      "5/5 [==============================] - 0s 4ms/step - loss: 3871069.0000 - mse: 3871069.0000\n",
      "Epoch 110/1000\n",
      "5/5 [==============================] - 0s 3ms/step - loss: 3817508.5000 - mse: 3817508.5000\n",
      "Epoch 111/1000\n",
      "5/5 [==============================] - 0s 3ms/step - loss: 3874677.5000 - mse: 3874677.5000\n",
      "Epoch 112/1000\n",
      "5/5 [==============================] - 0s 4ms/step - loss: 3858467.7500 - mse: 3858467.7500\n",
      "Epoch 113/1000\n",
      "5/5 [==============================] - 0s 4ms/step - loss: 3773330.5000 - mse: 3773330.5000\n",
      "Epoch 114/1000\n",
      "5/5 [==============================] - 0s 4ms/step - loss: 3907560.5000 - mse: 3907560.5000\n",
      "Epoch 115/1000\n",
      "5/5 [==============================] - 0s 4ms/step - loss: 3689047.7500 - mse: 3689047.7500\n",
      "Epoch 116/1000\n",
      "5/5 [==============================] - 0s 4ms/step - loss: 3672595.5000 - mse: 3672595.5000\n",
      "Epoch 117/1000\n",
      "5/5 [==============================] - 0s 4ms/step - loss: 3625385.7500 - mse: 3625385.7500\n",
      "Epoch 118/1000\n",
      "5/5 [==============================] - 0s 3ms/step - loss: 3722764.5000 - mse: 3722764.5000\n",
      "Epoch 119/1000\n",
      "5/5 [==============================] - 0s 4ms/step - loss: 3649621.2500 - mse: 3649621.2500\n",
      "Epoch 120/1000\n",
      "5/5 [==============================] - 0s 4ms/step - loss: 3532750.7500 - mse: 3532750.7500\n",
      "Epoch 121/1000\n",
      "5/5 [==============================] - 0s 4ms/step - loss: 3704257.2500 - mse: 3704257.2500\n",
      "Epoch 122/1000\n",
      "5/5 [==============================] - 0s 4ms/step - loss: 3499962.2500 - mse: 3499962.2500\n",
      "Epoch 123/1000\n",
      "5/5 [==============================] - 0s 3ms/step - loss: 3563998.0000 - mse: 3563998.0000\n",
      "Epoch 124/1000\n",
      "5/5 [==============================] - 0s 4ms/step - loss: 3552322.2500 - mse: 3552322.2500\n",
      "Epoch 125/1000\n",
      "5/5 [==============================] - 0s 4ms/step - loss: 3441977.5000 - mse: 3441977.5000\n",
      "Epoch 126/1000\n",
      "5/5 [==============================] - 0s 4ms/step - loss: 3618696.5000 - mse: 3618696.5000\n",
      "Epoch 127/1000\n",
      "5/5 [==============================] - 0s 4ms/step - loss: 3444141.0000 - mse: 3444141.0000\n",
      "Epoch 128/1000\n",
      "5/5 [==============================] - 0s 4ms/step - loss: 3374057.2500 - mse: 3374057.2500\n",
      "Epoch 129/1000\n",
      "5/5 [==============================] - 0s 4ms/step - loss: 3393673.7500 - mse: 3393673.7500\n",
      "Epoch 130/1000\n",
      "5/5 [==============================] - 0s 3ms/step - loss: 3277751.7500 - mse: 3277751.7500\n",
      "Epoch 131/1000\n",
      "5/5 [==============================] - 0s 4ms/step - loss: 3234161.7500 - mse: 3234161.7500\n",
      "Epoch 132/1000\n",
      "5/5 [==============================] - 0s 5ms/step - loss: 3198936.7500 - mse: 3198936.7500\n",
      "Epoch 133/1000\n",
      "5/5 [==============================] - 0s 4ms/step - loss: 3294995.5000 - mse: 3294995.5000\n",
      "Epoch 134/1000\n",
      "5/5 [==============================] - 0s 4ms/step - loss: 3236672.2500 - mse: 3236672.2500\n",
      "Epoch 135/1000\n",
      "5/5 [==============================] - 0s 4ms/step - loss: 3192931.7500 - mse: 3192931.7500\n",
      "Epoch 136/1000\n",
      "5/5 [==============================] - 0s 7ms/step - loss: 3151906.2500 - mse: 3151906.2500\n",
      "Epoch 137/1000\n",
      "5/5 [==============================] - 0s 3ms/step - loss: 3156159.2500 - mse: 3156159.2500\n",
      "Epoch 138/1000\n",
      "5/5 [==============================] - 0s 4ms/step - loss: 3084158.7500 - mse: 3084158.7500\n",
      "Epoch 139/1000\n",
      "5/5 [==============================] - 0s 3ms/step - loss: 3123237.2500 - mse: 3123237.2500\n",
      "Epoch 140/1000\n",
      "5/5 [==============================] - 0s 3ms/step - loss: 3067142.7500 - mse: 3067142.7500\n",
      "Epoch 141/1000\n",
      "5/5 [==============================] - 0s 4ms/step - loss: 3033900.5000 - mse: 3033900.5000\n",
      "Epoch 142/1000\n",
      "5/5 [==============================] - 0s 3ms/step - loss: 3166924.2500 - mse: 3166924.2500\n",
      "Epoch 143/1000\n",
      "5/5 [==============================] - 0s 3ms/step - loss: 3107775.7500 - mse: 3107775.7500\n",
      "Epoch 144/1000\n",
      "5/5 [==============================] - 0s 3ms/step - loss: 2998571.2500 - mse: 2998571.2500\n",
      "Epoch 145/1000\n",
      "5/5 [==============================] - 0s 4ms/step - loss: 3094880.0000 - mse: 3094880.0000\n",
      "Epoch 146/1000\n",
      "5/5 [==============================] - 0s 4ms/step - loss: 2996032.0000 - mse: 2996032.0000\n",
      "Epoch 147/1000\n",
      "5/5 [==============================] - 0s 3ms/step - loss: 3088674.0000 - mse: 3088674.0000\n",
      "Epoch 148/1000\n",
      "5/5 [==============================] - 0s 4ms/step - loss: 2800716.0000 - mse: 2800716.0000\n",
      "Epoch 149/1000\n",
      "5/5 [==============================] - 0s 4ms/step - loss: 2897758.7500 - mse: 2897758.7500\n",
      "Epoch 150/1000\n",
      "5/5 [==============================] - 0s 4ms/step - loss: 2941134.2500 - mse: 2941134.2500\n",
      "Epoch 151/1000\n",
      "5/5 [==============================] - 0s 3ms/step - loss: 2762683.0000 - mse: 2762683.0000\n",
      "Epoch 152/1000\n",
      "5/5 [==============================] - 0s 3ms/step - loss: 2819851.5000 - mse: 2819851.5000\n",
      "Epoch 153/1000\n",
      "5/5 [==============================] - 0s 4ms/step - loss: 2805938.0000 - mse: 2805938.0000\n",
      "Epoch 154/1000\n",
      "5/5 [==============================] - 0s 3ms/step - loss: 2814796.7500 - mse: 2814796.7500\n",
      "Epoch 155/1000\n",
      "5/5 [==============================] - 0s 3ms/step - loss: 2748081.5000 - mse: 2748081.5000\n",
      "Epoch 156/1000\n",
      "5/5 [==============================] - 0s 4ms/step - loss: 2737458.0000 - mse: 2737458.0000\n",
      "Epoch 157/1000\n",
      "5/5 [==============================] - 0s 4ms/step - loss: 2602118.5000 - mse: 2602118.5000\n",
      "Epoch 158/1000\n",
      "5/5 [==============================] - 0s 4ms/step - loss: 2616555.7500 - mse: 2616555.7500\n",
      "Epoch 159/1000\n",
      "5/5 [==============================] - 0s 4ms/step - loss: 2593968.0000 - mse: 2593968.0000\n",
      "Epoch 160/1000\n",
      "5/5 [==============================] - 0s 4ms/step - loss: 2661337.2500 - mse: 2661337.2500\n",
      "Epoch 161/1000\n",
      "5/5 [==============================] - 0s 4ms/step - loss: 2631863.7500 - mse: 2631863.7500\n",
      "Epoch 162/1000\n",
      "5/5 [==============================] - 0s 4ms/step - loss: 2700742.5000 - mse: 2700742.5000\n",
      "Epoch 163/1000\n",
      "5/5 [==============================] - 0s 4ms/step - loss: 2506134.0000 - mse: 2506134.0000\n",
      "Epoch 164/1000\n",
      "5/5 [==============================] - 0s 3ms/step - loss: 2627234.0000 - mse: 2627234.0000\n",
      "Epoch 165/1000\n",
      "5/5 [==============================] - 0s 4ms/step - loss: 2501843.7500 - mse: 2501843.7500\n",
      "Epoch 166/1000\n",
      "5/5 [==============================] - 0s 4ms/step - loss: 2511651.0000 - mse: 2511651.0000\n",
      "Epoch 167/1000\n",
      "5/5 [==============================] - 0s 4ms/step - loss: 2565717.2500 - mse: 2565717.2500\n",
      "Epoch 168/1000\n",
      "5/5 [==============================] - 0s 3ms/step - loss: 2460559.0000 - mse: 2460559.0000\n",
      "Epoch 169/1000\n",
      "5/5 [==============================] - 0s 3ms/step - loss: 2480127.0000 - mse: 2480127.0000\n",
      "Epoch 170/1000\n",
      "5/5 [==============================] - 0s 3ms/step - loss: 2444281.5000 - mse: 2444281.5000\n",
      "Epoch 171/1000\n",
      "5/5 [==============================] - 0s 4ms/step - loss: 2469204.5000 - mse: 2469204.5000\n",
      "Epoch 172/1000\n",
      "5/5 [==============================] - 0s 4ms/step - loss: 2465645.5000 - mse: 2465645.5000\n",
      "Epoch 173/1000\n",
      "5/5 [==============================] - 0s 3ms/step - loss: 2438999.7500 - mse: 2438999.7500\n",
      "Epoch 174/1000\n",
      "5/5 [==============================] - 0s 4ms/step - loss: 2361032.7500 - mse: 2361032.7500\n",
      "Epoch 175/1000\n",
      "5/5 [==============================] - 0s 4ms/step - loss: 2377066.0000 - mse: 2377066.0000\n",
      "Epoch 176/1000\n",
      "5/5 [==============================] - 0s 4ms/step - loss: 2424073.7500 - mse: 2424073.7500\n",
      "Epoch 177/1000\n",
      "5/5 [==============================] - 0s 4ms/step - loss: 2436934.5000 - mse: 2436934.5000\n",
      "Epoch 178/1000\n",
      "5/5 [==============================] - 0s 3ms/step - loss: 2321203.7500 - mse: 2321203.7500\n",
      "Epoch 179/1000\n",
      "5/5 [==============================] - 0s 4ms/step - loss: 2348647.7500 - mse: 2348647.7500\n",
      "Epoch 180/1000\n",
      "5/5 [==============================] - 0s 5ms/step - loss: 2202438.7500 - mse: 2202438.7500\n",
      "Epoch 181/1000\n",
      "5/5 [==============================] - 0s 4ms/step - loss: 2267867.2500 - mse: 2267867.2500\n",
      "Epoch 182/1000\n",
      "5/5 [==============================] - 0s 4ms/step - loss: 2243370.7500 - mse: 2243370.7500\n",
      "Epoch 183/1000\n",
      "5/5 [==============================] - 0s 3ms/step - loss: 2356258.5000 - mse: 2356258.5000\n",
      "Epoch 184/1000\n",
      "5/5 [==============================] - 0s 4ms/step - loss: 2106309.0000 - mse: 2106309.0000\n",
      "Epoch 185/1000\n",
      "5/5 [==============================] - 0s 4ms/step - loss: 2270760.5000 - mse: 2270760.5000\n",
      "Epoch 186/1000\n",
      "5/5 [==============================] - 0s 4ms/step - loss: 2312667.5000 - mse: 2312667.5000\n",
      "Epoch 187/1000\n",
      "5/5 [==============================] - 0s 3ms/step - loss: 2133692.7500 - mse: 2133692.7500\n",
      "Epoch 188/1000\n",
      "5/5 [==============================] - 0s 4ms/step - loss: 2279297.0000 - mse: 2279297.0000\n",
      "Epoch 189/1000\n",
      "5/5 [==============================] - 0s 4ms/step - loss: 2159270.7500 - mse: 2159270.7500\n",
      "Epoch 190/1000\n",
      "5/5 [==============================] - 0s 4ms/step - loss: 2280213.7500 - mse: 2280213.7500\n",
      "Epoch 191/1000\n",
      "5/5 [==============================] - 0s 4ms/step - loss: 2157637.5000 - mse: 2157637.5000\n",
      "Epoch 192/1000\n",
      "5/5 [==============================] - 0s 4ms/step - loss: 2180318.7500 - mse: 2180318.7500\n",
      "Epoch 193/1000\n",
      "5/5 [==============================] - 0s 3ms/step - loss: 2282676.0000 - mse: 2282676.0000\n",
      "Epoch 194/1000\n",
      "5/5 [==============================] - 0s 4ms/step - loss: 2235755.5000 - mse: 2235755.5000\n"
     ]
    }
   ],
   "source": [
    "history = model.fit(X_train_normal, y_train, epochs=1000, verbose=1, callbacks=[callback])"
   ]
  },
  {
   "cell_type": "code",
   "execution_count": 105,
   "id": "0f95f3c3-018b-433c-ab70-42309ad93ca6",
   "metadata": {},
   "outputs": [
    {
     "name": "stdout",
     "output_type": "stream",
     "text": [
      "1/1 [==============================] - 0s 98ms/step - loss: 2767236.2500 - mse: 2767236.2500\n"
     ]
    },
    {
     "data": {
      "text/plain": [
       "[2767236.25, 2767236.25]"
      ]
     },
     "execution_count": 105,
     "metadata": {},
     "output_type": "execute_result"
    }
   ],
   "source": [
    "model.evaluate(X_test_normal,y_test)"
   ]
  },
  {
   "cell_type": "code",
   "execution_count": 106,
   "id": "7fa3c0a5-2e66-49a4-acfd-03ed6c4625fe",
   "metadata": {},
   "outputs": [
    {
     "data": {
      "text/plain": [
       "<Axes: >"
      ]
     },
     "execution_count": 106,
     "metadata": {},
     "output_type": "execute_result"
    },
    {
     "data": {
      "image/png": "[encoded data removed]",
      "text/plain": [
       "<Figure size 640x480 with 1 Axes>"
      ]
     },
     "metadata": {},
     "output_type": "display_data"
    }
   ],
   "source": [
    "pd.DataFrame(history.history).plot()"
   ]
  },
  {
   "cell_type": "code",
   "execution_count": 102,
   "id": "122903a3-0cb2-4c14-a0fb-54cd4d7c8705",
   "metadata": {},
   "outputs": [
    {
     "name": "stdout",
     "output_type": "stream",
     "text": [
      "1/1 [==============================] - 0s 52ms/step\n"
     ]
    },
    {
     "data": {
      "text/plain": [
       "<tf.Tensor: shape=(15,), dtype=float32, numpy=\n",
       "array([ 2185.8086 ,  1650.8086 ,  -496.95898,   387.84375, -1105.7783 ,\n",
       "       -2708.1777 ,   231.01465,  2765.79   , -1186.8945 , -1562.1016 ,\n",
       "       -2122.6611 ,   424.70898,   243.81836, -2472.4033 ,  1028.543  ],\n",
       "      dtype=float32)>"
      ]
     },
     "execution_count": 102,
     "metadata": {},
     "output_type": "execute_result"
    }
   ],
   "source": [
    "y_pred = model.predict(X_test_normal)\n",
    "tf.squeeze(y_pred) - y_test"
   ]
  },
  {
   "cell_type": "code",
   "execution_count": null,
   "id": "43c12d2c-769d-4aea-b99a-96fbb0c625c1",
   "metadata": {},
   "outputs": [],
   "source": []
  }
 ],
 "metadata": {
  "kernelspec": {
   "display_name": "Python 3 (ipykernel)",
   "language": "python",
   "name": "python3"
  },
  "language_info": {
   "codemirror_mode": {
    "name": "ipython",
    "version": 3
   },
   "file_extension": ".py",
   "mimetype": "text/x-python",
   "name": "python",
   "nbconvert_exporter": "python",
   "pygments_lexer": "ipython3",
   "version": "3.11.2"
  }
 },
 "nbformat": 4,
 "nbformat_minor": 5
}
