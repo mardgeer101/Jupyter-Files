{
 "cells": [
  {
   "cell_type": "markdown",
   "id": "e32a8997",
   "metadata": {
    "papermill": {
     "duration": 0.00941,
     "end_time": "2023-11-29T09:32:22.611358",
     "exception": false,
     "start_time": "2023-11-29T09:32:22.601948",
     "status": "completed"
    },
    "tags": []
   },
   "source": [
    "# TensorFlow Fundamentals"
   ]
  },
  {
   "cell_type": "markdown",
   "id": "ff6b4b85",
   "metadata": {
    "papermill": {
     "duration": 0.008964,
     "end_time": "2023-11-29T09:32:22.629858",
     "exception": false,
     "start_time": "2023-11-29T09:32:22.620894",
     "status": "completed"
    },
    "tags": []
   },
   "source": [
    "## importing tensorflow library"
   ]
  },
  {
   "cell_type": "code",
   "execution_count": 1,
   "id": "b7d6d431",
   "metadata": {
    "execution": {
     "iopub.execute_input": "2023-11-29T09:32:22.649637Z",
     "iopub.status.busy": "2023-11-29T09:32:22.649195Z",
     "iopub.status.idle": "2023-11-29T09:32:35.523727Z",
     "shell.execute_reply": "2023-11-29T09:32:35.521892Z"
    },
    "papermill": {
     "duration": 12.887464,
     "end_time": "2023-11-29T09:32:35.525962",
     "exception": false,
     "start_time": "2023-11-29T09:32:22.638498",
     "status": "completed"
    },
    "tags": []
   },
   "outputs": [
    {
     "name": "stdout",
     "output_type": "stream",
     "text": [
      "2.13.0\n"
     ]
    }
   ],
   "source": [
    "import tensorflow as tf\n",
    "print(tf.__version__)"
   ]
  },
  {
   "cell_type": "markdown",
   "id": "e65a14b3",
   "metadata": {
    "papermill": {
     "duration": 0.007923,
     "end_time": "2023-11-29T09:32:35.542598",
     "exception": false,
     "start_time": "2023-11-29T09:32:35.534675",
     "status": "completed"
    },
    "tags": []
   },
   "source": [
    "## Creating various kinds of tensors"
   ]
  },
  {
   "cell_type": "markdown",
   "id": "57132555",
   "metadata": {
    "papermill": {
     "duration": 0.008216,
     "end_time": "2023-11-29T09:32:35.559278",
     "exception": false,
     "start_time": "2023-11-29T09:32:35.551062",
     "status": "completed"
    },
    "tags": []
   },
   "source": [
    "### Using `tf.constant()` with the following information:\n",
    "    1. Tensor Value\n",
    "    2. Tensor Size\n",
    "    3. Tensor Shape\n",
    "    4. Tensor Datatype\n",
    "    5. Tensor Dimension\n"
   ]
  },
  {
   "cell_type": "code",
   "execution_count": 2,
   "id": "20d85629",
   "metadata": {
    "execution": {
     "iopub.execute_input": "2023-11-29T09:32:35.577984Z",
     "iopub.status.busy": "2023-11-29T09:32:35.577194Z",
     "iopub.status.idle": "2023-11-29T09:32:35.655111Z",
     "shell.execute_reply": "2023-11-29T09:32:35.653199Z"
    },
    "papermill": {
     "duration": 0.090858,
     "end_time": "2023-11-29T09:32:35.658306",
     "exception": false,
     "start_time": "2023-11-29T09:32:35.567448",
     "status": "completed"
    },
    "tags": []
   },
   "outputs": [
    {
     "name": "stdout",
     "output_type": "stream",
     "text": [
      "Scalar value: 5.0\n",
      "Scalar size: 1\n",
      "Scalar shape: ()\n",
      "Scalar datatype: <dtype: 'float32'>\n",
      "Scalar dimensions: 0\n"
     ]
    }
   ],
   "source": [
    "scalar = tf.constant(5,dtype=tf.float32)\n",
    "\n",
    "print(\"Scalar value:\", scalar.numpy())\n",
    "print(\"Scalar size:\", tf.size(scalar).numpy())\n",
    "print(\"Scalar shape:\", scalar.shape)\n",
    "print(\"Scalar datatype:\", scalar.dtype)\n",
    "print(\"Scalar dimensions:\", scalar.ndim)"
   ]
  },
  {
   "cell_type": "code",
   "execution_count": 3,
   "id": "f275f8f3",
   "metadata": {
    "execution": {
     "iopub.execute_input": "2023-11-29T09:32:35.677875Z",
     "iopub.status.busy": "2023-11-29T09:32:35.677416Z",
     "iopub.status.idle": "2023-11-29T09:32:35.688786Z",
     "shell.execute_reply": "2023-11-29T09:32:35.687339Z"
    },
    "papermill": {
     "duration": 0.023546,
     "end_time": "2023-11-29T09:32:35.690773",
     "exception": false,
     "start_time": "2023-11-29T09:32:35.667227",
     "status": "completed"
    },
    "tags": []
   },
   "outputs": [
    {
     "name": "stdout",
     "output_type": "stream",
     "text": [
      "Vector value: [10.  7.]\n",
      "Vector size: 2\n",
      "Vector shape: (2,)\n",
      "Vector datatype: <dtype: 'float32'>\n",
      "Vector dimension: 1\n"
     ]
    }
   ],
   "source": [
    "vector = tf.constant([10,7],dtype=tf.float32)\n",
    "\n",
    "print(\"Vector value:\", vector.numpy())\n",
    "print(\"Vector size:\", tf.size(vector).numpy())\n",
    "print(\"Vector shape:\", vector.shape)\n",
    "print(\"Vector datatype:\", vector.dtype)\n",
    "print(\"Vector dimension:\", vector.ndim)"
   ]
  },
  {
   "cell_type": "code",
   "execution_count": 4,
   "id": "6975c639",
   "metadata": {
    "execution": {
     "iopub.execute_input": "2023-11-29T09:32:35.710551Z",
     "iopub.status.busy": "2023-11-29T09:32:35.709338Z",
     "iopub.status.idle": "2023-11-29T09:32:35.718051Z",
     "shell.execute_reply": "2023-11-29T09:32:35.716738Z"
    },
    "papermill": {
     "duration": 0.020356,
     "end_time": "2023-11-29T09:32:35.719794",
     "exception": false,
     "start_time": "2023-11-29T09:32:35.699438",
     "status": "completed"
    },
    "tags": []
   },
   "outputs": [
    {
     "name": "stdout",
     "output_type": "stream",
     "text": [
      "Matrix value:\n",
      " [[3. 5. 6.]\n",
      " [1. 2. 3.]\n",
      " [5. 6. 7.]\n",
      " [8. 9. 5.]]\n",
      "Matrix size: 12\n",
      "matrix shape: (4, 3)\n",
      "Matrix datatype: <dtype: 'float32'>\n",
      "Matrix dimension: 2\n"
     ]
    }
   ],
   "source": [
    "matrix = tf.constant([[3,5,6],\n",
    "                      [1,2,3],\n",
    "                      [5,6,7],\n",
    "                      [8,9,5]],dtype=tf.float32)\n",
    "\n",
    "print(\"Matrix value:\\n\", matrix.numpy())\n",
    "print(\"Matrix size:\", tf.size(matrix).numpy())\n",
    "print(\"matrix shape:\", matrix.shape)\n",
    "print(\"Matrix datatype:\", matrix.dtype)\n",
    "print(\"Matrix dimension:\", matrix.ndim)"
   ]
  },
  {
   "cell_type": "code",
   "execution_count": 5,
   "id": "83988c12",
   "metadata": {
    "execution": {
     "iopub.execute_input": "2023-11-29T09:32:35.738553Z",
     "iopub.status.busy": "2023-11-29T09:32:35.737798Z",
     "iopub.status.idle": "2023-11-29T09:32:35.746929Z",
     "shell.execute_reply": "2023-11-29T09:32:35.745463Z"
    },
    "papermill": {
     "duration": 0.020349,
     "end_time": "2023-11-29T09:32:35.748515",
     "exception": false,
     "start_time": "2023-11-29T09:32:35.728166",
     "status": "completed"
    },
    "tags": []
   },
   "outputs": [
    {
     "name": "stdout",
     "output_type": "stream",
     "text": [
      "Tensor valaue:\n",
      " [[[ 1.  2.  3.]\n",
      "  [ 4.  5.  6.]\n",
      "  [ 7.  8.  9.]]\n",
      "\n",
      " [[10. 11. 12.]\n",
      "  [13. 14. 15.]\n",
      "  [16. 17. 18.]]]\n",
      "Tensor size: 18\n",
      "Tensor shape: (2, 3, 3)\n",
      "Tensor datatype: <dtype: 'float32'>\n",
      "Tensor dimension: 3\n"
     ]
    }
   ],
   "source": [
    "tensor = tf.constant([[[1,2,3],\n",
    "                       [4,5,6],\n",
    "                       [7,8,9]],\n",
    "                      [[10,11,12],\n",
    "                       [13,14,15],\n",
    "                       [16,17,18]]],dtype=tf.float32)\n",
    "\n",
    "print(\"Tensor valaue:\\n\", tensor.numpy())\n",
    "print(\"Tensor size:\", tf.size(tensor).numpy())\n",
    "print(\"Tensor shape:\", tensor.shape)\n",
    "print(\"Tensor datatype:\", tensor.dtype)\n",
    "print(\"Tensor dimension:\", tensor.ndim)"
   ]
  },
  {
   "cell_type": "markdown",
   "id": "8ae7a10b",
   "metadata": {
    "papermill": {
     "duration": 0.009247,
     "end_time": "2023-11-29T09:32:35.766669",
     "exception": false,
     "start_time": "2023-11-29T09:32:35.757422",
     "status": "completed"
    },
    "tags": []
   },
   "source": [
    "### Using `tf.Variable` with following information\n",
    "    1. Tensor Value\n",
    "    2. Tensor Size\n",
    "    3. Tensor Shape\n",
    "    4. Tensor Datatype\n",
    "    5. Tensor Dimension"
   ]
  },
  {
   "cell_type": "code",
   "execution_count": 6,
   "id": "c4e5185c",
   "metadata": {
    "execution": {
     "iopub.execute_input": "2023-11-29T09:32:35.786306Z",
     "iopub.status.busy": "2023-11-29T09:32:35.785065Z",
     "iopub.status.idle": "2023-11-29T09:32:35.800667Z",
     "shell.execute_reply": "2023-11-29T09:32:35.799695Z"
    },
    "papermill": {
     "duration": 0.027593,
     "end_time": "2023-11-29T09:32:35.802735",
     "exception": false,
     "start_time": "2023-11-29T09:32:35.775142",
     "status": "completed"
    },
    "tags": []
   },
   "outputs": [
    {
     "name": "stdout",
     "output_type": "stream",
     "text": [
      "Variable tensor value:\n",
      " [[1. 2. 3. 4.]\n",
      " [5. 6. 7. 8.]]\n",
      "Variable tensor size: 8\n",
      "Variable tensor shape: (2, 4)\n",
      "Variable tensor datatype: <dtype: 'float32'>\n",
      "Variable tensor dimension: 2\n"
     ]
    }
   ],
   "source": [
    "var_tensor = tf.Variable([[1,2,3,4],\n",
    "                          [5,6,7,8]],dtype=tf.float32)\n",
    "\n",
    "print(\"Variable tensor value:\\n\", var_tensor.numpy())\n",
    "print(\"Variable tensor size:\", tf.size(var_tensor).numpy())\n",
    "print(\"Variable tensor shape:\", var_tensor.shape)\n",
    "print(\"Variable tensor datatype:\", var_tensor.dtype)\n",
    "print(\"Variable tensor dimension:\", len(var_tensor.shape))"
   ]
  },
  {
   "cell_type": "markdown",
   "id": "81615f59",
   "metadata": {
    "papermill": {
     "duration": 0.008618,
     "end_time": "2023-11-29T09:32:35.820828",
     "exception": false,
     "start_time": "2023-11-29T09:32:35.812210",
     "status": "completed"
    },
    "tags": []
   },
   "source": [
    "### Using `tf.random`\n",
    "1. `.uniform`\n",
    "2. `.normal`\n",
    "3. `.set_seed`"
   ]
  },
  {
   "cell_type": "code",
   "execution_count": 7,
   "id": "8a2483c1",
   "metadata": {
    "execution": {
     "iopub.execute_input": "2023-11-29T09:32:35.841773Z",
     "iopub.status.busy": "2023-11-29T09:32:35.841309Z",
     "iopub.status.idle": "2023-11-29T09:32:35.853574Z",
     "shell.execute_reply": "2023-11-29T09:32:35.852047Z"
    },
    "papermill": {
     "duration": 0.027369,
     "end_time": "2023-11-29T09:32:35.856845",
     "exception": false,
     "start_time": "2023-11-29T09:32:35.829476",
     "status": "completed"
    },
    "tags": []
   },
   "outputs": [
    {
     "name": "stdout",
     "output_type": "stream",
     "text": [
      "uniform tensor value:\n",
      " [[[2 4 3]\n",
      "  [9 1 8]\n",
      "  [8 3 5]]\n",
      "\n",
      " [[6 6 9]\n",
      "  [9 6 1]\n",
      "  [7 5 2]]]\n",
      "uniform tensor size: 18\n",
      "uniform tensor shape: (2, 3, 3)\n",
      "uniform tensor datatype: <dtype: 'int32'>\n",
      "unoform tensor dimension: 3\n"
     ]
    }
   ],
   "source": [
    "uniform_tensor = tf.random.uniform([2,3,3], dtype=tf.int32, minval = 0, maxval = 10, seed = 42)\n",
    "\n",
    "print(\"uniform tensor value:\\n\", uniform_tensor.numpy())\n",
    "print(\"uniform tensor size:\", tf.size(uniform_tensor).numpy())\n",
    "print(\"uniform tensor shape:\", uniform_tensor.shape)\n",
    "print(\"uniform tensor datatype:\", uniform_tensor.dtype)\n",
    "print(\"unoform tensor dimension:\", uniform_tensor.ndim)"
   ]
  },
  {
   "cell_type": "code",
   "execution_count": 8,
   "id": "a845081a",
   "metadata": {
    "execution": {
     "iopub.execute_input": "2023-11-29T09:32:35.879410Z",
     "iopub.status.busy": "2023-11-29T09:32:35.878177Z",
     "iopub.status.idle": "2023-11-29T09:32:35.899413Z",
     "shell.execute_reply": "2023-11-29T09:32:35.898257Z"
    },
    "papermill": {
     "duration": 0.035521,
     "end_time": "2023-11-29T09:32:35.902331",
     "exception": false,
     "start_time": "2023-11-29T09:32:35.866810",
     "status": "completed"
    },
    "tags": []
   },
   "outputs": [
    {
     "name": "stdout",
     "output_type": "stream",
     "text": [
      "Normal tensor  value:\n",
      " [[[-0.28077507 -0.1377521  -0.6763296 ]\n",
      "  [ 0.02458041 -0.89358455 -0.82847327]\n",
      "  [ 1.2068944   1.3810157  -1.4557977 ]]\n",
      "\n",
      " [[-0.24621388 -1.3608406   1.0879604 ]\n",
      "  [-0.3511659  -0.5138534   3.4117208 ]\n",
      "  [ 0.05885482  0.8918024  -0.7528832 ]]]\n",
      "Normal tensor size: 18\n",
      "Normal tensor shape: (2, 3, 3)\n",
      "Normal tensor datatype: <dtype: 'float32'>\n",
      "Normal tensor dimension: 3\n"
     ]
    }
   ],
   "source": [
    "normal_tensor = tf.random.normal([2,3,3], seed = 42)\n",
    "\n",
    "print(\"Normal tensor  value:\\n\", normal_tensor.numpy())\n",
    "print(\"Normal tensor size:\", tf.size(normal_tensor).numpy())\n",
    "print(\"Normal tensor shape:\", normal_tensor.shape)\n",
    "print(\"Normal tensor datatype:\", normal_tensor.dtype)\n",
    "print(\"Normal tensor dimension:\", normal_tensor.ndim)"
   ]
  },
  {
   "cell_type": "code",
   "execution_count": 9,
   "id": "4be5086a",
   "metadata": {
    "execution": {
     "iopub.execute_input": "2023-11-29T09:32:35.925419Z",
     "iopub.status.busy": "2023-11-29T09:32:35.924738Z",
     "iopub.status.idle": "2023-11-29T09:32:35.936686Z",
     "shell.execute_reply": "2023-11-29T09:32:35.935793Z"
    },
    "papermill": {
     "duration": 0.027071,
     "end_time": "2023-11-29T09:32:35.939003",
     "exception": false,
     "start_time": "2023-11-29T09:32:35.911932",
     "status": "completed"
    },
    "tags": []
   },
   "outputs": [
    {
     "name": "stdout",
     "output_type": "stream",
     "text": [
      "Normal tensor  value:\n",
      " [[[ 0.520786   -0.6879559 ]\n",
      "  [ 0.3075672   0.77124166]]\n",
      "\n",
      " [[-0.5088845   0.7513481 ]\n",
      "  [-2.6113875  -0.95842814]]\n",
      "\n",
      " [[-0.11757406  1.7861681 ]\n",
      "  [-0.72368693 -0.7011757 ]]]\n",
      "Normal tensor size: 12\n",
      "Normal tensor shape: (3, 2, 2)\n",
      "Normal tensor datatype: <dtype: 'float32'>\n",
      "Normal tensor dimension: 3\n"
     ]
    }
   ],
   "source": [
    "tf.random.set_seed(42)\n",
    "normal_tensor = tf.random.normal([3,2,2], seed = 10)\n",
    "\n",
    "print(\"Normal tensor  value:\\n\", normal_tensor.numpy())\n",
    "print(\"Normal tensor size:\", tf.size(normal_tensor).numpy())\n",
    "print(\"Normal tensor shape:\", normal_tensor.shape)\n",
    "print(\"Normal tensor datatype:\", normal_tensor.dtype)\n",
    "print(\"Normal tensor dimension:\", normal_tensor.ndim)"
   ]
  },
  {
   "cell_type": "markdown",
   "id": "e9bd8456",
   "metadata": {
    "papermill": {
     "duration": 0.009189,
     "end_time": "2023-11-29T09:32:35.957868",
     "exception": false,
     "start_time": "2023-11-29T09:32:35.948679",
     "status": "completed"
    },
    "tags": []
   },
   "source": [
    "### Using\n",
    "1. `tf.zeros()`\n",
    "2. `tf.ones()`"
   ]
  },
  {
   "cell_type": "code",
   "execution_count": 10,
   "id": "2f1af241",
   "metadata": {
    "execution": {
     "iopub.execute_input": "2023-11-29T09:32:35.978855Z",
     "iopub.status.busy": "2023-11-29T09:32:35.978386Z",
     "iopub.status.idle": "2023-11-29T09:32:35.990245Z",
     "shell.execute_reply": "2023-11-29T09:32:35.988842Z"
    },
    "papermill": {
     "duration": 0.025656,
     "end_time": "2023-11-29T09:32:35.993136",
     "exception": false,
     "start_time": "2023-11-29T09:32:35.967480",
     "status": "completed"
    },
    "tags": []
   },
   "outputs": [
    {
     "data": {
      "text/plain": [
       "<tf.Tensor: shape=(3, 2, 3), dtype=int32, numpy=\n",
       "array([[[0, 0, 0],\n",
       "        [0, 0, 0]],\n",
       "\n",
       "       [[0, 0, 0],\n",
       "        [0, 0, 0]],\n",
       "\n",
       "       [[0, 0, 0],\n",
       "        [0, 0, 0]]], dtype=int32)>"
      ]
     },
     "execution_count": 10,
     "metadata": {},
     "output_type": "execute_result"
    }
   ],
   "source": [
    "z = tf.zeros([3,2,3],dtype=tf.int32)\n",
    "z"
   ]
  },
  {
   "cell_type": "code",
   "execution_count": 11,
   "id": "d1fc4f5c",
   "metadata": {
    "execution": {
     "iopub.execute_input": "2023-11-29T09:32:36.017600Z",
     "iopub.status.busy": "2023-11-29T09:32:36.016358Z",
     "iopub.status.idle": "2023-11-29T09:32:36.026550Z",
     "shell.execute_reply": "2023-11-29T09:32:36.025211Z"
    },
    "papermill": {
     "duration": 0.024049,
     "end_time": "2023-11-29T09:32:36.028332",
     "exception": false,
     "start_time": "2023-11-29T09:32:36.004283",
     "status": "completed"
    },
    "tags": []
   },
   "outputs": [
    {
     "data": {
      "text/plain": [
       "<tf.Tensor: shape=(2, 3, 4), dtype=int32, numpy=\n",
       "array([[[1, 1, 1, 1],\n",
       "        [1, 1, 1, 1],\n",
       "        [1, 1, 1, 1]],\n",
       "\n",
       "       [[1, 1, 1, 1],\n",
       "        [1, 1, 1, 1],\n",
       "        [1, 1, 1, 1]]], dtype=int32)>"
      ]
     },
     "execution_count": 11,
     "metadata": {},
     "output_type": "execute_result"
    }
   ],
   "source": [
    "o = tf.ones([2,3,4],dtype=tf.int32)\n",
    "o"
   ]
  },
  {
   "cell_type": "markdown",
   "id": "40b0ac27",
   "metadata": {
    "papermill": {
     "duration": 0.00985,
     "end_time": "2023-11-29T09:32:36.131834",
     "exception": false,
     "start_time": "2023-11-29T09:32:36.121984",
     "status": "completed"
    },
    "tags": []
   },
   "source": [
    "## Manipulating tensors"
   ]
  },
  {
   "cell_type": "markdown",
   "id": "c3fc58f9",
   "metadata": {
    "papermill": {
     "duration": 0.009262,
     "end_time": "2023-11-29T09:32:36.150918",
     "exception": false,
     "start_time": "2023-11-29T09:32:36.141656",
     "status": "completed"
    },
    "tags": []
   },
   "source": [
    "### Using:\n",
    "1. `tf.random.shuffle()`\n",
    "2. `tf.transpose()`\n",
    "3. `tf.reshape()`"
   ]
  },
  {
   "cell_type": "code",
   "execution_count": 12,
   "id": "1a3c7acb",
   "metadata": {
    "execution": {
     "iopub.execute_input": "2023-11-29T09:32:36.173702Z",
     "iopub.status.busy": "2023-11-29T09:32:36.172042Z",
     "iopub.status.idle": "2023-11-29T09:32:36.185229Z",
     "shell.execute_reply": "2023-11-29T09:32:36.183655Z"
    },
    "papermill": {
     "duration": 0.027978,
     "end_time": "2023-11-29T09:32:36.188538",
     "exception": false,
     "start_time": "2023-11-29T09:32:36.160560",
     "status": "completed"
    },
    "tags": []
   },
   "outputs": [
    {
     "data": {
      "text/plain": [
       "<tf.Tensor: shape=(2, 3, 3), dtype=int32, numpy=\n",
       "array([[[ 9, 45,  0],\n",
       "        [36, 19, 30],\n",
       "        [42, 32, 25]],\n",
       "\n",
       "       [[11, 16, 36],\n",
       "        [47,  3,  4],\n",
       "        [25, 41,  0]]], dtype=int32)>"
      ]
     },
     "execution_count": 12,
     "metadata": {},
     "output_type": "execute_result"
    }
   ],
   "source": [
    "tf.random.set_seed(42)\n",
    "x = tf.random.uniform([2,3,3], dtype=tf.int32, minval = 0, maxval = 50, seed = 1)\n",
    "x"
   ]
  },
  {
   "cell_type": "code",
   "execution_count": 13,
   "id": "df8e3a1e",
   "metadata": {
    "execution": {
     "iopub.execute_input": "2023-11-29T09:32:36.212037Z",
     "iopub.status.busy": "2023-11-29T09:32:36.210587Z",
     "iopub.status.idle": "2023-11-29T09:32:36.221853Z",
     "shell.execute_reply": "2023-11-29T09:32:36.220735Z"
    },
    "papermill": {
     "duration": 0.025185,
     "end_time": "2023-11-29T09:32:36.223926",
     "exception": false,
     "start_time": "2023-11-29T09:32:36.198741",
     "status": "completed"
    },
    "tags": []
   },
   "outputs": [
    {
     "data": {
      "text/plain": [
       "<tf.Tensor: shape=(2, 3, 3), dtype=int32, numpy=\n",
       "array([[[11, 16, 36],\n",
       "        [47,  3,  4],\n",
       "        [25, 41,  0]],\n",
       "\n",
       "       [[ 9, 45,  0],\n",
       "        [36, 19, 30],\n",
       "        [42, 32, 25]]], dtype=int32)>"
      ]
     },
     "execution_count": 13,
     "metadata": {},
     "output_type": "execute_result"
    }
   ],
   "source": [
    "tf.random.shuffle(x)"
   ]
  },
  {
   "cell_type": "code",
   "execution_count": 14,
   "id": "64bb79de",
   "metadata": {
    "execution": {
     "iopub.execute_input": "2023-11-29T09:32:36.249388Z",
     "iopub.status.busy": "2023-11-29T09:32:36.248471Z",
     "iopub.status.idle": "2023-11-29T09:32:36.262659Z",
     "shell.execute_reply": "2023-11-29T09:32:36.261799Z"
    },
    "papermill": {
     "duration": 0.02935,
     "end_time": "2023-11-29T09:32:36.264416",
     "exception": false,
     "start_time": "2023-11-29T09:32:36.235066",
     "status": "completed"
    },
    "tags": []
   },
   "outputs": [
    {
     "data": {
      "text/plain": [
       "<tf.Tensor: shape=(3, 3, 2), dtype=int32, numpy=\n",
       "array([[[ 9, 11],\n",
       "        [36, 47],\n",
       "        [42, 25]],\n",
       "\n",
       "       [[45, 16],\n",
       "        [19,  3],\n",
       "        [32, 41]],\n",
       "\n",
       "       [[ 0, 36],\n",
       "        [30,  4],\n",
       "        [25,  0]]], dtype=int32)>"
      ]
     },
     "execution_count": 14,
     "metadata": {},
     "output_type": "execute_result"
    }
   ],
   "source": [
    "tf.transpose(x)"
   ]
  },
  {
   "cell_type": "code",
   "execution_count": 15,
   "id": "9d7004d4",
   "metadata": {
    "execution": {
     "iopub.execute_input": "2023-11-29T09:32:36.288626Z",
     "iopub.status.busy": "2023-11-29T09:32:36.288156Z",
     "iopub.status.idle": "2023-11-29T09:32:36.293803Z",
     "shell.execute_reply": "2023-11-29T09:32:36.292615Z"
    },
    "papermill": {
     "duration": 0.020761,
     "end_time": "2023-11-29T09:32:36.296329",
     "exception": false,
     "start_time": "2023-11-29T09:32:36.275568",
     "status": "completed"
    },
    "tags": []
   },
   "outputs": [
    {
     "name": "stdout",
     "output_type": "stream",
     "text": [
      "18\n",
      "18\n",
      "18\n"
     ]
    }
   ],
   "source": [
    "print(3*3*2)\n",
    "print(2*9)\n",
    "print(6*3)"
   ]
  },
  {
   "cell_type": "code",
   "execution_count": 16,
   "id": "14da24c3",
   "metadata": {
    "execution": {
     "iopub.execute_input": "2023-11-29T09:32:36.321325Z",
     "iopub.status.busy": "2023-11-29T09:32:36.320122Z",
     "iopub.status.idle": "2023-11-29T09:32:36.332308Z",
     "shell.execute_reply": "2023-11-29T09:32:36.331208Z"
    },
    "papermill": {
     "duration": 0.02732,
     "end_time": "2023-11-29T09:32:36.334361",
     "exception": false,
     "start_time": "2023-11-29T09:32:36.307041",
     "status": "completed"
    },
    "tags": []
   },
   "outputs": [
    {
     "data": {
      "text/plain": [
       "<tf.Tensor: shape=(3, 6), dtype=int32, numpy=\n",
       "array([[ 9, 45,  0, 36, 19, 30],\n",
       "       [42, 32, 25, 11, 16, 36],\n",
       "       [47,  3,  4, 25, 41,  0]], dtype=int32)>"
      ]
     },
     "execution_count": 16,
     "metadata": {},
     "output_type": "execute_result"
    }
   ],
   "source": [
    "tf.reshape(x,[3,6])"
   ]
  },
  {
   "cell_type": "markdown",
   "id": "ddcd6919",
   "metadata": {
    "papermill": {
     "duration": 0.009946,
     "end_time": "2023-11-29T09:32:36.354808",
     "exception": false,
     "start_time": "2023-11-29T09:32:36.344862",
     "status": "completed"
    },
    "tags": []
   },
   "source": [
    "### Using\n",
    "1. `+` or `tf.add()` or `tf.math.add()`\n",
    "2. `-` or `tf.subtract()` or `tf.math.subtract()`\n",
    "3. `*` or `tf.multiply()` or `tf.math.multiply()`\n",
    "4. `/` or `tf.divide()` or `tf.math.multiply()`"
   ]
  },
  {
   "cell_type": "code",
   "execution_count": 17,
   "id": "8da36b96",
   "metadata": {
    "execution": {
     "iopub.execute_input": "2023-11-29T09:32:36.377338Z",
     "iopub.status.busy": "2023-11-29T09:32:36.376285Z",
     "iopub.status.idle": "2023-11-29T09:32:36.415789Z",
     "shell.execute_reply": "2023-11-29T09:32:36.414939Z"
    },
    "papermill": {
     "duration": 0.053265,
     "end_time": "2023-11-29T09:32:36.418003",
     "exception": false,
     "start_time": "2023-11-29T09:32:36.364738",
     "status": "completed"
    },
    "tags": []
   },
   "outputs": [
    {
     "name": "stdout",
     "output_type": "stream",
     "text": [
      "original tensor:\n",
      " [[33 38 30]\n",
      " [74  8 41]\n",
      " [53 73 42]]\n",
      "\n",
      "using tf.add():\n",
      " [[43 48 40]\n",
      " [84 18 51]\n",
      " [63 83 52]]\n",
      "\n",
      "using tf.math.add()\n",
      " [[43 48 40]\n",
      " [84 18 51]\n",
      " [63 83 52]]\n",
      "\n",
      "using `+`:\n",
      " [[43 48 40]\n",
      " [84 18 51]\n",
      " [63 83 52]]\n",
      "\n",
      "using tf.subtract():\n",
      " [[23 28 20]\n",
      " [64 -2 31]\n",
      " [43 63 32]]\n",
      "\n",
      "using tf.math.subtract():\n",
      " [[23 28 20]\n",
      " [64 -2 31]\n",
      " [43 63 32]]\n",
      "\n",
      "using `-`:\n",
      " [[23 28 20]\n",
      " [64 -2 31]\n",
      " [43 63 32]]\n",
      "\n",
      "using tf.multiply():\n",
      " [[330 380 300]\n",
      " [740  80 410]\n",
      " [530 730 420]]\n",
      "\n",
      "using tf.math.multiply():\n",
      " [[330 380 300]\n",
      " [740  80 410]\n",
      " [530 730 420]]\n",
      "\n",
      "using `*`:\n",
      " [[330 380 300]\n",
      " [740  80 410]\n",
      " [530 730 420]]\n",
      "\n",
      "using tf.divide():\n",
      " [[3.3 3.8 3. ]\n",
      " [7.4 0.8 4.1]\n",
      " [5.3 7.3 4.2]]\n",
      "\n",
      "using tf.math.divide():\n",
      " [[3.3 3.8 3. ]\n",
      " [7.4 0.8 4.1]\n",
      " [5.3 7.3 4.2]]\n",
      "\n",
      "using `/`:\n",
      " [[3.3 3.8 3. ]\n",
      " [7.4 0.8 4.1]\n",
      " [5.3 7.3 4.2]]\n"
     ]
    }
   ],
   "source": [
    "tf.random.set_seed(42)\n",
    "x = tf.random.uniform([3,3], dtype = tf.int32, minval = 0, maxval = 100, seed = 42)\n",
    "\n",
    "print(\"original tensor:\\n\", x.numpy())\n",
    "print(\"\\nusing tf.add():\\n\", tf.add(x,10).numpy())\n",
    "print(\"\\nusing tf.math.add()\\n\", tf.math.add(x,10).numpy())\n",
    "print(\"\\nusing `+`:\\n\", (x+10).numpy())\n",
    "\n",
    "print(\"\\nusing tf.subtract():\\n\", tf.subtract(x,10).numpy())\n",
    "print(\"\\nusing tf.math.subtract():\\n\", tf.math.subtract(x,10).numpy())\n",
    "print(\"\\nusing `-`:\\n\", (x-10).numpy())\n",
    "\n",
    "print(\"\\nusing tf.multiply():\\n\", tf.multiply(x,10).numpy())\n",
    "print(\"\\nusing tf.math.multiply():\\n\", tf.math.multiply(x,10).numpy())\n",
    "print(\"\\nusing `*`:\\n\", (x*10).numpy())\n",
    "\n",
    "print(\"\\nusing tf.divide():\\n\", tf.divide(x,10).numpy())\n",
    "print(\"\\nusing tf.math.divide():\\n\", tf.math.divide(x,10).numpy())\n",
    "print(\"\\nusing `/`:\\n\", tf.divide(x,10).numpy())"
   ]
  },
  {
   "cell_type": "markdown",
   "id": "1bcaae43",
   "metadata": {
    "execution": {
     "iopub.execute_input": "2023-11-29T02:19:34.001907Z",
     "iopub.status.busy": "2023-11-29T02:19:34.001534Z",
     "iopub.status.idle": "2023-11-29T02:19:34.006843Z",
     "shell.execute_reply": "2023-11-29T02:19:34.005388Z",
     "shell.execute_reply.started": "2023-11-29T02:19:34.001881Z"
    },
    "papermill": {
     "duration": 0.009685,
     "end_time": "2023-11-29T09:32:36.438152",
     "exception": false,
     "start_time": "2023-11-29T09:32:36.428467",
     "status": "completed"
    },
    "tags": []
   },
   "source": [
    "### Using `tf.abs()`"
   ]
  },
  {
   "cell_type": "code",
   "execution_count": 18,
   "id": "072bff6e",
   "metadata": {
    "execution": {
     "iopub.execute_input": "2023-11-29T09:32:36.460558Z",
     "iopub.status.busy": "2023-11-29T09:32:36.459756Z",
     "iopub.status.idle": "2023-11-29T09:32:36.472987Z",
     "shell.execute_reply": "2023-11-29T09:32:36.471811Z"
    },
    "papermill": {
     "duration": 0.026854,
     "end_time": "2023-11-29T09:32:36.475117",
     "exception": false,
     "start_time": "2023-11-29T09:32:36.448263",
     "status": "completed"
    },
    "tags": []
   },
   "outputs": [
    {
     "data": {
      "text/plain": [
       "<tf.Tensor: shape=(2, 3, 4), dtype=int32, numpy=\n",
       "array([[[-67,  38,  30,  74],\n",
       "        [  8,  41,  53, -27],\n",
       "        [-58, -95,  76,  44]],\n",
       "\n",
       "       [[ -7,  67, -94,  66],\n",
       "        [-58, -57,  91, -82],\n",
       "        [-54,  90, -86,  76]]], dtype=int32)>"
      ]
     },
     "execution_count": 18,
     "metadata": {},
     "output_type": "execute_result"
    }
   ],
   "source": [
    "tf.random.set_seed(42)\n",
    "x = tf.random.uniform([2,3,4],dtype=tf.int32,minval=-100,maxval=100,seed=42)\n",
    "x"
   ]
  },
  {
   "cell_type": "code",
   "execution_count": 19,
   "id": "a4ef7dad",
   "metadata": {
    "execution": {
     "iopub.execute_input": "2023-11-29T09:32:36.497808Z",
     "iopub.status.busy": "2023-11-29T09:32:36.497353Z",
     "iopub.status.idle": "2023-11-29T09:32:36.505387Z",
     "shell.execute_reply": "2023-11-29T09:32:36.504395Z"
    },
    "papermill": {
     "duration": 0.021333,
     "end_time": "2023-11-29T09:32:36.507039",
     "exception": false,
     "start_time": "2023-11-29T09:32:36.485706",
     "status": "completed"
    },
    "tags": []
   },
   "outputs": [
    {
     "data": {
      "text/plain": [
       "<tf.Tensor: shape=(2, 3, 4), dtype=int32, numpy=\n",
       "array([[[67, 38, 30, 74],\n",
       "        [ 8, 41, 53, 27],\n",
       "        [58, 95, 76, 44]],\n",
       "\n",
       "       [[ 7, 67, 94, 66],\n",
       "        [58, 57, 91, 82],\n",
       "        [54, 90, 86, 76]]], dtype=int32)>"
      ]
     },
     "execution_count": 19,
     "metadata": {},
     "output_type": "execute_result"
    }
   ],
   "source": [
    "tf.abs(x)"
   ]
  },
  {
   "cell_type": "markdown",
   "id": "385a1525",
   "metadata": {
    "papermill": {
     "duration": 0.010769,
     "end_time": "2023-11-29T09:32:36.529579",
     "exception": false,
     "start_time": "2023-11-29T09:32:36.518810",
     "status": "completed"
    },
    "tags": []
   },
   "source": [
    "## Finding the max, min, mean, sum, variance, std dev"
   ]
  },
  {
   "cell_type": "markdown",
   "id": "313874c8",
   "metadata": {
    "papermill": {
     "duration": 0.010949,
     "end_time": "2023-11-29T09:32:36.551762",
     "exception": false,
     "start_time": "2023-11-29T09:32:36.540813",
     "status": "completed"
    },
    "tags": []
   },
   "source": [
    "### Using\n",
    "1. `tf.reduce_max()`\n",
    "2. `tf.reduce_min()`\n",
    "3. `tf.reduce_mean()`\n",
    "4. `tf.reduce_sum()`\n",
    "5. `tf.math.reduce_variance()`\n",
    "6. `tf.math.reduce_std()`"
   ]
  },
  {
   "cell_type": "code",
   "execution_count": 20,
   "id": "a2bb7d4e",
   "metadata": {
    "execution": {
     "iopub.execute_input": "2023-11-29T09:32:36.576721Z",
     "iopub.status.busy": "2023-11-29T09:32:36.575468Z",
     "iopub.status.idle": "2023-11-29T09:32:36.586940Z",
     "shell.execute_reply": "2023-11-29T09:32:36.586050Z"
    },
    "papermill": {
     "duration": 0.025557,
     "end_time": "2023-11-29T09:32:36.588767",
     "exception": false,
     "start_time": "2023-11-29T09:32:36.563210",
     "status": "completed"
    },
    "tags": []
   },
   "outputs": [
    {
     "data": {
      "text/plain": [
       "<tf.Tensor: shape=(3, 3, 3), dtype=int32, numpy=\n",
       "array([[[-67,  38,  30],\n",
       "        [ 74,   8,  41],\n",
       "        [ 53, -27, -58]],\n",
       "\n",
       "       [[-95,  76,  44],\n",
       "        [ -7,  67, -94],\n",
       "        [ 66, -58, -57]],\n",
       "\n",
       "       [[ 91, -82, -54],\n",
       "        [ 90, -86,  76],\n",
       "        [ -9,  -9,  46]]], dtype=int32)>"
      ]
     },
     "execution_count": 20,
     "metadata": {},
     "output_type": "execute_result"
    }
   ],
   "source": [
    "tf.random.set_seed(42)\n",
    "x = tf.random.uniform([3,3,3],dtype=tf.int32,minval=-100,maxval=100,seed=42)\n",
    "x"
   ]
  },
  {
   "cell_type": "code",
   "execution_count": 21,
   "id": "aa16cb9a",
   "metadata": {
    "execution": {
     "iopub.execute_input": "2023-11-29T09:32:36.614292Z",
     "iopub.status.busy": "2023-11-29T09:32:36.613762Z",
     "iopub.status.idle": "2023-11-29T09:32:36.647137Z",
     "shell.execute_reply": "2023-11-29T09:32:36.645835Z"
    },
    "papermill": {
     "duration": 0.04802,
     "end_time": "2023-11-29T09:32:36.648967",
     "exception": false,
     "start_time": "2023-11-29T09:32:36.600947",
     "status": "completed"
    },
    "tags": []
   },
   "outputs": [
    {
     "name": "stdout",
     "output_type": "stream",
     "text": [
      "tensor maximum value: 91\n",
      "tensor minimum value: -95\n",
      "tensor mean value: 3\n",
      "tensor sum of elements: 97\n",
      "tensor variance: 3820.6858\n",
      "tensor standard deviation: 61.811695\n"
     ]
    }
   ],
   "source": [
    "print(\"tensor maximum value:\", tf.reduce_max(x).numpy())\n",
    "print(\"tensor minimum value:\", tf.reduce_min(x).numpy())\n",
    "print(\"tensor mean value:\", tf.reduce_mean(x).numpy())\n",
    "print(\"tensor sum of elements:\", tf.reduce_sum(x).numpy())\n",
    "print(\"tensor variance:\", tf.math.reduce_variance(tf.cast(x,dtype=tf.float32)).numpy())\n",
    "print(\"tensor standard deviation:\", tf.math.reduce_std(tf.cast(x,dtype=tf.float32)).numpy())"
   ]
  },
  {
   "cell_type": "markdown",
   "id": "f2ab7bd5",
   "metadata": {
    "papermill": {
     "duration": 0.009792,
     "end_time": "2023-11-29T09:32:36.669398",
     "exception": false,
     "start_time": "2023-11-29T09:32:36.659606",
     "status": "completed"
    },
    "tags": []
   },
   "source": [
    "## Manipulating of tensor indeces and elements"
   ]
  },
  {
   "cell_type": "markdown",
   "id": "061b13e5",
   "metadata": {
    "papermill": {
     "duration": 0.009788,
     "end_time": "2023-11-29T09:32:36.688972",
     "exception": false,
     "start_time": "2023-11-29T09:32:36.679184",
     "status": "completed"
    },
    "tags": []
   },
   "source": [
    "### Using \n",
    "1. `[:]`\n",
    "2. `tf.argmin()`\n",
    "3. `tf.argmax()`"
   ]
  },
  {
   "cell_type": "code",
   "execution_count": 22,
   "id": "615bde01",
   "metadata": {
    "execution": {
     "iopub.execute_input": "2023-11-29T09:32:36.710950Z",
     "iopub.status.busy": "2023-11-29T09:32:36.710537Z",
     "iopub.status.idle": "2023-11-29T09:32:36.736132Z",
     "shell.execute_reply": "2023-11-29T09:32:36.734903Z"
    },
    "papermill": {
     "duration": 0.039153,
     "end_time": "2023-11-29T09:32:36.738128",
     "exception": false,
     "start_time": "2023-11-29T09:32:36.698975",
     "status": "completed"
    },
    "tags": []
   },
   "outputs": [
    {
     "data": {
      "text/plain": [
       "(array([ 1,  3,  5,  7,  9, 11, 13, 15, 17, 19, 21, 23, 25, 27, 29, 31, 33,\n",
       "        35, 37, 39, 41, 43, 45, 47, 49, 51, 53, 55, 57, 59, 61, 63, 65, 67,\n",
       "        69, 71, 73, 75, 77, 79, 81, 83, 85, 87, 89, 91, 93, 95, 97, 99]),\n",
       " array([[21, 23, 25, 27],\n",
       "        [29, 31, 33, 35],\n",
       "        [37, 39, 41, 43],\n",
       "        [45, 47, 49, 51],\n",
       "        [53, 55, 57, 59],\n",
       "        [61, 63, 65, 67],\n",
       "        [69, 71, 73, 75],\n",
       "        [77, 79, 81, 83],\n",
       "        [85, 87, 89, 91],\n",
       "        [93, 95, 97, 99]]),\n",
       " array([[ 1,  3,  5,  7,  9, 11, 13, 15, 17, 19]]),\n",
       " 2,\n",
       " 2,\n",
       " TensorShape([10, 4]),\n",
       " TensorShape([1, 10]),\n",
       " array([[7020, 7220, 7420, 7620]]),\n",
       " TensorShape([1, 4]),\n",
       " 2)"
      ]
     },
     "execution_count": 22,
     "metadata": {},
     "output_type": "execute_result"
    }
   ],
   "source": [
    "import numpy as np\n",
    "tf.random.set_seed(42)\n",
    "x = np.arange(1,100,2)\n",
    "x = tf.constant(x)\n",
    "#x = tf.reshape(x,[5,5])\n",
    "y = x[10:]\n",
    "z = x[:10]\n",
    "\n",
    "y = tf.reshape(y,[10,4])\n",
    "z = tf.reshape(z,[1,10])\n",
    "\n",
    "matmul = tf.matmul(z,y)\n",
    "\n",
    "x.numpy(), y.numpy(),z.numpy(),y.ndim,z.ndim, y.shape, z.shape , matmul.numpy(), matmul.shape, matmul.ndim"
   ]
  },
  {
   "cell_type": "code",
   "execution_count": 23,
   "id": "be8a7f16",
   "metadata": {
    "execution": {
     "iopub.execute_input": "2023-11-29T09:32:36.761660Z",
     "iopub.status.busy": "2023-11-29T09:32:36.761133Z",
     "iopub.status.idle": "2023-11-29T09:32:36.773641Z",
     "shell.execute_reply": "2023-11-29T09:32:36.772195Z"
    },
    "papermill": {
     "duration": 0.026461,
     "end_time": "2023-11-29T09:32:36.775510",
     "exception": false,
     "start_time": "2023-11-29T09:32:36.749049",
     "status": "completed"
    },
    "tags": []
   },
   "outputs": [
    {
     "name": "stdout",
     "output_type": "stream",
     "text": [
      "Maximum element across y-axis or 1-axis:\n",
      " [[3]\n",
      " [3]\n",
      " [3]\n",
      " [3]\n",
      " [3]\n",
      " [3]\n",
      " [3]\n",
      " [3]\n",
      " [3]\n",
      " [3]]\n",
      "Maximum element across x-axis or 0-axis:\n",
      " [9 9 9 9]\n"
     ]
    }
   ],
   "source": [
    "print(\"Maximum element across y-axis or 1-axis:\\n\", tf.reshape(tf.argmax(y,1),[10,1]).numpy()) \n",
    "print(\"Maximum element across x-axis or 0-axis:\\n\", tf.argmax(y,0).numpy())"
   ]
  },
  {
   "cell_type": "markdown",
   "id": "443ed424",
   "metadata": {
    "papermill": {
     "duration": 0.009961,
     "end_time": "2023-11-29T09:32:36.796395",
     "exception": false,
     "start_time": "2023-11-29T09:32:36.786434",
     "status": "completed"
    },
    "tags": []
   },
   "source": [
    "## dot multiplication of tensors"
   ]
  },
  {
   "cell_type": "markdown",
   "id": "ca88b67b",
   "metadata": {
    "papermill": {
     "duration": 0.009957,
     "end_time": "2023-11-29T09:32:36.816401",
     "exception": false,
     "start_time": "2023-11-29T09:32:36.806444",
     "status": "completed"
    },
    "tags": []
   },
   "source": [
    "### Using\n",
    "1. `tf.matmul()`\n",
    "2. `tf.tensordot()`\n",
    "3. `@`"
   ]
  },
  {
   "cell_type": "code",
   "execution_count": 24,
   "id": "ac384014",
   "metadata": {
    "execution": {
     "iopub.execute_input": "2023-11-29T09:32:36.840808Z",
     "iopub.status.busy": "2023-11-29T09:32:36.838615Z",
     "iopub.status.idle": "2023-11-29T09:32:36.856369Z",
     "shell.execute_reply": "2023-11-29T09:32:36.855658Z"
    },
    "papermill": {
     "duration": 0.031501,
     "end_time": "2023-11-29T09:32:36.858218",
     "exception": false,
     "start_time": "2023-11-29T09:32:36.826717",
     "status": "completed"
    },
    "tags": []
   },
   "outputs": [
    {
     "data": {
      "text/plain": [
       "(<tf.Tensor: shape=(3, 3), dtype=int32, numpy=\n",
       " array([[33, 38, 30],\n",
       "        [74,  8, 41],\n",
       "        [53, 73, 42]], dtype=int32)>,\n",
       " <tf.Tensor: shape=(2, 3), dtype=int32, numpy=\n",
       " array([[1, 2, 3],\n",
       "        [4, 5, 6]], dtype=int32)>,\n",
       " <tf.Tensor: shape=(3, 3, 3), dtype=int64, numpy=\n",
       " array([[[ 0,  1,  2],\n",
       "         [ 3,  4,  5],\n",
       "         [ 6,  7,  8]],\n",
       " \n",
       "        [[ 9, 10, 11],\n",
       "         [12, 13, 14],\n",
       "         [15, 16, 17]],\n",
       " \n",
       "        [[18, 19, 20],\n",
       "         [21, 22, 23],\n",
       "         [24, 25, 26]]])>)"
      ]
     },
     "execution_count": 24,
     "metadata": {},
     "output_type": "execute_result"
    }
   ],
   "source": [
    "import numpy as np\n",
    "tf.random.set_seed(42)\n",
    "\n",
    "x = tf.random.uniform([3,3],dtype=tf.int32,minval=0,maxval=100,seed=42)\n",
    "y = tf.range(1,6+1)\n",
    "y = tf.reshape(y,[2,3])\n",
    "z = np.arange(0,27)\n",
    "z = tf.reshape(tf.constant(z),[3,3,3])\n",
    "x, y, z"
   ]
  },
  {
   "cell_type": "code",
   "execution_count": 25,
   "id": "dca5b793",
   "metadata": {
    "execution": {
     "iopub.execute_input": "2023-11-29T09:32:36.883515Z",
     "iopub.status.busy": "2023-11-29T09:32:36.882820Z",
     "iopub.status.idle": "2023-11-29T09:32:36.899121Z",
     "shell.execute_reply": "2023-11-29T09:32:36.898124Z"
    },
    "papermill": {
     "duration": 0.031849,
     "end_time": "2023-11-29T09:32:36.901498",
     "exception": false,
     "start_time": "2023-11-29T09:32:36.869649",
     "status": "completed"
    },
    "tags": []
   },
   "outputs": [
    {
     "data": {
      "text/plain": [
       "(<tf.Tensor: shape=(3, 2), dtype=int32, numpy=\n",
       " array([[297, 398],\n",
       "        [303, 426],\n",
       "        [482, 650]], dtype=int32)>,\n",
       " <tf.Tensor: shape=(3, 2), dtype=int32, numpy=\n",
       " array([[297, 398],\n",
       "        [303, 426],\n",
       "        [482, 650]], dtype=int32)>,\n",
       " <tf.Tensor: shape=(3, 2), dtype=int32, numpy=\n",
       " array([[297, 398],\n",
       "        [303, 426],\n",
       "        [482, 650]], dtype=int32)>)"
      ]
     },
     "execution_count": 25,
     "metadata": {},
     "output_type": "execute_result"
    }
   ],
   "source": [
    "y = tf.reshape(y,[3,2])\n",
    "matmul = tf.matmul(x,y)\n",
    "tensordot = tf.tensordot(x,y,1)\n",
    "matmul, tensordot, x@y"
   ]
  },
  {
   "cell_type": "markdown",
   "id": "079df056",
   "metadata": {
    "papermill": {
     "duration": 0.011254,
     "end_time": "2023-11-29T09:32:36.924256",
     "exception": false,
     "start_time": "2023-11-29T09:32:36.913002",
     "status": "completed"
    },
    "tags": []
   },
   "source": [
    "## Removing 1-dimension of tensor"
   ]
  },
  {
   "cell_type": "markdown",
   "id": "90e10653",
   "metadata": {
    "papermill": {
     "duration": 0.011495,
     "end_time": "2023-11-29T09:32:36.947323",
     "exception": false,
     "start_time": "2023-11-29T09:32:36.935828",
     "status": "completed"
    },
    "tags": []
   },
   "source": [
    "### using `tf.squeeze()`"
   ]
  },
  {
   "cell_type": "code",
   "execution_count": 26,
   "id": "54b60204",
   "metadata": {
    "execution": {
     "iopub.execute_input": "2023-11-29T09:32:36.973143Z",
     "iopub.status.busy": "2023-11-29T09:32:36.972644Z",
     "iopub.status.idle": "2023-11-29T09:32:36.984960Z",
     "shell.execute_reply": "2023-11-29T09:32:36.983667Z"
    },
    "papermill": {
     "duration": 0.028564,
     "end_time": "2023-11-29T09:32:36.987831",
     "exception": false,
     "start_time": "2023-11-29T09:32:36.959267",
     "status": "completed"
    },
    "tags": []
   },
   "outputs": [
    {
     "data": {
      "text/plain": [
       "<tf.Tensor: shape=(1, 1, 1, 2, 1, 3, 1, 3, 3), dtype=int64, numpy=\n",
       "array([[[[[[[[[-8, -6, -4],\n",
       "              [-2,  0,  2],\n",
       "              [ 4,  6,  8]]],\n",
       "\n",
       "\n",
       "            [[[10, 12, 14],\n",
       "              [16, 18, 20],\n",
       "              [22, 24, 26]]],\n",
       "\n",
       "\n",
       "            [[[28, 30, 32],\n",
       "              [34, 36, 38],\n",
       "              [40, 42, 44]]]]],\n",
       "\n",
       "\n",
       "\n",
       "\n",
       "          [[[[[46, 48, 50],\n",
       "              [52, 54, 56],\n",
       "              [58, 60, 62]]],\n",
       "\n",
       "\n",
       "            [[[64, 66, 68],\n",
       "              [70, 72, 74],\n",
       "              [76, 78, 80]]],\n",
       "\n",
       "\n",
       "            [[[82, 84, 86],\n",
       "              [88, 90, 92],\n",
       "              [94, 96, 98]]]]]]]]])>"
      ]
     },
     "execution_count": 26,
     "metadata": {},
     "output_type": "execute_result"
    }
   ],
   "source": [
    "tf.random.set_seed(42)\n",
    "x = np.arange(-8,100,2)\n",
    "x = tf.constant(x)\n",
    "x = tf.reshape(x,[1,1,1,2,1,3,1,3,3])\n",
    "x"
   ]
  },
  {
   "cell_type": "code",
   "execution_count": 27,
   "id": "1b6517d3",
   "metadata": {
    "execution": {
     "iopub.execute_input": "2023-11-29T09:32:37.015263Z",
     "iopub.status.busy": "2023-11-29T09:32:37.014513Z",
     "iopub.status.idle": "2023-11-29T09:32:37.023337Z",
     "shell.execute_reply": "2023-11-29T09:32:37.022464Z"
    },
    "papermill": {
     "duration": 0.025792,
     "end_time": "2023-11-29T09:32:37.025393",
     "exception": false,
     "start_time": "2023-11-29T09:32:36.999601",
     "status": "completed"
    },
    "tags": []
   },
   "outputs": [
    {
     "data": {
      "text/plain": [
       "<tf.Tensor: shape=(2, 3, 3, 3), dtype=int64, numpy=\n",
       "array([[[[-8, -6, -4],\n",
       "         [-2,  0,  2],\n",
       "         [ 4,  6,  8]],\n",
       "\n",
       "        [[10, 12, 14],\n",
       "         [16, 18, 20],\n",
       "         [22, 24, 26]],\n",
       "\n",
       "        [[28, 30, 32],\n",
       "         [34, 36, 38],\n",
       "         [40, 42, 44]]],\n",
       "\n",
       "\n",
       "       [[[46, 48, 50],\n",
       "         [52, 54, 56],\n",
       "         [58, 60, 62]],\n",
       "\n",
       "        [[64, 66, 68],\n",
       "         [70, 72, 74],\n",
       "         [76, 78, 80]],\n",
       "\n",
       "        [[82, 84, 86],\n",
       "         [88, 90, 92],\n",
       "         [94, 96, 98]]]])>"
      ]
     },
     "execution_count": 27,
     "metadata": {},
     "output_type": "execute_result"
    }
   ],
   "source": [
    "tf.squeeze(x)"
   ]
  },
  {
   "cell_type": "markdown",
   "id": "31e239c4",
   "metadata": {
    "papermill": {
     "duration": 0.010595,
     "end_time": "2023-11-29T09:32:37.047151",
     "exception": false,
     "start_time": "2023-11-29T09:32:37.036556",
     "status": "completed"
    },
    "tags": []
   },
   "source": [
    "## One_hot encoding of tensors"
   ]
  },
  {
   "cell_type": "markdown",
   "id": "116a6b82",
   "metadata": {
    "papermill": {
     "duration": 0.010658,
     "end_time": "2023-11-29T09:32:37.068890",
     "exception": false,
     "start_time": "2023-11-29T09:32:37.058232",
     "status": "completed"
    },
    "tags": []
   },
   "source": [
    "### Using ` tf.one_hot()`"
   ]
  },
  {
   "cell_type": "code",
   "execution_count": 28,
   "id": "f53bd2f4",
   "metadata": {
    "execution": {
     "iopub.execute_input": "2023-11-29T09:32:37.092968Z",
     "iopub.status.busy": "2023-11-29T09:32:37.092248Z",
     "iopub.status.idle": "2023-11-29T09:32:37.103670Z",
     "shell.execute_reply": "2023-11-29T09:32:37.102814Z"
    },
    "papermill": {
     "duration": 0.025437,
     "end_time": "2023-11-29T09:32:37.105414",
     "exception": false,
     "start_time": "2023-11-29T09:32:37.079977",
     "status": "completed"
    },
    "tags": []
   },
   "outputs": [
    {
     "data": {
      "text/plain": [
       "<tf.Tensor: shape=(2, 4, 4), dtype=int32, numpy=\n",
       "array([[[1, 0, 0, 0],\n",
       "        [0, 1, 0, 0],\n",
       "        [0, 0, 1, 0],\n",
       "        [0, 0, 0, 1]],\n",
       "\n",
       "       [[0, 1, 0, 0],\n",
       "        [0, 0, 0, 1],\n",
       "        [1, 0, 0, 0],\n",
       "        [0, 0, 1, 0]]], dtype=int32)>"
      ]
     },
     "execution_count": 28,
     "metadata": {},
     "output_type": "execute_result"
    }
   ],
   "source": [
    "index = [[0,1,2,3],\n",
    "         [1,3,0,2]]\n",
    "depth = 4\n",
    "one_hot = tf.one_hot(index, depth, on_value = 1, off_value = 0,dtype = tf.int32)\n",
    "one_hot"
   ]
  }
 ],
 "metadata": {
  "kaggle": {
   "accelerator": "none",
   "dataSources": [],
   "dockerImageVersionId": 30587,
   "isGpuEnabled": false,
   "isInternetEnabled": false,
   "language": "python",
   "sourceType": "notebook"
  },
  "kernelspec": {
   "display_name": "Python 3",
   "language": "python",
   "name": "python3"
  },
  "language_info": {
   "codemirror_mode": {
    "name": "ipython",
    "version": 3
   },
   "file_extension": ".py",
   "mimetype": "text/x-python",
   "name": "python",
   "nbconvert_exporter": "python",
   "pygments_lexer": "ipython3",
   "version": "3.10.12"
  },
  "papermill": {
   "default_parameters": {},
   "duration": 20.284721,
   "end_time": "2023-11-29T09:32:40.126179",
   "environment_variables": {},
   "exception": null,
   "input_path": "__notebook__.ipynb",
   "output_path": "__notebook__.ipynb",
   "parameters": {},
   "start_time": "2023-11-29T09:32:19.841458",
   "version": "2.4.0"
  }
 },
 "nbformat": 4,
 "nbformat_minor": 5
}
